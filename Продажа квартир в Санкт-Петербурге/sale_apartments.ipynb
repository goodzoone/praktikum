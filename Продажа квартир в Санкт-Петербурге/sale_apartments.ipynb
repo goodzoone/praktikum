{
 "cells": [
  {
   "cell_type": "markdown",
   "metadata": {
    "toc": true
   },
   "source": [
    "<h1>Содержание<span class=\"tocSkip\"></span></h1>\n",
    "<div class=\"toc\"><ul class=\"toc-item\"><li><span><a href=\"#Изучение-данных-из-файла\" data-toc-modified-id=\"Изучение-данных-из-файла-1\"><span class=\"toc-item-num\">1&nbsp;&nbsp;</span>Изучение данных из файла</a></span></li><li><span><a href=\"#Предобработка-данных\" data-toc-modified-id=\"Предобработка-данных-2\"><span class=\"toc-item-num\">2&nbsp;&nbsp;</span>Предобработка данных</a></span></li><li><span><a href=\"#Расчёты-и-добавление-результатов-в-таблицу\" data-toc-modified-id=\"Расчёты-и-добавление-результатов-в-таблицу-3\"><span class=\"toc-item-num\">3&nbsp;&nbsp;</span>Расчёты и добавление результатов в таблицу</a></span></li><li><span><a href=\"#Исследовательский-анализ-данных\" data-toc-modified-id=\"Исследовательский-анализ-данных-4\"><span class=\"toc-item-num\">4&nbsp;&nbsp;</span>Исследовательский анализ данных</a></span></li><li><span><a href=\"#Вывод\" data-toc-modified-id=\"Вывод-5\"><span class=\"toc-item-num\">5&nbsp;&nbsp;</span>Вывод</a></span></li></ul></div>"
   ]
  },
  {
   "cell_type": "code",
   "execution_count": 1,
   "metadata": {
    "cellId": "quseh8t666atvdgonytog"
   },
   "outputs": [],
   "source": [
    "# %pip install -q -r requirements.txt"
   ]
  },
  {
   "cell_type": "markdown",
   "metadata": {
    "cellId": "fd0jinnig8jwmw3mlohik"
   },
   "source": [
    "## Изучение данных из файла"
   ]
  },
  {
   "cell_type": "markdown",
   "metadata": {
    "cellId": "xelv6gw3mgy4fl958e08g"
   },
   "source": [
    "Импортируем библиотеку pandas и выведем первые строки таблицы методом head():"
   ]
  },
  {
   "cell_type": "code",
   "execution_count": 33,
   "metadata": {
    "cellId": "4xwk173qm8r52z9q5qg88w"
   },
   "outputs": [
    {
     "data": {
      "text/html": [
       "<div>\n",
       "<style scoped>\n",
       "    .dataframe tbody tr th:only-of-type {\n",
       "        vertical-align: middle;\n",
       "    }\n",
       "\n",
       "    .dataframe tbody tr th {\n",
       "        vertical-align: top;\n",
       "    }\n",
       "\n",
       "    .dataframe thead th {\n",
       "        text-align: right;\n",
       "    }\n",
       "</style>\n",
       "<table border=\"1\" class=\"dataframe\">\n",
       "  <thead>\n",
       "    <tr style=\"text-align: right;\">\n",
       "      <th></th>\n",
       "      <th>total_images</th>\n",
       "      <th>last_price</th>\n",
       "      <th>total_area</th>\n",
       "      <th>first_day_exposition</th>\n",
       "      <th>rooms</th>\n",
       "      <th>ceiling_height</th>\n",
       "      <th>floors_total</th>\n",
       "      <th>living_area</th>\n",
       "      <th>floor</th>\n",
       "      <th>is_apartment</th>\n",
       "      <th>...</th>\n",
       "      <th>kitchen_area</th>\n",
       "      <th>balcony</th>\n",
       "      <th>locality_name</th>\n",
       "      <th>airports_nearest</th>\n",
       "      <th>cityCenters_nearest</th>\n",
       "      <th>parks_around3000</th>\n",
       "      <th>parks_nearest</th>\n",
       "      <th>ponds_around3000</th>\n",
       "      <th>ponds_nearest</th>\n",
       "      <th>days_exposition</th>\n",
       "    </tr>\n",
       "  </thead>\n",
       "  <tbody>\n",
       "    <tr>\n",
       "      <td>0</td>\n",
       "      <td>20</td>\n",
       "      <td>13000000.0</td>\n",
       "      <td>108.0</td>\n",
       "      <td>2019-03-07T00:00:00</td>\n",
       "      <td>3</td>\n",
       "      <td>2.70</td>\n",
       "      <td>16.0</td>\n",
       "      <td>51.0</td>\n",
       "      <td>8</td>\n",
       "      <td>NaN</td>\n",
       "      <td>...</td>\n",
       "      <td>25.0</td>\n",
       "      <td>NaN</td>\n",
       "      <td>Санкт-Петербург</td>\n",
       "      <td>18863.0</td>\n",
       "      <td>16028.0</td>\n",
       "      <td>1.0</td>\n",
       "      <td>482.0</td>\n",
       "      <td>2.0</td>\n",
       "      <td>755.0</td>\n",
       "      <td>NaN</td>\n",
       "    </tr>\n",
       "    <tr>\n",
       "      <td>1</td>\n",
       "      <td>7</td>\n",
       "      <td>3350000.0</td>\n",
       "      <td>40.4</td>\n",
       "      <td>2018-12-04T00:00:00</td>\n",
       "      <td>1</td>\n",
       "      <td>NaN</td>\n",
       "      <td>11.0</td>\n",
       "      <td>18.6</td>\n",
       "      <td>1</td>\n",
       "      <td>NaN</td>\n",
       "      <td>...</td>\n",
       "      <td>11.0</td>\n",
       "      <td>2.0</td>\n",
       "      <td>посёлок Шушары</td>\n",
       "      <td>12817.0</td>\n",
       "      <td>18603.0</td>\n",
       "      <td>0.0</td>\n",
       "      <td>NaN</td>\n",
       "      <td>0.0</td>\n",
       "      <td>NaN</td>\n",
       "      <td>81.0</td>\n",
       "    </tr>\n",
       "    <tr>\n",
       "      <td>2</td>\n",
       "      <td>10</td>\n",
       "      <td>5196000.0</td>\n",
       "      <td>56.0</td>\n",
       "      <td>2015-08-20T00:00:00</td>\n",
       "      <td>2</td>\n",
       "      <td>NaN</td>\n",
       "      <td>5.0</td>\n",
       "      <td>34.3</td>\n",
       "      <td>4</td>\n",
       "      <td>NaN</td>\n",
       "      <td>...</td>\n",
       "      <td>8.3</td>\n",
       "      <td>0.0</td>\n",
       "      <td>Санкт-Петербург</td>\n",
       "      <td>21741.0</td>\n",
       "      <td>13933.0</td>\n",
       "      <td>1.0</td>\n",
       "      <td>90.0</td>\n",
       "      <td>2.0</td>\n",
       "      <td>574.0</td>\n",
       "      <td>558.0</td>\n",
       "    </tr>\n",
       "    <tr>\n",
       "      <td>3</td>\n",
       "      <td>0</td>\n",
       "      <td>64900000.0</td>\n",
       "      <td>159.0</td>\n",
       "      <td>2015-07-24T00:00:00</td>\n",
       "      <td>3</td>\n",
       "      <td>NaN</td>\n",
       "      <td>14.0</td>\n",
       "      <td>NaN</td>\n",
       "      <td>9</td>\n",
       "      <td>NaN</td>\n",
       "      <td>...</td>\n",
       "      <td>NaN</td>\n",
       "      <td>0.0</td>\n",
       "      <td>Санкт-Петербург</td>\n",
       "      <td>28098.0</td>\n",
       "      <td>6800.0</td>\n",
       "      <td>2.0</td>\n",
       "      <td>84.0</td>\n",
       "      <td>3.0</td>\n",
       "      <td>234.0</td>\n",
       "      <td>424.0</td>\n",
       "    </tr>\n",
       "    <tr>\n",
       "      <td>4</td>\n",
       "      <td>2</td>\n",
       "      <td>10000000.0</td>\n",
       "      <td>100.0</td>\n",
       "      <td>2018-06-19T00:00:00</td>\n",
       "      <td>2</td>\n",
       "      <td>3.03</td>\n",
       "      <td>14.0</td>\n",
       "      <td>32.0</td>\n",
       "      <td>13</td>\n",
       "      <td>NaN</td>\n",
       "      <td>...</td>\n",
       "      <td>41.0</td>\n",
       "      <td>NaN</td>\n",
       "      <td>Санкт-Петербург</td>\n",
       "      <td>31856.0</td>\n",
       "      <td>8098.0</td>\n",
       "      <td>2.0</td>\n",
       "      <td>112.0</td>\n",
       "      <td>1.0</td>\n",
       "      <td>48.0</td>\n",
       "      <td>121.0</td>\n",
       "    </tr>\n",
       "  </tbody>\n",
       "</table>\n",
       "<p>5 rows × 22 columns</p>\n",
       "</div>"
      ],
      "text/plain": [
       "   total_images  last_price  total_area first_day_exposition  rooms  \\\n",
       "0            20  13000000.0       108.0  2019-03-07T00:00:00      3   \n",
       "1             7   3350000.0        40.4  2018-12-04T00:00:00      1   \n",
       "2            10   5196000.0        56.0  2015-08-20T00:00:00      2   \n",
       "3             0  64900000.0       159.0  2015-07-24T00:00:00      3   \n",
       "4             2  10000000.0       100.0  2018-06-19T00:00:00      2   \n",
       "\n",
       "   ceiling_height  floors_total  living_area  floor is_apartment  ...  \\\n",
       "0            2.70          16.0         51.0      8          NaN  ...   \n",
       "1             NaN          11.0         18.6      1          NaN  ...   \n",
       "2             NaN           5.0         34.3      4          NaN  ...   \n",
       "3             NaN          14.0          NaN      9          NaN  ...   \n",
       "4            3.03          14.0         32.0     13          NaN  ...   \n",
       "\n",
       "   kitchen_area  balcony    locality_name  airports_nearest  \\\n",
       "0          25.0      NaN  Санкт-Петербург           18863.0   \n",
       "1          11.0      2.0   посёлок Шушары           12817.0   \n",
       "2           8.3      0.0  Санкт-Петербург           21741.0   \n",
       "3           NaN      0.0  Санкт-Петербург           28098.0   \n",
       "4          41.0      NaN  Санкт-Петербург           31856.0   \n",
       "\n",
       "  cityCenters_nearest  parks_around3000  parks_nearest  ponds_around3000  \\\n",
       "0             16028.0               1.0          482.0               2.0   \n",
       "1             18603.0               0.0            NaN               0.0   \n",
       "2             13933.0               1.0           90.0               2.0   \n",
       "3              6800.0               2.0           84.0               3.0   \n",
       "4              8098.0               2.0          112.0               1.0   \n",
       "\n",
       "   ponds_nearest  days_exposition  \n",
       "0          755.0              NaN  \n",
       "1            NaN             81.0  \n",
       "2          574.0            558.0  \n",
       "3          234.0            424.0  \n",
       "4           48.0            121.0  \n",
       "\n",
       "[5 rows x 22 columns]"
      ]
     },
     "metadata": {},
     "output_type": "display_data"
    }
   ],
   "source": [
    "import pandas as pd\n",
    "data = pd.read_csv('real_estate_data.csv', sep='\\t')\n",
    "data.head()"
   ]
  },
  {
   "cell_type": "markdown",
   "metadata": {
    "cellId": "k5mcyj1nhgrg0mmv8hr9f"
   },
   "source": [
    "Была видна проблема в данных, они склеились в одну строку вместо того, чтобы разбиться по колонкам. Мы прочитаем данные, указав в качестве разделителя знак табуляции (\\t)."
   ]
  },
  {
   "cell_type": "markdown",
   "metadata": {
    "cellId": "9rf9net204iz4vkhygk9ma"
   },
   "source": [
    "В таблице 22 столбца с разными типами данных. Колонки содержат следующие данные:\n",
    "\n",
    "1. airports_nearest — расстояние до ближайшего аэропорта в метрах (м)\n",
    "2. balcony — число балконов\n",
    "3. ceiling_height — высота потолков (м)\n",
    "4. cityCenters_nearest — расстояние до центра города (м)\n",
    "5. days_exposition — сколько дней было размещено объявление (от публикации до снятия)\n",
    "6. first_day_exposition — дата публикации\n",
    "7. floor — этаж\n",
    "8. floors_total — всего этажей в доме\n",
    "9. is_apartment — апартаменты (булев тип)\n",
    "10. kitchen_area — площадь кухни в квадратных метрах (м²)\n",
    "11. last_price — цена на момент снятия с публикации\n",
    "12. living_area — жилая площадь в квадратных метрах (м²)\n",
    "13. locality_name — название населённого пункта\n",
    "14. open_plan — свободная планировка (булев тип)\n",
    "15. parks_around3000 — число парков в радиусе 3 км\n",
    "16. parks_nearest — расстояние до ближайшего парка (м)\n",
    "17. ponds_around3000 — число водоёмов в радиусе 3 км\n",
    "18. ponds_nearest — расстояние до ближайшего водоёма (м)\n",
    "19. rooms — число комнат\n",
    "20. studio — квартира-студия (булев тип)\n",
    "21. total_area — площадь квартиры в квадратных метрах (м²)\n",
    "22. total_images — число фотографий квартиры в объявлении\n",
    "    \n",
    "Пояснение: апартаменты — это нежилые помещения, которые не относятся к жилому фонду, но имеют необходимые условия для проживания."
   ]
  },
  {
   "cell_type": "markdown",
   "metadata": {
    "cellId": "nge25xdyhfsiths1fnb3df"
   },
   "source": [
    "**Вывод**"
   ]
  },
  {
   "cell_type": "markdown",
   "metadata": {
    "cellId": "5nmrgp3ohauzsh3v6a5do"
   },
   "source": [
    "В каждой строке информация  о квартире, которая выставлена на продажу. На данном этапе привели данные в удобный для чтения формат. При первичном анализе таблицы видно, что многие колонки содержат пропущенные значения \"NaN\", ими и займемся."
   ]
  },
  {
   "cell_type": "markdown",
   "metadata": {
    "cellId": "7hwwiolzhpv27egf0g9m66"
   },
   "source": [
    "## Предобработка данных"
   ]
  },
  {
   "cell_type": "markdown",
   "metadata": {
    "cellId": "t4154qgvyo8m3669mi2a2"
   },
   "source": [
    "Изучив данные, видно, что пропуски имеются в следующих столбцах: 'airports_nearest', 'balcony', 'ceiling_height', 'cityCenters_nearest', 'days_exposition', 'floors_total', 'is_apartment', 'kitchen_area', 'living_area', 'locality_name', 'parks_around3000', 'ponds_around3000'. Нужно решить, что с ними делать. \n",
    "\n",
    "Логично предположить, что если человек не указал количество балконов, то, вероятней всего, их нет. Заменим все пропусти в столбце \"балконов\" на нули.\n",
    "\n",
    "Также, скорей всего, если у человека апартаменты - он сообщает об этом. Поэтому заменим все пропущенные данные в 'is_apartment' на False.\n",
    "\n",
    "Данные 'kitchen_area' и 'living_area' заменим на медианные значения по количеству комнат.\n",
    "\n",
    "Остальные данные заменим на медианные значения без дополнительных группировок: 'airports_nearest', 'ceiling_height', 'cityCenters_nearest', 'days_exposition', 'floors_total', 'locality_name', 'parks_around3000', 'ponds_around3000'."
   ]
  },
  {
   "cell_type": "code",
   "execution_count": 34,
   "metadata": {
    "cellId": "z835me6ee4obaz99orpfba"
   },
   "outputs": [
    {
     "data": {
      "text/html": [
       "<div>\n",
       "<style scoped>\n",
       "    .dataframe tbody tr th:only-of-type {\n",
       "        vertical-align: middle;\n",
       "    }\n",
       "\n",
       "    .dataframe tbody tr th {\n",
       "        vertical-align: top;\n",
       "    }\n",
       "\n",
       "    .dataframe thead th {\n",
       "        text-align: right;\n",
       "    }\n",
       "</style>\n",
       "<table border=\"1\" class=\"dataframe\">\n",
       "  <thead>\n",
       "    <tr style=\"text-align: right;\">\n",
       "      <th></th>\n",
       "      <th>total_images</th>\n",
       "      <th>last_price</th>\n",
       "      <th>total_area</th>\n",
       "      <th>first_day_exposition</th>\n",
       "      <th>rooms</th>\n",
       "      <th>ceiling_height</th>\n",
       "      <th>floors_total</th>\n",
       "      <th>living_area</th>\n",
       "      <th>floor</th>\n",
       "      <th>is_apartment</th>\n",
       "      <th>...</th>\n",
       "      <th>kitchen_area</th>\n",
       "      <th>balcony</th>\n",
       "      <th>locality_name</th>\n",
       "      <th>airports_nearest</th>\n",
       "      <th>cityCenters_nearest</th>\n",
       "      <th>parks_around3000</th>\n",
       "      <th>parks_nearest</th>\n",
       "      <th>ponds_around3000</th>\n",
       "      <th>ponds_nearest</th>\n",
       "      <th>days_exposition</th>\n",
       "    </tr>\n",
       "  </thead>\n",
       "  <tbody>\n",
       "    <tr>\n",
       "      <td>0</td>\n",
       "      <td>20</td>\n",
       "      <td>13000000.0</td>\n",
       "      <td>108.0</td>\n",
       "      <td>2019-03-07T00:00:00</td>\n",
       "      <td>3</td>\n",
       "      <td>2.70</td>\n",
       "      <td>16.0</td>\n",
       "      <td>51.0</td>\n",
       "      <td>8</td>\n",
       "      <td>False</td>\n",
       "      <td>...</td>\n",
       "      <td>25.0</td>\n",
       "      <td>0.0</td>\n",
       "      <td>Санкт-Петербург</td>\n",
       "      <td>18863.0</td>\n",
       "      <td>16028.0</td>\n",
       "      <td>1.0</td>\n",
       "      <td>482.0</td>\n",
       "      <td>2.0</td>\n",
       "      <td>755.0</td>\n",
       "      <td>95.0</td>\n",
       "    </tr>\n",
       "    <tr>\n",
       "      <td>1</td>\n",
       "      <td>7</td>\n",
       "      <td>3350000.0</td>\n",
       "      <td>40.4</td>\n",
       "      <td>2018-12-04T00:00:00</td>\n",
       "      <td>1</td>\n",
       "      <td>2.65</td>\n",
       "      <td>11.0</td>\n",
       "      <td>18.6</td>\n",
       "      <td>1</td>\n",
       "      <td>False</td>\n",
       "      <td>...</td>\n",
       "      <td>11.0</td>\n",
       "      <td>2.0</td>\n",
       "      <td>посёлок Шушары</td>\n",
       "      <td>12817.0</td>\n",
       "      <td>18603.0</td>\n",
       "      <td>0.0</td>\n",
       "      <td>454.5</td>\n",
       "      <td>0.0</td>\n",
       "      <td>502.0</td>\n",
       "      <td>81.0</td>\n",
       "    </tr>\n",
       "    <tr>\n",
       "      <td>2</td>\n",
       "      <td>10</td>\n",
       "      <td>5196000.0</td>\n",
       "      <td>56.0</td>\n",
       "      <td>2015-08-20T00:00:00</td>\n",
       "      <td>2</td>\n",
       "      <td>2.65</td>\n",
       "      <td>5.0</td>\n",
       "      <td>34.3</td>\n",
       "      <td>4</td>\n",
       "      <td>False</td>\n",
       "      <td>...</td>\n",
       "      <td>8.3</td>\n",
       "      <td>0.0</td>\n",
       "      <td>Санкт-Петербург</td>\n",
       "      <td>21741.0</td>\n",
       "      <td>13933.0</td>\n",
       "      <td>1.0</td>\n",
       "      <td>90.0</td>\n",
       "      <td>2.0</td>\n",
       "      <td>574.0</td>\n",
       "      <td>558.0</td>\n",
       "    </tr>\n",
       "    <tr>\n",
       "      <td>3</td>\n",
       "      <td>0</td>\n",
       "      <td>64900000.0</td>\n",
       "      <td>159.0</td>\n",
       "      <td>2015-07-24T00:00:00</td>\n",
       "      <td>3</td>\n",
       "      <td>2.65</td>\n",
       "      <td>14.0</td>\n",
       "      <td>45.0</td>\n",
       "      <td>9</td>\n",
       "      <td>False</td>\n",
       "      <td>...</td>\n",
       "      <td>9.5</td>\n",
       "      <td>0.0</td>\n",
       "      <td>Санкт-Петербург</td>\n",
       "      <td>28098.0</td>\n",
       "      <td>6800.0</td>\n",
       "      <td>2.0</td>\n",
       "      <td>84.0</td>\n",
       "      <td>3.0</td>\n",
       "      <td>234.0</td>\n",
       "      <td>424.0</td>\n",
       "    </tr>\n",
       "    <tr>\n",
       "      <td>4</td>\n",
       "      <td>2</td>\n",
       "      <td>10000000.0</td>\n",
       "      <td>100.0</td>\n",
       "      <td>2018-06-19T00:00:00</td>\n",
       "      <td>2</td>\n",
       "      <td>3.03</td>\n",
       "      <td>14.0</td>\n",
       "      <td>32.0</td>\n",
       "      <td>13</td>\n",
       "      <td>False</td>\n",
       "      <td>...</td>\n",
       "      <td>41.0</td>\n",
       "      <td>0.0</td>\n",
       "      <td>Санкт-Петербург</td>\n",
       "      <td>31856.0</td>\n",
       "      <td>8098.0</td>\n",
       "      <td>2.0</td>\n",
       "      <td>112.0</td>\n",
       "      <td>1.0</td>\n",
       "      <td>48.0</td>\n",
       "      <td>121.0</td>\n",
       "    </tr>\n",
       "  </tbody>\n",
       "</table>\n",
       "<p>5 rows × 22 columns</p>\n",
       "</div>"
      ],
      "text/plain": [
       "   total_images  last_price  total_area first_day_exposition  rooms  \\\n",
       "0            20  13000000.0       108.0  2019-03-07T00:00:00      3   \n",
       "1             7   3350000.0        40.4  2018-12-04T00:00:00      1   \n",
       "2            10   5196000.0        56.0  2015-08-20T00:00:00      2   \n",
       "3             0  64900000.0       159.0  2015-07-24T00:00:00      3   \n",
       "4             2  10000000.0       100.0  2018-06-19T00:00:00      2   \n",
       "\n",
       "   ceiling_height  floors_total  living_area  floor  is_apartment  ...  \\\n",
       "0            2.70          16.0         51.0      8         False  ...   \n",
       "1            2.65          11.0         18.6      1         False  ...   \n",
       "2            2.65           5.0         34.3      4         False  ...   \n",
       "3            2.65          14.0         45.0      9         False  ...   \n",
       "4            3.03          14.0         32.0     13         False  ...   \n",
       "\n",
       "   kitchen_area  balcony    locality_name  airports_nearest  \\\n",
       "0          25.0      0.0  Санкт-Петербург           18863.0   \n",
       "1          11.0      2.0   посёлок Шушары           12817.0   \n",
       "2           8.3      0.0  Санкт-Петербург           21741.0   \n",
       "3           9.5      0.0  Санкт-Петербург           28098.0   \n",
       "4          41.0      0.0  Санкт-Петербург           31856.0   \n",
       "\n",
       "  cityCenters_nearest  parks_around3000  parks_nearest  ponds_around3000  \\\n",
       "0             16028.0               1.0          482.0               2.0   \n",
       "1             18603.0               0.0          454.5               0.0   \n",
       "2             13933.0               1.0           90.0               2.0   \n",
       "3              6800.0               2.0           84.0               3.0   \n",
       "4              8098.0               2.0          112.0               1.0   \n",
       "\n",
       "   ponds_nearest  days_exposition  \n",
       "0          755.0             95.0  \n",
       "1          502.0             81.0  \n",
       "2          574.0            558.0  \n",
       "3          234.0            424.0  \n",
       "4           48.0            121.0  \n",
       "\n",
       "[5 rows x 22 columns]"
      ]
     },
     "metadata": {},
     "output_type": "display_data"
    }
   ],
   "source": [
    "# заменяем пропуски в столбце balcony на 0, а пропуски в is_apartment на False\n",
    "data['balcony'] = data['balcony'].fillna(value = 0)\n",
    "data['is_apartment'] = data['is_apartment'].fillna(value = False)\n",
    "\n",
    "# заменяем пропуски в столбцах kitchen_area и living_area на медианы по количеству комнат\n",
    "kitchen_area_median = data.groupby('rooms')['kitchen_area'].median()\n",
    "for rooms in data['rooms'].unique():\n",
    "    kitchen_area_median = data.loc[data['rooms'] == rooms, 'kitchen_area'].median()\n",
    "    data.loc[(data['kitchen_area'].isna()) & (data['rooms'] == rooms), 'kitchen_area'] = kitchen_area_median \n",
    "living_area_median = data.groupby('rooms')['living_area'].median()\n",
    "for rooms in data['rooms'].unique():\n",
    "    living_area_median = data.loc[data['rooms'] == rooms, 'living_area'].median()\n",
    "    data.loc[(data['living_area'].isna()) & (data['rooms'] == rooms), 'living_area'] = living_area_median\n",
    "\n",
    "# удаляем строки, где пропущены значения в столбце kitchen_area и living_area\n",
    "data =data[(~data['locality_name'].isna())]\n",
    "    \n",
    "# заменяем пропуски в столбах airports_nearest, ceiling_height, cityCenters_nearest, days_exposition, floors_total, kitchen_area, parks_around3000, 'parks_nearest', ponds_around3000 и 'ponds_nearest' на медианные значения по столбцу\n",
    "columns = ('airports_nearest', 'ceiling_height', 'cityCenters_nearest', 'days_exposition', 'floors_total', 'kitchen_area', 'parks_around3000', 'parks_nearest', 'ponds_around3000', 'ponds_nearest')\n",
    "for index_abc in columns:\n",
    "    data.loc[data[index_abc].isna(), index_abc] = data[index_abc].median()\n",
    "    \n",
    "data.head()"
   ]
  },
  {
   "cell_type": "markdown",
   "metadata": {
    "cellId": "fu9zqpcljn0z5bagik3zo"
   },
   "source": [
    "Большинство данных дробные (тип float64). Для текущего исследования такая точно ни к чему, поэтому округлим все данные до целого, кроме высоты потолков. Для этого применим цикл, который пройдется списку столбцов и изменит тип данных методом astype():"
   ]
  },
  {
   "cell_type": "code",
   "execution_count": 5,
   "metadata": {
    "cellId": "lz8km6d3hwlf6cai4lerqk"
   },
   "outputs": [
    {
     "data": {
      "text/html": [
       "<div>\n",
       "<style scoped>\n",
       "    .dataframe tbody tr th:only-of-type {\n",
       "        vertical-align: middle;\n",
       "    }\n",
       "\n",
       "    .dataframe tbody tr th {\n",
       "        vertical-align: top;\n",
       "    }\n",
       "\n",
       "    .dataframe thead th {\n",
       "        text-align: right;\n",
       "    }\n",
       "</style>\n",
       "<table border=\"1\" class=\"dataframe\">\n",
       "  <thead>\n",
       "    <tr style=\"text-align: right;\">\n",
       "      <th></th>\n",
       "      <th>total_images</th>\n",
       "      <th>last_price</th>\n",
       "      <th>total_area</th>\n",
       "      <th>first_day_exposition</th>\n",
       "      <th>rooms</th>\n",
       "      <th>ceiling_height</th>\n",
       "      <th>floors_total</th>\n",
       "      <th>living_area</th>\n",
       "      <th>floor</th>\n",
       "      <th>is_apartment</th>\n",
       "      <th>...</th>\n",
       "      <th>kitchen_area</th>\n",
       "      <th>balcony</th>\n",
       "      <th>locality_name</th>\n",
       "      <th>airports_nearest</th>\n",
       "      <th>cityCenters_nearest</th>\n",
       "      <th>parks_around3000</th>\n",
       "      <th>parks_nearest</th>\n",
       "      <th>ponds_around3000</th>\n",
       "      <th>ponds_nearest</th>\n",
       "      <th>days_exposition</th>\n",
       "    </tr>\n",
       "  </thead>\n",
       "  <tbody>\n",
       "    <tr>\n",
       "      <td>0</td>\n",
       "      <td>20</td>\n",
       "      <td>13000000</td>\n",
       "      <td>108</td>\n",
       "      <td>2019-03-07T00:00:00</td>\n",
       "      <td>3</td>\n",
       "      <td>2.70</td>\n",
       "      <td>16</td>\n",
       "      <td>51</td>\n",
       "      <td>8</td>\n",
       "      <td>False</td>\n",
       "      <td>...</td>\n",
       "      <td>25</td>\n",
       "      <td>0</td>\n",
       "      <td>Санкт-Петербург</td>\n",
       "      <td>18863</td>\n",
       "      <td>16028</td>\n",
       "      <td>1</td>\n",
       "      <td>482</td>\n",
       "      <td>2</td>\n",
       "      <td>755</td>\n",
       "      <td>95</td>\n",
       "    </tr>\n",
       "    <tr>\n",
       "      <td>1</td>\n",
       "      <td>7</td>\n",
       "      <td>3350000</td>\n",
       "      <td>40</td>\n",
       "      <td>2018-12-04T00:00:00</td>\n",
       "      <td>1</td>\n",
       "      <td>2.65</td>\n",
       "      <td>11</td>\n",
       "      <td>18</td>\n",
       "      <td>1</td>\n",
       "      <td>False</td>\n",
       "      <td>...</td>\n",
       "      <td>11</td>\n",
       "      <td>2</td>\n",
       "      <td>посёлок Шушары</td>\n",
       "      <td>12817</td>\n",
       "      <td>18603</td>\n",
       "      <td>0</td>\n",
       "      <td>454</td>\n",
       "      <td>0</td>\n",
       "      <td>502</td>\n",
       "      <td>81</td>\n",
       "    </tr>\n",
       "    <tr>\n",
       "      <td>2</td>\n",
       "      <td>10</td>\n",
       "      <td>5196000</td>\n",
       "      <td>56</td>\n",
       "      <td>2015-08-20T00:00:00</td>\n",
       "      <td>2</td>\n",
       "      <td>2.65</td>\n",
       "      <td>5</td>\n",
       "      <td>34</td>\n",
       "      <td>4</td>\n",
       "      <td>False</td>\n",
       "      <td>...</td>\n",
       "      <td>8</td>\n",
       "      <td>0</td>\n",
       "      <td>Санкт-Петербург</td>\n",
       "      <td>21741</td>\n",
       "      <td>13933</td>\n",
       "      <td>1</td>\n",
       "      <td>90</td>\n",
       "      <td>2</td>\n",
       "      <td>574</td>\n",
       "      <td>558</td>\n",
       "    </tr>\n",
       "    <tr>\n",
       "      <td>3</td>\n",
       "      <td>0</td>\n",
       "      <td>64900000</td>\n",
       "      <td>159</td>\n",
       "      <td>2015-07-24T00:00:00</td>\n",
       "      <td>3</td>\n",
       "      <td>2.65</td>\n",
       "      <td>14</td>\n",
       "      <td>45</td>\n",
       "      <td>9</td>\n",
       "      <td>False</td>\n",
       "      <td>...</td>\n",
       "      <td>9</td>\n",
       "      <td>0</td>\n",
       "      <td>Санкт-Петербург</td>\n",
       "      <td>28098</td>\n",
       "      <td>6800</td>\n",
       "      <td>2</td>\n",
       "      <td>84</td>\n",
       "      <td>3</td>\n",
       "      <td>234</td>\n",
       "      <td>424</td>\n",
       "    </tr>\n",
       "    <tr>\n",
       "      <td>4</td>\n",
       "      <td>2</td>\n",
       "      <td>10000000</td>\n",
       "      <td>100</td>\n",
       "      <td>2018-06-19T00:00:00</td>\n",
       "      <td>2</td>\n",
       "      <td>3.03</td>\n",
       "      <td>14</td>\n",
       "      <td>32</td>\n",
       "      <td>13</td>\n",
       "      <td>False</td>\n",
       "      <td>...</td>\n",
       "      <td>41</td>\n",
       "      <td>0</td>\n",
       "      <td>Санкт-Петербург</td>\n",
       "      <td>31856</td>\n",
       "      <td>8098</td>\n",
       "      <td>2</td>\n",
       "      <td>112</td>\n",
       "      <td>1</td>\n",
       "      <td>48</td>\n",
       "      <td>121</td>\n",
       "    </tr>\n",
       "  </tbody>\n",
       "</table>\n",
       "<p>5 rows × 22 columns</p>\n",
       "</div>"
      ],
      "text/plain": [
       "   total_images  last_price  total_area first_day_exposition  rooms  \\\n",
       "0            20    13000000         108  2019-03-07T00:00:00      3   \n",
       "1             7     3350000          40  2018-12-04T00:00:00      1   \n",
       "2            10     5196000          56  2015-08-20T00:00:00      2   \n",
       "3             0    64900000         159  2015-07-24T00:00:00      3   \n",
       "4             2    10000000         100  2018-06-19T00:00:00      2   \n",
       "\n",
       "   ceiling_height  floors_total  living_area  floor  is_apartment  ...  \\\n",
       "0            2.70            16           51      8         False  ...   \n",
       "1            2.65            11           18      1         False  ...   \n",
       "2            2.65             5           34      4         False  ...   \n",
       "3            2.65            14           45      9         False  ...   \n",
       "4            3.03            14           32     13         False  ...   \n",
       "\n",
       "   kitchen_area  balcony    locality_name  airports_nearest  \\\n",
       "0            25        0  Санкт-Петербург             18863   \n",
       "1            11        2   посёлок Шушары             12817   \n",
       "2             8        0  Санкт-Петербург             21741   \n",
       "3             9        0  Санкт-Петербург             28098   \n",
       "4            41        0  Санкт-Петербург             31856   \n",
       "\n",
       "  cityCenters_nearest  parks_around3000  parks_nearest  ponds_around3000  \\\n",
       "0               16028                 1            482                 2   \n",
       "1               18603                 0            454                 0   \n",
       "2               13933                 1             90                 2   \n",
       "3                6800                 2             84                 3   \n",
       "4                8098                 2            112                 1   \n",
       "\n",
       "   ponds_nearest  days_exposition  \n",
       "0            755               95  \n",
       "1            502               81  \n",
       "2            574              558  \n",
       "3            234              424  \n",
       "4             48              121  \n",
       "\n",
       "[5 rows x 22 columns]"
      ]
     },
     "metadata": {},
     "output_type": "display_data"
    }
   ],
   "source": [
    "# создаем список switch, который содержит название столбцов, в которых нужно изменить тип данных\n",
    "# создаем цикл, который проходит по списку switch и меняет данные методом astype()\n",
    "switch = ('last_price', 'days_exposition', 'total_area', 'floors_total', 'living_area', 'kitchen_area', 'balcony', 'airports_nearest', 'cityCenters_nearest', 'parks_around3000', 'parks_nearest', 'ponds_around3000', 'ponds_nearest')\n",
    "for index in switch:\n",
    "    data[index] = data[index].astype('int')\n",
    "data.head()"
   ]
  },
  {
   "cell_type": "markdown",
   "metadata": {
    "cellId": "a1yoer4kjqto7ydvmr4dze"
   },
   "source": [
    "**Вывод**"
   ]
  },
  {
   "cell_type": "markdown",
   "metadata": {
    "cellId": "d4jwi6cstww2qojj9g81m1"
   },
   "source": [
    "На этом этапе были заполнены все пропуски и изменен тип большинства данных. После замены пропусков в kitchen_area и living_area на медианные значения остались пропуски, так как для rooms = 0 все значения пропущенны. Поэтому после замены такие пропуски заменили на медианы по всем данным. Что касается kitchen_area и living_area, было решено удалить строки, где пропущенно такое значение, это небольшая часть данных (49 строк) и это не должно сказаться на дальнейшем исследовании."
   ]
  },
  {
   "cell_type": "markdown",
   "metadata": {
    "cellId": "gn98e1u0pnm2sjhbu2vnc8"
   },
   "source": [
    "## Расчёты и добавление результатов в таблицу"
   ]
  },
  {
   "cell_type": "markdown",
   "metadata": {
    "cellId": "8hu5hlkl9h83motin6bgpq"
   },
   "source": [
    "По задаче нам нужно добавить и рассчитать следующие столбцы:\n",
    "1. цену квадратного метра;\n",
    "2. день недели, месяц и год публикации объявления;\n",
    "3. этаж квартиры; варианты — первый, последний, другой;\n",
    "4. соотношение жилой и общей площади, а также отношение площади кухни к общей.\n",
    "\n",
    "На данном этапе необходимо добавить несколько колонок в данные. Начнем с цены квадратного метра, для этого поделим общую цену на площадь квартиры и полученные данные зафиксируем в столбце price_meter.\n",
    "\n",
    "Затем добавим день, месяц и год публикации объявления, для этого не нужно дополнительный рассчетов - используем метод dt.weekday, dt.month и dt.year. Назовем их соответствующе weekday, month и year.\n",
    "\n",
    "Для определения этажа создадим функцию text_floor, которая будет проверять этаж (floor) и возращать нужное значение.\n",
    "\n",
    "Для определения соотношений жилой площади к общей и площади кухни к общей нужно задействовать два столбца и деление одного на другой."
   ]
  },
  {
   "cell_type": "code",
   "execution_count": 81,
   "metadata": {
    "cellId": "fa2lz0rljofa8gb0o1zdkf"
   },
   "outputs": [],
   "source": [
    "# добавляем новый столбец с ценой за квадратный метр\n",
    "data['price_meter'] = data['last_price'] / data['total_area']\n",
    "\n",
    "# добавляем новыe столбцы weekday,month и year с указанием дня, месяца и года публикации объявления \n",
    "data['weekday'] = pd.to_datetime(data['first_day_exposition'], format='%Y-%m-%d').dt.weekday\n",
    "data['month'] = pd.to_datetime(data['first_day_exposition'], format='%Y-%m-%d').dt.month\n",
    "data['year'] = pd.to_datetime(data['first_day_exposition'], format='%Y-%m-%d').dt.year \n",
    "\n",
    "# написание функции text_floor, которая возвращает значение в зависимости от этажа\n",
    "def text_floor(row):\n",
    "    floor = row['floor']\n",
    "    floors_total = row['floors_total']\n",
    "    if floor == 1:\n",
    "        return 'первый'\n",
    "    elif floor == floors_total:\n",
    "        return 'последний'\n",
    "    else:\n",
    "        return 'другой'\n",
    "# создание нового столбца после применения функции text_floor к столбцу floor\n",
    "data['floor_text'] = data.apply(text_floor, axis = 1)\n",
    "\n",
    "# добавляем новые столбцы share_living и share_kitchen с соотношением жилой к общей площади и площади кухни к общей\n",
    "data['share_living'] = data['living_area'] / data['total_area']\n",
    "data['share_kitchen'] = data['kitchen_area'] / data['total_area']"
   ]
  },
  {
   "cell_type": "markdown",
   "metadata": {
    "cellId": "xtny1joi63tmcu7laz8d"
   },
   "source": [
    "**Вывод**"
   ]
  },
  {
   "cell_type": "markdown",
   "metadata": {
    "cellId": "uwcui47cpfr4dmmoem1d"
   },
   "source": [
    "На этом этапе нужно было добавить несколько столбцов, что мы с успехом выполнили. Для этого понадобилось вспомнить, как создается новый столбец, создается функция с выводом нужного значения и работа с датами."
   ]
  },
  {
   "cell_type": "markdown",
   "metadata": {
    "cellId": "6zkllhciqocr5yk0dl1eo"
   },
   "source": [
    "## Исследовательский анализ данных"
   ]
  },
  {
   "cell_type": "markdown",
   "metadata": {
    "cellId": "pysq70zjhd80ve6b4ozbbx"
   },
   "source": [
    "После предобработки данных можем приступить к анализу. Нам нужно изучить следующие параметры: площадь, цена, число комнат, высота потолков. Также, построить гистограммы для каждого параметра. Нужные нам параметры содержатся в столбцах: total_area, last_price или price_meter, rooms, ceiling_height.\n",
    "\n",
    "Для исследования проверим каждый из нужных параметров методом describe() и построим гистограмму "
   ]
  },
  {
   "cell_type": "code",
   "execution_count": 79,
   "metadata": {
    "cellId": "fasuod4dfnpy0v8tswoqej"
   },
   "outputs": [
    {
     "data": {
      "image/png": "[encoded data removed]",
      "text/plain": [
       "<Figure size 432x288 with 1 Axes>"
      ]
     },
     "metadata": {
      "needs_background": "light"
     },
     "output_type": "display_data"
    },
    {
     "name": "stdout",
     "output_type": "stream",
     "text": [
      "count    23650.000000\n",
      "mean        60.329069\n",
      "std         35.661808\n",
      "min         12.000000\n",
      "25%         40.000000\n",
      "50%         52.000000\n",
      "75%         69.700000\n",
      "max        900.000000\n",
      "Name: total_area, dtype: float64\n",
      "Значения для выброса через IQR: 197.6\n"
     ]
    }
   ],
   "source": [
    "import matplotlib.pyplot as plt\n",
    "# data['total_area'].hist(bins=10, range=(0, 350), figsize=(20,5))\n",
    "total_area_hist = data['total_area'].plot(kind='hist', title='Распределение квартир по площади', range=(0,350))\n",
    "# Добавляем подписи к осям:\n",
    "total_area_hist.set_xlabel('Площадь квартиры, м²')\n",
    "total_area_hist.set_ylabel('Количество объявлений, шт')\n",
    "plt.show()\n",
    "\n",
    "print(data['total_area'].describe())\n",
    "# расчет значений для выброса через IQR\n",
    "print('Значения для выброса через IQR:', data['total_area'].quantile(0.99).round(1))"
   ]
  },
  {
   "cell_type": "markdown",
   "metadata": {
    "cellId": "mbakqgxnoyulie7en4d99"
   },
   "source": [
    "Распределение площади похоже на типичное (нормальное) распределения, с пиком по середине и распределением значений по бокам пика. Если смотреть по графику, то примерное значение для выброса - 175 квадратных метров. Если использовать IQR для выброса, то выбросами являются значения, которые превышают 197.6 квадратных метров. Медиана для площади - 52 квадратных метра."
   ]
  },
  {
   "cell_type": "code",
   "execution_count": 105,
   "metadata": {
    "cellId": "sl116pnlpasf8jnxz344u"
   },
   "outputs": [
    {
     "data": {
      "image/png": "[encoded data removed]",
      "text/plain": [
       "<Figure size 432x288 with 1 Axes>"
      ]
     },
     "metadata": {
      "needs_background": "light"
     },
     "output_type": "display_data"
    },
    {
     "name": "stdout",
     "output_type": "stream",
     "text": [
      "count    2.365000e+04\n",
      "mean     9.943225e+04\n",
      "std      5.033794e+04\n",
      "min      1.118349e+02\n",
      "25%      7.661497e+04\n",
      "50%      9.500000e+04\n",
      "75%      1.142742e+05\n",
      "max      1.907500e+06\n",
      "Name: price_meter, dtype: float64\n",
      "Максимальное значение для выброса через IQR: 267234.2\n",
      "Минимальное значение для выброса через IQR: 23200.9\n"
     ]
    }
   ],
   "source": [
    "# data['price_meter'].hist(bins=10, range=(0, 550000), figsize=(20,5))\n",
    "\n",
    "price_meter_hist = data['price_meter'].plot(kind='hist', title='Распределение квартир по цене за квадратный метр', range=(0,550000))\n",
    "price_meter_hist.set_xlabel('Стоимость за квадратный метр, рублей')\n",
    "price_meter_hist.set_ylabel('Количество объявлений, шт')\n",
    "plt.show()\n",
    "\n",
    "print(data['price_meter'].describe())\n",
    "print('Максимальное значение для выброса через IQR:', data['price_meter'].quantile(0.99).round(1))\n",
    "print('Минимальное значение для выброса через IQR:', data['price_meter'].quantile(0.01).round(1))"
   ]
  },
  {
   "cell_type": "markdown",
   "metadata": {
    "cellId": "8kpiqka8617tpno12rv6rh"
   },
   "source": [
    "Распределение цены за метр тоже напоминает типичное, медиана по цене за квадратный метр - 95000 рублей. По графику примерно значение для выброса 220 тысяч рублей. По IQR такое значение порядка 267,3 тысяч рублей. Также, рассчитаем через квантили минимальные значения для выброса, это значение составило 23,2 тысячи рублей за квадратный метр. Слишком заниженная цена может быть мошеннической. "
   ]
  },
  {
   "cell_type": "code",
   "execution_count": 94,
   "metadata": {
    "cellId": "wii5w1qorlqlx56fg8a8c"
   },
   "outputs": [
    {
     "data": {
      "image/png": "[encoded data removed]",
      "text/plain": [
       "<Figure size 432x288 with 1 Axes>"
      ]
     },
     "metadata": {
      "needs_background": "light"
     },
     "output_type": "display_data"
    },
    {
     "name": "stdout",
     "output_type": "stream",
     "text": [
      "count    23650.000000\n",
      "mean         2.070106\n",
      "std          1.078620\n",
      "min          0.000000\n",
      "25%          1.000000\n",
      "50%          2.000000\n",
      "75%          3.000000\n",
      "max         19.000000\n",
      "Name: rooms, dtype: float64\n",
      "Значения для выброса через IQR: 5.0\n"
     ]
    }
   ],
   "source": [
    "# data['rooms'].hist(bins=10, range=(0, 12), figsize=(20,5))\n",
    "\n",
    "rooms_hist = data['rooms'].plot(kind='hist', title='Распределение квартир по количеству комнат', range=(0,12))\n",
    "rooms_hist.set_xlabel('Количество комнат, шт')\n",
    "rooms_hist.set_ylabel('Количество объявлений, шт')\n",
    "plt.show()\n",
    "\n",
    "print(data['rooms'].describe())\n",
    "print('Значения для выброса через IQR:', data['rooms'].quantile(0.99).round(1))"
   ]
  },
  {
   "cell_type": "markdown",
   "metadata": {
    "cellId": "aii3epsdps44jdlez3i13k"
   },
   "source": [
    "Распределение по количеству комнат не совсем типичное, пик смещен влево. По графику значения свыше 6 кажутся выброса. По IQR - выбросы это квартиры свыше 5 комнатных. Медианное значение по количеству комнат - 2."
   ]
  },
  {
   "cell_type": "code",
   "execution_count": 101,
   "metadata": {
    "cellId": "ksawlw2qppcg1g9p6mzue"
   },
   "outputs": [
    {
     "data": {
      "image/png": "[encoded data removed]",
      "text/plain": [
       "<Figure size 432x288 with 1 Axes>"
      ]
     },
     "metadata": {
      "needs_background": "light"
     },
     "output_type": "display_data"
    },
    {
     "name": "stdout",
     "output_type": "stream",
     "text": [
      "count    23650.000000\n",
      "mean         2.724311\n",
      "std          0.989255\n",
      "min          1.000000\n",
      "25%          2.600000\n",
      "50%          2.650000\n",
      "75%          2.700000\n",
      "max        100.000000\n",
      "Name: ceiling_height, dtype: float64\n",
      "Максимальное значение для выброса через IQR: 3.6\n",
      "Минимальное значение для выброса через IQR: 2.5\n"
     ]
    }
   ],
   "source": [
    "# data['ceiling_height'].hist(bins=20, range=(1,3), figsize=(20,5))\n",
    "\n",
    "ceiling_height_hist = data['ceiling_height'].plot(kind='hist', title='Распределение квартир по высоте потолка', range=(1,5))\n",
    "ceiling_height_hist.set_xlabel('Высота потолка, м')\n",
    "ceiling_height_hist.set_ylabel('Количество объявлений, шт')\n",
    "plt.show()\n",
    "\n",
    "print(data['ceiling_height'].describe())\n",
    "print('Максимальное значение для выброса через IQR:', data['ceiling_height'].quantile(0.99).round(1))\n",
    "print('Минимальное значение для выброса через IQR:', data['ceiling_height'].quantile(0.01).round(1))"
   ]
  },
  {
   "cell_type": "markdown",
   "metadata": {
    "cellId": "cetrvb98xqmpt0h0ff234"
   },
   "source": [
    "Распределение квартир по высоте потолка типичное, есть пик и значения по его бокам. По графику нам нужны значения от 2,4 метров до 3,45 метров. Если использовать IQR, то значения от 2,5 метров до 3,6 метров. Медиана по высоте потолков равна 2,65 метров."
   ]
  },
  {
   "cell_type": "markdown",
   "metadata": {
    "cellId": "tdynro1w0w8mqazh3g348"
   },
   "source": [
    "Под каждым графиком кратко описали характер графика, расчитали медиану и выделили значения для выброса.\n",
    "\n",
    "Если использовать диаграмму размаха и IQR (рассчитываем методом quantile(0.99)), то значения для выбросов будут равны:\n",
    "1. для площади (total_area) - 197,6 квадратных метров.\n",
    "2. для цены за квадратный метр (price_meter) - от 23,2 тысяч рублей до 267,3 тысяч рублей.\n",
    "3. для количества комнат (rooms) - 5 комнат.\n",
    "4. для высоты потолков (ceiling_height) - с 2,5 до 3,6 метров.\n",
    "\n",
    "Если брать значения, исходя из гистограмм. Значения, свыше которых выбросим данные:\n",
    "1. для площади - 175 квадратных метров.\n",
    "2. для цены за квадратный метр - 220 тысяч рублей.\n",
    "3. для количества комнат - 6 комнат.\n",
    "4. для высоты потолков - с 2,4 до 3,45 метров.\n",
    "\n",
    "Воспользуемя более автоматизированным способом и возьмем значения для выброса, рассчитанные через квантиль. Сразу создадим новую таблицу с предложенными ограничениями, для этого используем метод query():"
   ]
  },
  {
   "cell_type": "code",
   "execution_count": 108,
   "metadata": {
    "cellId": "1suk69yg9dpiaroy8l5zb2q"
   },
   "outputs": [],
   "source": [
    "# создаем новую таблицу data_good с предложенными условиями\n",
    "data_good = data.query('total_area<197.6 and 23200<price_meter<267300 and rooms<=5 and 2.5<=ceiling_height<=3.6')"
   ]
  },
  {
   "cell_type": "markdown",
   "metadata": {
    "cellId": "q8enwvdkqfeshzpqtymv"
   },
   "source": [
    "Теперь нужно исследовать еще один параметр - время продажи квартиры (days_exposition). Сначала сравним среднее и медиану этого параметра, затем построим гистограмму."
   ]
  },
  {
   "cell_type": "code",
   "execution_count": 118,
   "metadata": {
    "cellId": "hn2t4s522ik4oxeemet0ik"
   },
   "outputs": [
    {
     "name": "stdout",
     "output_type": "stream",
     "text": [
      "Среднее значение времени продажи: 167.7182383831252\n",
      "Медианное значение времени продажи: 95.0\n"
     ]
    },
    {
     "data": {
      "image/png": "[encoded data removed]",
      "text/plain": [
       "<Figure size 432x288 with 1 Axes>"
      ]
     },
     "metadata": {
      "needs_background": "light"
     },
     "output_type": "display_data"
    }
   ],
   "source": [
    "# рассчитываем среднее значение и медиану days_exposition\n",
    "print('Среднее значение времени продажи:', data_good['days_exposition'].mean())\n",
    "print('Медианное значение времени продажи:', data_good['days_exposition'].median())\n",
    "# строим гистограмму по days_exposition\n",
    "# data['days_exposition'].hist(bins=50, figsize=(20,5))\n",
    "\n",
    "days_exposition_hist = data['days_exposition'].plot(kind='hist', title='Распределение квартир по времени продажи')\n",
    "days_exposition_hist.set_xlabel('Время продажи, дней')\n",
    "days_exposition_hist.set_ylabel('Количество объявлений, шт')\n",
    "plt.show()"
   ]
  },
  {
   "cell_type": "markdown",
   "metadata": {
    "cellId": "bpg76cse8gy6w7pjwn6o8"
   },
   "source": [
    "По этой гистограмме можем определить только слишком долгие продажи, примем это значение как 600 дней. Чтобы проверить слишком быстрые продажи, построим гистограмму по этому же столбцу, но ограничим максимальное значение по оси Х, как 200 дней."
   ]
  },
  {
   "cell_type": "code",
   "execution_count": 119,
   "metadata": {
    "cellId": "crx18fw7qdqfrfvfz6ojw"
   },
   "outputs": [
    {
     "data": {
      "image/png": "[encoded data removed]",
      "text/plain": [
       "<Figure size 432x288 with 1 Axes>"
      ]
     },
     "metadata": {
      "needs_background": "light"
     },
     "output_type": "display_data"
    }
   ],
   "source": [
    "# data['days_exposition'].hist(bins=50, range=(0,200), figsize=(20,5))\n",
    "\n",
    "days_exposition_hist = data['days_exposition'].plot(kind='hist', title='Распределение квартир по времени продажи', range=(0,200))\n",
    "days_exposition_hist.set_xlabel('Время продажи, дней')\n",
    "days_exposition_hist.set_ylabel('Количество объявлений, шт')\n",
    "plt.show()"
   ]
  },
  {
   "cell_type": "markdown",
   "metadata": {
    "cellId": "6ghmfu4ype5fqfhmfn26df"
   },
   "source": [
    "Допустим слишком короткие это значения до первого значительного пика, это значения меньше 40. Получается, в среднем квартира продается за 90 дней. Из этого можно сделать вывод, что медиана корректно описывает данные.\n",
    "\n",
    "Дальше проверим, какие факторы и как влияют на стоимость. Стоимость будем брать за квадратный метр, так как более универсальная и не зависит от площади квартиры. Проанализируем зависит ли цена от площади, числа комнат, удалённости от центра. Для наглядности будем использовать сводные таблицы (метод pivot_table)."
   ]
  },
  {
   "cell_type": "markdown",
   "metadata": {
    "cellId": "t5r6s0drokqxzypr49qp9"
   },
   "source": [
    "Начнем с влияния площади на цену. Так как уникальных значений по площади слишком много, то создадим формальное разделение и посмотрим медианное значение цены для каждого:"
   ]
  },
  {
   "cell_type": "code",
   "execution_count": 14,
   "metadata": {
    "cellId": "jkw5jys8jwlhxy50c4s9g"
   },
   "outputs": [
    {
     "data": {
      "text/plain": [
       "count    23650.000000\n",
       "mean        60.100930\n",
       "std         35.673519\n",
       "min         12.000000\n",
       "25%         40.000000\n",
       "50%         52.000000\n",
       "75%         69.000000\n",
       "max        900.000000\n",
       "Name: total_area, dtype: float64"
      ]
     },
     "metadata": {},
     "output_type": "display_data"
    }
   ],
   "source": [
    "data['total_area'].describe()"
   ]
  },
  {
   "cell_type": "code",
   "execution_count": 112,
   "metadata": {
    "cellId": "83u0njoov9iu1qe0d3rcc"
   },
   "outputs": [
    {
     "data": {
      "text/html": [
       "<div>\n",
       "<style scoped>\n",
       "    .dataframe tbody tr th:only-of-type {\n",
       "        vertical-align: middle;\n",
       "    }\n",
       "\n",
       "    .dataframe tbody tr th {\n",
       "        vertical-align: top;\n",
       "    }\n",
       "\n",
       "    .dataframe thead th {\n",
       "        text-align: right;\n",
       "    }\n",
       "</style>\n",
       "<table border=\"1\" class=\"dataframe\">\n",
       "  <thead>\n",
       "    <tr style=\"text-align: right;\">\n",
       "      <th></th>\n",
       "      <th>price_meter</th>\n",
       "    </tr>\n",
       "    <tr>\n",
       "      <th>square</th>\n",
       "      <th></th>\n",
       "    </tr>\n",
       "  </thead>\n",
       "  <tbody>\n",
       "    <tr>\n",
       "      <td>большая</td>\n",
       "      <td>90909.090909</td>\n",
       "    </tr>\n",
       "    <tr>\n",
       "      <td>маленькая</td>\n",
       "      <td>99666.666667</td>\n",
       "    </tr>\n",
       "    <tr>\n",
       "      <td>очень большая</td>\n",
       "      <td>106135.200241</td>\n",
       "    </tr>\n",
       "    <tr>\n",
       "      <td>очень маленькая</td>\n",
       "      <td>113382.352941</td>\n",
       "    </tr>\n",
       "    <tr>\n",
       "      <td>средняя</td>\n",
       "      <td>90121.317158</td>\n",
       "    </tr>\n",
       "  </tbody>\n",
       "</table>\n",
       "</div>"
      ],
      "text/plain": [
       "                   price_meter\n",
       "square                        \n",
       "большая           90909.090909\n",
       "маленькая         99666.666667\n",
       "очень большая    106135.200241\n",
       "очень маленькая  113382.352941\n",
       "средняя           90121.317158"
      ]
     },
     "metadata": {},
     "output_type": "display_data"
    }
   ],
   "source": [
    "def square(row):\n",
    "    square = row['total_area']\n",
    "    if square <= 20:\n",
    "        return 'очень маленькая'\n",
    "    elif 20 < square <= 40:\n",
    "        return 'маленькая'\n",
    "    elif 40 < square <= 60:\n",
    "        return 'средняя'\n",
    "    elif 60 < square <= 80:\n",
    "        return 'большая'\n",
    "    elif square > 80:\n",
    "        return 'очень большая'\n",
    "data_good['square'] = data_good.apply(square, axis = 1)\n",
    "data_good.pivot_table(index='square', values='price_meter', aggfunc='median')"
   ]
  },
  {
   "cell_type": "markdown",
   "metadata": {
    "cellId": "xzjx4zolzbstbdozewuk7"
   },
   "source": [
    "Что и требовалось доказать. У средних и больших квартир она минимальна (порядка 90 тысяч), у остальных больше - порядка 100-120 тысяч. Таким образом площадь не сильно влияет на цену за квадратный метр.\n",
    "\n",
    "Проверим следующий параметр - количество комнат. Аналогично построим сводную таблицу с медианными значениями цены за квадратный метр."
   ]
  },
  {
   "cell_type": "code",
   "execution_count": 16,
   "metadata": {
    "cellId": "ecdm8mt58hfdx3aaf1ff9h"
   },
   "outputs": [
    {
     "data": {
      "text/html": [
       "<div>\n",
       "<style scoped>\n",
       "    .dataframe tbody tr th:only-of-type {\n",
       "        vertical-align: middle;\n",
       "    }\n",
       "\n",
       "    .dataframe tbody tr th {\n",
       "        vertical-align: top;\n",
       "    }\n",
       "\n",
       "    .dataframe thead th {\n",
       "        text-align: right;\n",
       "    }\n",
       "</style>\n",
       "<table border=\"1\" class=\"dataframe\">\n",
       "  <thead>\n",
       "    <tr style=\"text-align: right;\">\n",
       "      <th></th>\n",
       "      <th>price_meter</th>\n",
       "    </tr>\n",
       "    <tr>\n",
       "      <th>rooms</th>\n",
       "      <th></th>\n",
       "    </tr>\n",
       "  </thead>\n",
       "  <tbody>\n",
       "    <tr>\n",
       "      <td>0</td>\n",
       "      <td>104545.454545</td>\n",
       "    </tr>\n",
       "    <tr>\n",
       "      <td>1</td>\n",
       "      <td>100000.000000</td>\n",
       "    </tr>\n",
       "    <tr>\n",
       "      <td>2</td>\n",
       "      <td>92195.444915</td>\n",
       "    </tr>\n",
       "    <tr>\n",
       "      <td>3</td>\n",
       "      <td>87658.227848</td>\n",
       "    </tr>\n",
       "    <tr>\n",
       "      <td>4</td>\n",
       "      <td>87333.333333</td>\n",
       "    </tr>\n",
       "    <tr>\n",
       "      <td>5</td>\n",
       "      <td>85921.474359</td>\n",
       "    </tr>\n",
       "  </tbody>\n",
       "</table>\n",
       "</div>"
      ],
      "text/plain": [
       "         price_meter\n",
       "rooms               \n",
       "0      104545.454545\n",
       "1      100000.000000\n",
       "2       92195.444915\n",
       "3       87658.227848\n",
       "4       87333.333333\n",
       "5       85921.474359"
      ]
     },
     "metadata": {},
     "output_type": "display_data"
    }
   ],
   "source": [
    "data_good.pivot_table(index='rooms', values='price_meter', aggfunc='median')"
   ]
  },
  {
   "cell_type": "markdown",
   "metadata": {
    "cellId": "38828nd4oixbp4lkmbq5up"
   },
   "source": [
    "Исходя из полученных данных, может сделать вывод, что чем больше комнат, тем дешевле стоимость квадратного метро. В принципе, это логично, можно сказать, что опт выгоднее (но стоит учесть, что общая стоимость будет больше). Количество комнат более явнее влияет на цену, разница между максимальным и минимальным значениями порядка 20 тысяч, разница существенная.\n",
    "\n",
    "Продолжить изучать данные, рассмотрим влияние удаленности от центра на цену. Для этого нам также потребуется дополнительное разделение, так как значения практически все разные в столбце с удаленностью (cityCenters_nearest)."
   ]
  },
  {
   "cell_type": "code",
   "execution_count": 113,
   "metadata": {
    "cellId": "tomplj6s10p2fp0rd6edpm"
   },
   "outputs": [
    {
     "data": {
      "text/html": [
       "<div>\n",
       "<style scoped>\n",
       "    .dataframe tbody tr th:only-of-type {\n",
       "        vertical-align: middle;\n",
       "    }\n",
       "\n",
       "    .dataframe tbody tr th {\n",
       "        vertical-align: top;\n",
       "    }\n",
       "\n",
       "    .dataframe thead th {\n",
       "        text-align: right;\n",
       "    }\n",
       "</style>\n",
       "<table border=\"1\" class=\"dataframe\">\n",
       "  <thead>\n",
       "    <tr style=\"text-align: right;\">\n",
       "      <th></th>\n",
       "      <th>price_meter</th>\n",
       "    </tr>\n",
       "    <tr>\n",
       "      <th>center</th>\n",
       "      <th></th>\n",
       "    </tr>\n",
       "  </thead>\n",
       "  <tbody>\n",
       "    <tr>\n",
       "      <td>близко</td>\n",
       "      <td>115921.816146</td>\n",
       "    </tr>\n",
       "    <tr>\n",
       "      <td>далеко</td>\n",
       "      <td>92105.263158</td>\n",
       "    </tr>\n",
       "    <tr>\n",
       "      <td>очень близко</td>\n",
       "      <td>123462.417080</td>\n",
       "    </tr>\n",
       "    <tr>\n",
       "      <td>очень далеко</td>\n",
       "      <td>82256.169213</td>\n",
       "    </tr>\n",
       "    <tr>\n",
       "      <td>средне</td>\n",
       "      <td>116666.666667</td>\n",
       "    </tr>\n",
       "  </tbody>\n",
       "</table>\n",
       "</div>"
      ],
      "text/plain": [
       "                price_meter\n",
       "center                     \n",
       "близко        115921.816146\n",
       "далеко         92105.263158\n",
       "очень близко  123462.417080\n",
       "очень далеко   82256.169213\n",
       "средне        116666.666667"
      ]
     },
     "metadata": {},
     "output_type": "display_data"
    }
   ],
   "source": [
    "# написание функции center, которая возвращает значение в зависимости от удаленности от центра\n",
    "def center(row):\n",
    "    center = row['cityCenters_nearest']\n",
    "    if center <= 1000:\n",
    "        return 'очень близко'\n",
    "    elif 1000 < center <= 3000:\n",
    "        return 'близко'\n",
    "    elif 3000 < center <= 10000:\n",
    "        return 'средне'\n",
    "    elif 10000 < center <= 20000:\n",
    "        return 'далеко'\n",
    "    elif center > 20000:\n",
    "        return 'очень далеко'\n",
    "# создание нового столбца после применения функции center к столбцу cityCenters_nearest\n",
    "data_good['center'] = data_good.apply(center, axis = 1)\n",
    "\n",
    "# построение сводной таблицы\n",
    "data_good.pivot_table(index='center', values='price_meter', aggfunc='median')"
   ]
  },
  {
   "cell_type": "markdown",
   "metadata": {
    "cellId": "auvydxurhd89i0dqosw0la"
   },
   "source": [
    "Смотря на полученную таблицу, видим, что цена за квадратный метр одинакова для квартир, которые находятся в пределах 10 км от центра. Если расстояние увеличивается, то стоимость снижается, что логично."
   ]
  },
  {
   "cell_type": "markdown",
   "metadata": {
    "cellId": "csizf6i03qv5xihaedi8ur"
   },
   "source": [
    "Теперь перед нами стоит задача изучить зависимость цены от этажа. Для этажа будет 3 варианта: первый, последний или другой, соответствующий столбец мы уже создали (floor_text). Еще в этом блоке изучим зависимость цены от даты размещения: дня недели, месяца и года. Как и в предыдущие разы, воспользуемся сводными таблицами."
   ]
  },
  {
   "cell_type": "code",
   "execution_count": 18,
   "metadata": {
    "cellId": "pxbsrmtjpbnta387ze94wf"
   },
   "outputs": [
    {
     "data": {
      "text/html": [
       "<div>\n",
       "<style scoped>\n",
       "    .dataframe tbody tr th:only-of-type {\n",
       "        vertical-align: middle;\n",
       "    }\n",
       "\n",
       "    .dataframe tbody tr th {\n",
       "        vertical-align: top;\n",
       "    }\n",
       "\n",
       "    .dataframe thead th {\n",
       "        text-align: right;\n",
       "    }\n",
       "</style>\n",
       "<table border=\"1\" class=\"dataframe\">\n",
       "  <thead>\n",
       "    <tr style=\"text-align: right;\">\n",
       "      <th></th>\n",
       "      <th>price_meter</th>\n",
       "    </tr>\n",
       "    <tr>\n",
       "      <th>floor_text</th>\n",
       "      <th></th>\n",
       "    </tr>\n",
       "  </thead>\n",
       "  <tbody>\n",
       "    <tr>\n",
       "      <td>другой</td>\n",
       "      <td>98095.454545</td>\n",
       "    </tr>\n",
       "    <tr>\n",
       "      <td>первый</td>\n",
       "      <td>79756.097561</td>\n",
       "    </tr>\n",
       "    <tr>\n",
       "      <td>последний</td>\n",
       "      <td>85365.853659</td>\n",
       "    </tr>\n",
       "  </tbody>\n",
       "</table>\n",
       "</div>"
      ],
      "text/plain": [
       "             price_meter\n",
       "floor_text              \n",
       "другой      98095.454545\n",
       "первый      79756.097561\n",
       "последний   85365.853659"
      ]
     },
     "metadata": {},
     "output_type": "display_data"
    }
   ],
   "source": [
    "data_good.pivot_table(index='floor_text', values='price_meter', aggfunc='median')"
   ]
  },
  {
   "cell_type": "markdown",
   "metadata": {
    "cellId": "a7je3qmzcuh2if315z244"
   },
   "source": [
    "Да, первый этаж (предсказуемо) самый дешевый, затем идет последний. И самые дорогие - другие. Все как в жизни, люди хотят жить в золотой середине, чуть отдаленно от подвала или крыши. Таким образом, этаж оказывает влияние на ценообразование.\n",
    "\n",
    "Посмотрим как влияет день, месяц и год на цену. Для этого используем столбцы weekday, month и year."
   ]
  },
  {
   "cell_type": "code",
   "execution_count": 19,
   "metadata": {
    "cellId": "xl5vz7ovys9djipcqzgmr5"
   },
   "outputs": [
    {
     "data": {
      "text/html": [
       "<div>\n",
       "<style scoped>\n",
       "    .dataframe tbody tr th:only-of-type {\n",
       "        vertical-align: middle;\n",
       "    }\n",
       "\n",
       "    .dataframe tbody tr th {\n",
       "        vertical-align: top;\n",
       "    }\n",
       "\n",
       "    .dataframe thead th {\n",
       "        text-align: right;\n",
       "    }\n",
       "</style>\n",
       "<table border=\"1\" class=\"dataframe\">\n",
       "  <thead>\n",
       "    <tr style=\"text-align: right;\">\n",
       "      <th></th>\n",
       "      <th>price_meter</th>\n",
       "    </tr>\n",
       "    <tr>\n",
       "      <th>weekday</th>\n",
       "      <th></th>\n",
       "    </tr>\n",
       "  </thead>\n",
       "  <tbody>\n",
       "    <tr>\n",
       "      <td>0</td>\n",
       "      <td>94654.761905</td>\n",
       "    </tr>\n",
       "    <tr>\n",
       "      <td>1</td>\n",
       "      <td>95185.185185</td>\n",
       "    </tr>\n",
       "    <tr>\n",
       "      <td>2</td>\n",
       "      <td>95000.000000</td>\n",
       "    </tr>\n",
       "    <tr>\n",
       "      <td>3</td>\n",
       "      <td>94878.048780</td>\n",
       "    </tr>\n",
       "    <tr>\n",
       "      <td>4</td>\n",
       "      <td>94320.381232</td>\n",
       "    </tr>\n",
       "    <tr>\n",
       "      <td>5</td>\n",
       "      <td>93589.743590</td>\n",
       "    </tr>\n",
       "    <tr>\n",
       "      <td>6</td>\n",
       "      <td>94227.886057</td>\n",
       "    </tr>\n",
       "  </tbody>\n",
       "</table>\n",
       "</div>"
      ],
      "text/plain": [
       "          price_meter\n",
       "weekday              \n",
       "0        94654.761905\n",
       "1        95185.185185\n",
       "2        95000.000000\n",
       "3        94878.048780\n",
       "4        94320.381232\n",
       "5        93589.743590\n",
       "6        94227.886057"
      ]
     },
     "metadata": {},
     "output_type": "display_data"
    }
   ],
   "source": [
    "data_good.pivot_table(index='weekday', values='price_meter', aggfunc='median')"
   ]
  },
  {
   "cell_type": "code",
   "execution_count": 20,
   "metadata": {
    "cellId": "h9z5mzlfyff9s7jtscw64"
   },
   "outputs": [
    {
     "data": {
      "text/html": [
       "<div>\n",
       "<style scoped>\n",
       "    .dataframe tbody tr th:only-of-type {\n",
       "        vertical-align: middle;\n",
       "    }\n",
       "\n",
       "    .dataframe tbody tr th {\n",
       "        vertical-align: top;\n",
       "    }\n",
       "\n",
       "    .dataframe thead th {\n",
       "        text-align: right;\n",
       "    }\n",
       "</style>\n",
       "<table border=\"1\" class=\"dataframe\">\n",
       "  <thead>\n",
       "    <tr style=\"text-align: right;\">\n",
       "      <th></th>\n",
       "      <th>price_meter</th>\n",
       "    </tr>\n",
       "    <tr>\n",
       "      <th>month</th>\n",
       "      <th></th>\n",
       "    </tr>\n",
       "  </thead>\n",
       "  <tbody>\n",
       "    <tr>\n",
       "      <td>1</td>\n",
       "      <td>95171.006607</td>\n",
       "    </tr>\n",
       "    <tr>\n",
       "      <td>2</td>\n",
       "      <td>94262.295082</td>\n",
       "    </tr>\n",
       "    <tr>\n",
       "      <td>3</td>\n",
       "      <td>96103.896104</td>\n",
       "    </tr>\n",
       "    <tr>\n",
       "      <td>4</td>\n",
       "      <td>95614.035088</td>\n",
       "    </tr>\n",
       "    <tr>\n",
       "      <td>5</td>\n",
       "      <td>91982.142857</td>\n",
       "    </tr>\n",
       "    <tr>\n",
       "      <td>6</td>\n",
       "      <td>91851.285190</td>\n",
       "    </tr>\n",
       "    <tr>\n",
       "      <td>7</td>\n",
       "      <td>94565.217391</td>\n",
       "    </tr>\n",
       "    <tr>\n",
       "      <td>8</td>\n",
       "      <td>95495.129870</td>\n",
       "    </tr>\n",
       "    <tr>\n",
       "      <td>9</td>\n",
       "      <td>95945.945946</td>\n",
       "    </tr>\n",
       "    <tr>\n",
       "      <td>10</td>\n",
       "      <td>94444.444444</td>\n",
       "    </tr>\n",
       "    <tr>\n",
       "      <td>11</td>\n",
       "      <td>95625.000000</td>\n",
       "    </tr>\n",
       "    <tr>\n",
       "      <td>12</td>\n",
       "      <td>92940.199336</td>\n",
       "    </tr>\n",
       "  </tbody>\n",
       "</table>\n",
       "</div>"
      ],
      "text/plain": [
       "        price_meter\n",
       "month              \n",
       "1      95171.006607\n",
       "2      94262.295082\n",
       "3      96103.896104\n",
       "4      95614.035088\n",
       "5      91982.142857\n",
       "6      91851.285190\n",
       "7      94565.217391\n",
       "8      95495.129870\n",
       "9      95945.945946\n",
       "10     94444.444444\n",
       "11     95625.000000\n",
       "12     92940.199336"
      ]
     },
     "metadata": {},
     "output_type": "display_data"
    }
   ],
   "source": [
    "data_good.pivot_table(index='month', values='price_meter', aggfunc='median')"
   ]
  },
  {
   "cell_type": "code",
   "execution_count": 114,
   "metadata": {
    "cellId": "q9jfxva226ciu7r81used"
   },
   "outputs": [
    {
     "data": {
      "text/html": [
       "<div>\n",
       "<style scoped>\n",
       "    .dataframe tbody tr th:only-of-type {\n",
       "        vertical-align: middle;\n",
       "    }\n",
       "\n",
       "    .dataframe tbody tr th {\n",
       "        vertical-align: top;\n",
       "    }\n",
       "\n",
       "    .dataframe thead th {\n",
       "        text-align: right;\n",
       "    }\n",
       "</style>\n",
       "<table border=\"1\" class=\"dataframe\">\n",
       "  <thead>\n",
       "    <tr style=\"text-align: right;\">\n",
       "      <th></th>\n",
       "      <th>last_price</th>\n",
       "    </tr>\n",
       "    <tr>\n",
       "      <th>year</th>\n",
       "      <th></th>\n",
       "    </tr>\n",
       "  </thead>\n",
       "  <tbody>\n",
       "    <tr>\n",
       "      <td>2014</td>\n",
       "      <td>7300000.0</td>\n",
       "    </tr>\n",
       "    <tr>\n",
       "      <td>2015</td>\n",
       "      <td>5200000.0</td>\n",
       "    </tr>\n",
       "    <tr>\n",
       "      <td>2016</td>\n",
       "      <td>4480000.0</td>\n",
       "    </tr>\n",
       "    <tr>\n",
       "      <td>2017</td>\n",
       "      <td>4490000.0</td>\n",
       "    </tr>\n",
       "    <tr>\n",
       "      <td>2018</td>\n",
       "      <td>4550000.0</td>\n",
       "    </tr>\n",
       "    <tr>\n",
       "      <td>2019</td>\n",
       "      <td>5000000.0</td>\n",
       "    </tr>\n",
       "  </tbody>\n",
       "</table>\n",
       "</div>"
      ],
      "text/plain": [
       "      last_price\n",
       "year            \n",
       "2014   7300000.0\n",
       "2015   5200000.0\n",
       "2016   4480000.0\n",
       "2017   4490000.0\n",
       "2018   4550000.0\n",
       "2019   5000000.0"
      ]
     },
     "metadata": {},
     "output_type": "display_data"
    }
   ],
   "source": [
    "data_good.pivot_table(index='year', values='last_price', aggfunc='median')"
   ]
  },
  {
   "cell_type": "markdown",
   "metadata": {
    "cellId": "2b8d6fvqr6r70k8g1mct7r"
   },
   "source": [
    "Если взглянуть на 3 полученные таблицы, то видно, что день и месяц не оказывают влияние на цену. Продажа квартир актуальна в любой день и месяц. Год повлиял на цену: в 2014 году цена была максимальна, но затем стала падать и положительный тред стал только после 2017 года."
   ]
  },
  {
   "cell_type": "markdown",
   "metadata": {
    "cellId": "vpclv8ig8ej2ov46bw4x03"
   },
   "source": [
    "Продолжим изучение данных. Необходимо выбрать 10 населённых пунктов с наибольшим числом объявлений и посчитать среднюю цену квадратного метра. Объединим эти требования и построим сводную таблицу, которая группирует значения по местоположению (locality_name) и выводи медиану с количеством объявлений:"
   ]
  },
  {
   "cell_type": "code",
   "execution_count": 115,
   "metadata": {
    "cellId": "1zdhvcd4vz4je2n1tpbojjh"
   },
   "outputs": [
    {
     "data": {
      "text/html": [
       "<div>\n",
       "<style scoped>\n",
       "    .dataframe tbody tr th:only-of-type {\n",
       "        vertical-align: middle;\n",
       "    }\n",
       "\n",
       "    .dataframe tbody tr th {\n",
       "        vertical-align: top;\n",
       "    }\n",
       "\n",
       "    .dataframe thead th {\n",
       "        text-align: right;\n",
       "    }\n",
       "</style>\n",
       "<table border=\"1\" class=\"dataframe\">\n",
       "  <thead>\n",
       "    <tr style=\"text-align: right;\">\n",
       "      <th></th>\n",
       "      <th>median</th>\n",
       "      <th>count</th>\n",
       "    </tr>\n",
       "    <tr>\n",
       "      <th>locality_name</th>\n",
       "      <th></th>\n",
       "      <th></th>\n",
       "    </tr>\n",
       "  </thead>\n",
       "  <tbody>\n",
       "    <tr>\n",
       "      <td>Санкт-Петербург</td>\n",
       "      <td>104233.251304</td>\n",
       "      <td>15056</td>\n",
       "    </tr>\n",
       "    <tr>\n",
       "      <td>посёлок Мурино</td>\n",
       "      <td>85878.462169</td>\n",
       "      <td>520</td>\n",
       "    </tr>\n",
       "    <tr>\n",
       "      <td>посёлок Шушары</td>\n",
       "      <td>76829.268293</td>\n",
       "      <td>439</td>\n",
       "    </tr>\n",
       "    <tr>\n",
       "      <td>Всеволожск</td>\n",
       "      <td>65789.473684</td>\n",
       "      <td>394</td>\n",
       "    </tr>\n",
       "    <tr>\n",
       "      <td>Пушкин</td>\n",
       "      <td>99987.179487</td>\n",
       "      <td>355</td>\n",
       "    </tr>\n",
       "    <tr>\n",
       "      <td>Колпино</td>\n",
       "      <td>74723.748474</td>\n",
       "      <td>336</td>\n",
       "    </tr>\n",
       "    <tr>\n",
       "      <td>посёлок Парголово</td>\n",
       "      <td>91917.591125</td>\n",
       "      <td>325</td>\n",
       "    </tr>\n",
       "    <tr>\n",
       "      <td>Гатчина</td>\n",
       "      <td>67935.710870</td>\n",
       "      <td>302</td>\n",
       "    </tr>\n",
       "    <tr>\n",
       "      <td>деревня Кудрово</td>\n",
       "      <td>91860.465116</td>\n",
       "      <td>299</td>\n",
       "    </tr>\n",
       "    <tr>\n",
       "      <td>Выборг</td>\n",
       "      <td>58233.006089</td>\n",
       "      <td>230</td>\n",
       "    </tr>\n",
       "    <tr>\n",
       "      <td>Петергоф</td>\n",
       "      <td>82182.539683</td>\n",
       "      <td>200</td>\n",
       "    </tr>\n",
       "    <tr>\n",
       "      <td>Сестрорецк</td>\n",
       "      <td>99678.456592</td>\n",
       "      <td>181</td>\n",
       "    </tr>\n",
       "    <tr>\n",
       "      <td>Красное Село</td>\n",
       "      <td>71685.250273</td>\n",
       "      <td>174</td>\n",
       "    </tr>\n",
       "    <tr>\n",
       "      <td>Кудрово</td>\n",
       "      <td>100000.000000</td>\n",
       "      <td>172</td>\n",
       "    </tr>\n",
       "  </tbody>\n",
       "</table>\n",
       "</div>"
      ],
      "text/plain": [
       "                          median  count\n",
       "locality_name                          \n",
       "Санкт-Петербург    104233.251304  15056\n",
       "посёлок Мурино      85878.462169    520\n",
       "посёлок Шушары      76829.268293    439\n",
       "Всеволожск          65789.473684    394\n",
       "Пушкин              99987.179487    355\n",
       "Колпино             74723.748474    336\n",
       "посёлок Парголово   91917.591125    325\n",
       "Гатчина             67935.710870    302\n",
       "деревня Кудрово     91860.465116    299\n",
       "Выборг              58233.006089    230\n",
       "Петергоф            82182.539683    200\n",
       "Сестрорецк          99678.456592    181\n",
       "Красное Село        71685.250273    174\n",
       "Кудрово            100000.000000    172"
      ]
     },
     "metadata": {},
     "output_type": "display_data"
    }
   ],
   "source": [
    "data_good_local = data_good.pivot_table(index='locality_name', values='price_meter', aggfunc=['median', 'count'])\n",
    "data_good_local.columns = ['median', 'count']\n",
    "data_good_local = data_good_local.query('count > 170').sort_values(by='count', ascending=False)\n",
    "data_good_local"
   ]
  },
  {
   "cell_type": "markdown",
   "metadata": {
    "cellId": "dufbs5wvswb6tjvjqc4k37"
   },
   "source": [
    "Не трудно догадаться, что максимальное количество объявлений в Северной столице - порядка 15 тысяц штук. У остальных меньше 520 объявлений и минимальное в нашем срезе - Кудрово с 172 объявлением."
   ]
  },
  {
   "cell_type": "markdown",
   "metadata": {
    "cellId": "imuoiey4axrnsw457q358"
   },
   "source": [
    "Сейчас перед нами задача с определением центра. Необходимо сделать срез квартир, которые находятся в Санкт-Петербурге и рассчитать среднюю стоимость каждого километра. Далее построим график зависимости цены от расстояния от центра, чтобы выяснить где этот \"центр\" заканчивается."
   ]
  },
  {
   "cell_type": "code",
   "execution_count": 120,
   "metadata": {
    "cellId": "iqx0r8psko2wzf1jhcxr5"
   },
   "outputs": [
    {
     "data": {
      "image/png": "[encoded data removed]",
      "text/plain": [
       "<Figure size 864x360 with 1 Axes>"
      ]
     },
     "metadata": {
      "needs_background": "light"
     },
     "output_type": "display_data"
    }
   ],
   "source": [
    "spb = data_good.query('locality_name == \"Санкт-Петербург\"')\n",
    "spb['cityCenters_nearest_km'] = (spb['cityCenters_nearest'] / 1000).astype('int')\n",
    "spb.pivot_table(index='cityCenters_nearest_km', values='price_meter', aggfunc='mean').plot(grid=True, figsize=(12, 5))\n",
    "plt.title('Средняя стоимость за киллометр')\n",
    "plt.xlabel('Расстояние от центра, км')\n",
    "plt.ylabel('Цена за квадратный метр, рублей')\n",
    "plt.show()"
   ]
  },
  {
   "cell_type": "markdown",
   "metadata": {
    "cellId": "4g123wrsq60h7fpl0fmrr"
   },
   "source": [
    "По графику видим резкий провал после 25 километров. Это и будет нашим Центром."
   ]
  },
  {
   "cell_type": "markdown",
   "metadata": {
    "cellId": "7fvdhdxx8zi0lzj0w1rmoc"
   },
   "source": [
    "После найденного Центра, исследуем несколько параметров: площадь, цену, число комнат, высоту потолков."
   ]
  },
  {
   "cell_type": "code",
   "execution_count": 122,
   "metadata": {
    "cellId": "565wtcuo3l5mbbcb5yzz9"
   },
   "outputs": [
    {
     "name": "stdout",
     "output_type": "stream",
     "text": [
      "count    476.000000\n",
      "mean      85.384286\n",
      "std       33.120004\n",
      "min       12.000000\n",
      "25%       61.900000\n",
      "50%       81.000000\n",
      "75%      103.000000\n",
      "max      185.000000\n",
      "Name: total_area, dtype: float64\n"
     ]
    },
    {
     "data": {
      "image/png": "[encoded data removed]",
      "text/plain": [
       "<Figure size 432x288 with 1 Axes>"
      ]
     },
     "metadata": {
      "needs_background": "light"
     },
     "output_type": "display_data"
    }
   ],
   "source": [
    "spb_center = spb.query('cityCenters_nearest_km < 3')\n",
    "print(spb_center['total_area'].describe())\n",
    "# spb_center['total_area'].hist(bins=10, range=(0, 350), figsize=(20,5))\n",
    "\n",
    "spb_center_hist = spb_center['total_area'].plot(kind='hist', title='Распределение квартир в Центре по площади', range=(0, 250))\n",
    "spb_center_hist.set_xlabel('Площадь квартиры, м²')\n",
    "spb_center_hist.set_ylabel('Количество объявлений, шт')\n",
    "plt.show()"
   ]
  },
  {
   "cell_type": "markdown",
   "metadata": {
    "cellId": "6ivta0r056uz2yp0rvv2dg"
   },
   "source": [
    "Сравним полученные данные и отфильтрованные первичные данные. Видим, что значения медианы значительно изменились: была 52 - стала 81; среднее изменилось: было 60,3 - стало 85,0. В целом, данные сопоставимы. Можно сделать промежуточный вывод, что средняя площадь в Центре выше, чем в общей выборке."
   ]
  },
  {
   "cell_type": "code",
   "execution_count": 124,
   "metadata": {
    "cellId": "gzyri4f6ztuw70gdwvox39"
   },
   "outputs": [
    {
     "name": "stdout",
     "output_type": "stream",
     "text": [
      "count       476.000000\n",
      "mean     124623.082370\n",
      "std       38874.655374\n",
      "min       62126.245847\n",
      "25%       95967.268209\n",
      "50%      116225.002385\n",
      "75%      141660.108430\n",
      "max      262032.085561\n",
      "Name: price_meter, dtype: float64\n"
     ]
    },
    {
     "data": {
      "image/png": "[encoded data removed]",
      "text/plain": [
       "<Figure size 432x288 with 1 Axes>"
      ]
     },
     "metadata": {
      "needs_background": "light"
     },
     "output_type": "display_data"
    }
   ],
   "source": [
    "print(spb_center['price_meter'].describe())\n",
    "# spb_center['price_meter'].hist(bins=10, range=(0, 550000), figsize=(20,5))\n",
    "\n",
    "spb_center_hist = spb_center['price_meter'].plot(kind='hist', title='Распределение квартир в Центре по цене за квадратный метр', range=(0, 300000))\n",
    "spb_center_hist.set_xlabel('Стоимость за квадратный метр, рублей')\n",
    "spb_center_hist.set_ylabel('Количество объявлений, шт')\n",
    "plt.show()"
   ]
  },
  {
   "cell_type": "markdown",
   "metadata": {
    "cellId": "jhygpvxav5bstjbsaa2m"
   },
   "source": [
    "Аналогично сравним и параметр цены за квадратный метр. Что касается изменений медианы: была 95 тысяч - стала 116 тысяч; среднее изменилось значительнее: было 95 тысяч - стало 124,5 тысяч. В целом, данные сопоставимы. Также, логично, что в среднем цена в Центре выше."
   ]
  },
  {
   "cell_type": "code",
   "execution_count": 127,
   "metadata": {
    "cellId": "p71lm376ykrsjpr0majpxk"
   },
   "outputs": [
    {
     "name": "stdout",
     "output_type": "stream",
     "text": [
      "count    476.000000\n",
      "mean       2.880252\n",
      "std        1.074268\n",
      "min        0.000000\n",
      "25%        2.000000\n",
      "50%        3.000000\n",
      "75%        4.000000\n",
      "max        5.000000\n",
      "Name: rooms, dtype: float64\n"
     ]
    },
    {
     "data": {
      "image/png": "[encoded data removed]",
      "text/plain": [
       "<Figure size 432x288 with 1 Axes>"
      ]
     },
     "metadata": {
      "needs_background": "light"
     },
     "output_type": "display_data"
    }
   ],
   "source": [
    "print(spb_center['rooms'].describe())\n",
    "# spb_center['rooms'].hist(bins=10, range=(0, 12), figsize=(20,5))\n",
    "\n",
    "spb_center_hist = spb_center['rooms'].plot(kind='hist', title='Распределение квартир в Центре по количеству комнат', range=(0, 6))\n",
    "spb_center_hist.set_xlabel('Количество комнат, шт')\n",
    "spb_center_hist.set_ylabel('Количество объявлений, шт')\n",
    "plt.show()"
   ]
  },
  {
   "cell_type": "markdown",
   "metadata": {
    "cellId": "m5kok7rfvt4vkszn4nkn8"
   },
   "source": [
    "Что касается количества комнат, то для общей выборки медиана была - 2 комнаты, а для Центра стало 3 комнаты. Среднее увеличилось с 2,1 до 2,9. Таким образом, в Центре квартиры крупнее, чем в общей выборке."
   ]
  },
  {
   "cell_type": "code",
   "execution_count": 129,
   "metadata": {
    "cellId": "6tco755nxu651ucykxhjhr"
   },
   "outputs": [
    {
     "name": "stdout",
     "output_type": "stream",
     "text": [
      "count    476.000000\n",
      "mean       2.967290\n",
      "std        0.311162\n",
      "min        2.500000\n",
      "25%        2.650000\n",
      "50%        3.000000\n",
      "75%        3.200000\n",
      "max        3.600000\n",
      "Name: ceiling_height, dtype: float64\n"
     ]
    },
    {
     "data": {
      "image/png": "[encoded data removed]",
      "text/plain": [
       "<Figure size 432x288 with 1 Axes>"
      ]
     },
     "metadata": {
      "needs_background": "light"
     },
     "output_type": "display_data"
    }
   ],
   "source": [
    "print(spb_center['ceiling_height'].describe())\n",
    "# spb_center['ceiling_height'].hist(bins=20, range=(1,3), figsize=(20,5))\n",
    "\n",
    "spb_center_hist = spb_center['ceiling_height'].plot(kind='hist', title='Распределение квартир в Центре по высоте потолка', range=(2, 4))\n",
    "spb_center_hist.set_xlabel('Количество комнат, шт')\n",
    "spb_center_hist.set_ylabel('Количество объявлений, шт')\n",
    "plt.show()"
   ]
  },
  {
   "cell_type": "markdown",
   "metadata": {
    "cellId": "tq3mb8vvqn0j83forsqqzc"
   },
   "source": [
    "Что касается высоты потолков, их также коснулись изменения и значения возросли. Медиана была 2,65 метров, стала 3 метра. Среднее значение возросло с 2,72 метров до 2,97 метров. Таким образом, в Центре квартиры не только дороже и больше, но и \"выше\".\n",
    "\n",
    "Проанализировав данные двух вариантов, можно сделать вывод, что медианы и средние значения увеличелись практически на равные значения, но, как правило, лучше использовать медиану для анализа, в отличии от среднего значения, так как она менее зависима от некоторых параметров. Одно из отличий в значения центрального Питера - максимальные значения, так как мы выбросили аномальные значения. И, конечно же, оказалось, что квартиры в Центре дороже и просторнее, чем по общей выборке."
   ]
  },
  {
   "cell_type": "markdown",
   "metadata": {
    "cellId": "rcc5n6m6vcg73o1l4uuvg"
   },
   "source": [
    "На заключительном этапе проверим влияние следующих параметров: число комнат, этаж, удалённость от центра, дата размещения объявления. Для первых трех параметров используем сводную таблицу, которая группирует значение по каждому параметру и выводит медианное значение цены за квадратный метр. Для даты размещения объявления иследуем знакомую нам гистограмму по количеству дней активности объявления, чтобы сравнить со значениями по всему региону."
   ]
  },
  {
   "cell_type": "code",
   "execution_count": 130,
   "metadata": {
    "cellId": "j2nfectcmal0lh4iiyz9h"
   },
   "outputs": [
    {
     "data": {
      "text/html": [
       "<div>\n",
       "<style scoped>\n",
       "    .dataframe tbody tr th:only-of-type {\n",
       "        vertical-align: middle;\n",
       "    }\n",
       "\n",
       "    .dataframe tbody tr th {\n",
       "        vertical-align: top;\n",
       "    }\n",
       "\n",
       "    .dataframe thead th {\n",
       "        text-align: right;\n",
       "    }\n",
       "</style>\n",
       "<table border=\"1\" class=\"dataframe\">\n",
       "  <thead>\n",
       "    <tr style=\"text-align: right;\">\n",
       "      <th></th>\n",
       "      <th>price_meter</th>\n",
       "    </tr>\n",
       "    <tr>\n",
       "      <th>rooms</th>\n",
       "      <th></th>\n",
       "    </tr>\n",
       "  </thead>\n",
       "  <tbody>\n",
       "    <tr>\n",
       "      <td>0</td>\n",
       "      <td>133421.610169</td>\n",
       "    </tr>\n",
       "    <tr>\n",
       "      <td>1</td>\n",
       "      <td>125962.772786</td>\n",
       "    </tr>\n",
       "    <tr>\n",
       "      <td>2</td>\n",
       "      <td>123529.411765</td>\n",
       "    </tr>\n",
       "    <tr>\n",
       "      <td>3</td>\n",
       "      <td>117797.888386</td>\n",
       "    </tr>\n",
       "    <tr>\n",
       "      <td>4</td>\n",
       "      <td>103337.008308</td>\n",
       "    </tr>\n",
       "    <tr>\n",
       "      <td>5</td>\n",
       "      <td>96482.412060</td>\n",
       "    </tr>\n",
       "  </tbody>\n",
       "</table>\n",
       "</div>"
      ],
      "text/plain": [
       "         price_meter\n",
       "rooms               \n",
       "0      133421.610169\n",
       "1      125962.772786\n",
       "2      123529.411765\n",
       "3      117797.888386\n",
       "4      103337.008308\n",
       "5       96482.412060"
      ]
     },
     "metadata": {},
     "output_type": "display_data"
    }
   ],
   "source": [
    "spb_center.pivot_table(index='rooms', values='price_meter', aggfunc='median')"
   ]
  },
  {
   "cell_type": "markdown",
   "metadata": {
    "cellId": "3gchv0qqf2l0jdjs40kvoh9"
   },
   "source": [
    "Если сравнивать со значениями по всему региону, то тут ожидаемо, что цена выше, все-таки центр. Для студий (0 комнат) медианная цена увеличилась почти на 30 тысяч (была 104,5 тысячи). А для 5-ти комнатых увеличилась на 10 тысяч (была 86 тысяч)."
   ]
  },
  {
   "cell_type": "code",
   "execution_count": 131,
   "metadata": {
    "cellId": "wn9rvxlacpog1gu3j3f6vg"
   },
   "outputs": [
    {
     "data": {
      "text/html": [
       "<div>\n",
       "<style scoped>\n",
       "    .dataframe tbody tr th:only-of-type {\n",
       "        vertical-align: middle;\n",
       "    }\n",
       "\n",
       "    .dataframe tbody tr th {\n",
       "        vertical-align: top;\n",
       "    }\n",
       "\n",
       "    .dataframe thead th {\n",
       "        text-align: right;\n",
       "    }\n",
       "</style>\n",
       "<table border=\"1\" class=\"dataframe\">\n",
       "  <thead>\n",
       "    <tr style=\"text-align: right;\">\n",
       "      <th></th>\n",
       "      <th>price_meter</th>\n",
       "    </tr>\n",
       "    <tr>\n",
       "      <th>floor_text</th>\n",
       "      <th></th>\n",
       "    </tr>\n",
       "  </thead>\n",
       "  <tbody>\n",
       "    <tr>\n",
       "      <td>другой</td>\n",
       "      <td>119058.962264</td>\n",
       "    </tr>\n",
       "    <tr>\n",
       "      <td>первый</td>\n",
       "      <td>105535.087719</td>\n",
       "    </tr>\n",
       "    <tr>\n",
       "      <td>последний</td>\n",
       "      <td>116280.409731</td>\n",
       "    </tr>\n",
       "  </tbody>\n",
       "</table>\n",
       "</div>"
      ],
      "text/plain": [
       "              price_meter\n",
       "floor_text               \n",
       "другой      119058.962264\n",
       "первый      105535.087719\n",
       "последний   116280.409731"
      ]
     },
     "metadata": {},
     "output_type": "display_data"
    }
   ],
   "source": [
    "spb_center.pivot_table(index='floor_text', values='price_meter', aggfunc='median')"
   ]
  },
  {
   "cell_type": "markdown",
   "metadata": {
    "cellId": "ng9svsm3okakvadt0nt62"
   },
   "source": [
    "Центр также сильно сказался и на влиянии этажей на цену. Для первого этажа медианная цена увеличилась на 25 тысяч, для последнего на 30 тысяч, для других на 20 тысячи."
   ]
  },
  {
   "cell_type": "code",
   "execution_count": 132,
   "metadata": {
    "cellId": "jnc3ehwzlpquk8xbsdbanc"
   },
   "outputs": [
    {
     "data": {
      "text/html": [
       "<div>\n",
       "<style scoped>\n",
       "    .dataframe tbody tr th:only-of-type {\n",
       "        vertical-align: middle;\n",
       "    }\n",
       "\n",
       "    .dataframe tbody tr th {\n",
       "        vertical-align: top;\n",
       "    }\n",
       "\n",
       "    .dataframe thead th {\n",
       "        text-align: right;\n",
       "    }\n",
       "</style>\n",
       "<table border=\"1\" class=\"dataframe\">\n",
       "  <thead>\n",
       "    <tr style=\"text-align: right;\">\n",
       "      <th></th>\n",
       "      <th>price_meter</th>\n",
       "    </tr>\n",
       "    <tr>\n",
       "      <th>center</th>\n",
       "      <th></th>\n",
       "    </tr>\n",
       "  </thead>\n",
       "  <tbody>\n",
       "    <tr>\n",
       "      <td>близко</td>\n",
       "      <td>115921.816146</td>\n",
       "    </tr>\n",
       "    <tr>\n",
       "      <td>очень близко</td>\n",
       "      <td>123462.417080</td>\n",
       "    </tr>\n",
       "  </tbody>\n",
       "</table>\n",
       "</div>"
      ],
      "text/plain": [
       "                price_meter\n",
       "center                     \n",
       "близко        115921.816146\n",
       "очень близко  123462.417080"
      ]
     },
     "metadata": {},
     "output_type": "display_data"
    }
   ],
   "source": [
    "spb_center.pivot_table(index='center', values='price_meter', aggfunc='median')"
   ]
  },
  {
   "cell_type": "markdown",
   "metadata": {
    "cellId": "7uxi0xj78wvrxv4iu7z5uk"
   },
   "source": [
    "Эти данные не изменились, но остались только близкие и очень близкие значения, так как они находятся в центре. Это логично, так как в нашем проекте Центр - 3 киллометра."
   ]
  },
  {
   "cell_type": "code",
   "execution_count": 140,
   "metadata": {
    "cellId": "ifkoqkwa30ndu0r40m3d4"
   },
   "outputs": [
    {
     "data": {
      "image/png": "[encoded data removed]",
      "text/plain": [
       "<Figure size 432x288 with 1 Axes>"
      ]
     },
     "metadata": {
      "needs_background": "light"
     },
     "output_type": "display_data"
    }
   ],
   "source": [
    "# spb_center['days_exposition'].hist(bins=50, range=(0,200), figsize=(20,5))\n",
    "\n",
    "spb_center_hist = spb_center['days_exposition'].plot(kind='hist', title='Распределение квартир в Центре по времени продажи', range=(0, 200))\n",
    "spb_center_hist.set_xlabel('Время продажи, дней')\n",
    "spb_center_hist.set_ylabel('Количество объявлений, шт')\n",
    "plt.show()"
   ]
  },
  {
   "cell_type": "markdown",
   "metadata": {
    "cellId": "xcqo862qemhdpzky44oes"
   },
   "source": [
    "График практически идентичен с графиком по всему региону. Пик также порядка 90 дней."
   ]
  },
  {
   "cell_type": "markdown",
   "metadata": {
    "cellId": "y1mqgwhd58aksry1bohy"
   },
   "source": [
    "**Вывод**"
   ]
  },
  {
   "cell_type": "markdown",
   "metadata": {
    "cellId": "j9ki41rg6i8air4q2wvm5"
   },
   "source": [
    "На данном этапе было выполнено несколько шагов: изучены влияние основных параметро на цену (в проекте использовали цену за квадратный метр). Убрали редкие и аномальные значения, нашли края центра Питера и сравнили значения со всем регионом."
   ]
  },
  {
   "cell_type": "markdown",
   "metadata": {
    "cellId": "vnka0ffe75oofot9583r8k"
   },
   "source": [
    "## Вывод"
   ]
  },
  {
   "cell_type": "markdown",
   "metadata": {
    "cellId": "czkkvivchmia38i3f93n0c"
   },
   "source": [
    "Была проделана большая работа, по итогам которой можно выделить несколько моментов: максимальная стоимость квадратного метра выявлена для квартир, которые находятся максимально близко к центру города; находятся не на первом и не на последнем этажах; имеют меньше двух комнат (однушки и студии).\n",
    "\n",
    "Чем дальше находится квартира, тем она дешевле. Чем больше комнат, тем меньше стоимость квадратного метра, но стоит учитывать, что общая сумма значительно увеличивается из-за площади.\n",
    "\n",
    "Квартиры чаще всего продаются за 3 месяца (90 дней).\n",
    "\n",
    "Нет определенной тенденции, когда квартиры выставляют на продажу, это актуально в любой день, месяц и год.\n",
    "\n",
    "По итогам исследования мы доказали, что квартиры в Центре (в пределах 3 км) значительно больше и дороже, чем по всему району. Количественно изменения составили (использовали медианные значения):\n",
    "1. Площадь: для всего региона - 52 квадратных метра, для центра - 81 квадратнный метр.\n",
    "2. Цена за квадратный метр: регион - 95 тысяч рублей, центр - 116 тысяч рублей.\n",
    "3. Количество комнат: регион - двушки (2), центр - трешки (3).\n",
    "4. Высота потолков: регион - 2,65 метров, центр - 3 метра."
   ]
  }
 ],
 "metadata": {
  "ExecuteTimeLog": [
   {
    "duration": 5,
    "start_time": "2021-12-24T18:51:12.509Z"
   },
   {
    "duration": 880,
    "start_time": "2021-12-24T18:51:12.516Z"
   },
   {
    "duration": 3010,
    "start_time": "2021-12-24T18:51:13.400Z"
   },
   {
    "duration": -1879,
    "start_time": "2021-12-24T18:51:18.293Z"
   },
   {
    "duration": -1885,
    "start_time": "2021-12-24T18:51:18.300Z"
   },
   {
    "duration": -1883,
    "start_time": "2021-12-24T18:51:18.301Z"
   },
   {
    "duration": -1884,
    "start_time": "2021-12-24T18:51:18.303Z"
   },
   {
    "duration": -1883,
    "start_time": "2021-12-24T18:51:18.304Z"
   },
   {
    "duration": -1883,
    "start_time": "2021-12-24T18:51:18.305Z"
   },
   {
    "duration": -1886,
    "start_time": "2021-12-24T18:51:18.309Z"
   },
   {
    "duration": -1885,
    "start_time": "2021-12-24T18:51:18.310Z"
   },
   {
    "duration": -1888,
    "start_time": "2021-12-24T18:51:18.314Z"
   },
   {
    "duration": -1889,
    "start_time": "2021-12-24T18:51:18.316Z"
   },
   {
    "duration": -1888,
    "start_time": "2021-12-24T18:51:18.317Z"
   },
   {
    "duration": -1888,
    "start_time": "2021-12-24T18:51:18.318Z"
   },
   {
    "duration": -1888,
    "start_time": "2021-12-24T18:51:18.319Z"
   },
   {
    "duration": -1887,
    "start_time": "2021-12-24T18:51:18.320Z"
   },
   {
    "duration": -1901,
    "start_time": "2021-12-24T18:51:18.335Z"
   },
   {
    "duration": -1901,
    "start_time": "2021-12-24T18:51:18.336Z"
   },
   {
    "duration": -1900,
    "start_time": "2021-12-24T18:51:18.337Z"
   },
   {
    "duration": -1900,
    "start_time": "2021-12-24T18:51:18.338Z"
   },
   {
    "duration": -1899,
    "start_time": "2021-12-24T18:51:18.339Z"
   },
   {
    "duration": -1899,
    "start_time": "2021-12-24T18:51:18.340Z"
   },
   {
    "duration": -1900,
    "start_time": "2021-12-24T18:51:18.342Z"
   },
   {
    "duration": -1938,
    "start_time": "2021-12-24T18:51:18.382Z"
   },
   {
    "duration": -1940,
    "start_time": "2021-12-24T18:51:18.385Z"
   },
   {
    "duration": -1940,
    "start_time": "2021-12-24T18:51:18.386Z"
   },
   {
    "duration": -1939,
    "start_time": "2021-12-24T18:51:18.387Z"
   },
   {
    "duration": -1939,
    "start_time": "2021-12-24T18:51:18.389Z"
   },
   {
    "duration": -1947,
    "start_time": "2021-12-24T18:51:18.400Z"
   },
   {
    "duration": -1946,
    "start_time": "2021-12-24T18:51:18.401Z"
   },
   {
    "duration": 8896,
    "start_time": "2021-12-24T18:52:47.531Z"
   },
   {
    "duration": -1879,
    "start_time": "2021-12-24T18:52:58.310Z"
   },
   {
    "duration": -1884,
    "start_time": "2021-12-24T18:52:58.316Z"
   },
   {
    "duration": -1884,
    "start_time": "2021-12-24T18:52:58.318Z"
   },
   {
    "duration": -1884,
    "start_time": "2021-12-24T18:52:58.319Z"
   },
   {
    "duration": -1884,
    "start_time": "2021-12-24T18:52:58.321Z"
   },
   {
    "duration": -1883,
    "start_time": "2021-12-24T18:52:58.322Z"
   },
   {
    "duration": -1883,
    "start_time": "2021-12-24T18:52:58.323Z"
   },
   {
    "duration": -1882,
    "start_time": "2021-12-24T18:52:58.324Z"
   },
   {
    "duration": -1883,
    "start_time": "2021-12-24T18:52:58.326Z"
   },
   {
    "duration": -1882,
    "start_time": "2021-12-24T18:52:58.327Z"
   },
   {
    "duration": -1881,
    "start_time": "2021-12-24T18:52:58.328Z"
   },
   {
    "duration": -1881,
    "start_time": "2021-12-24T18:52:58.329Z"
   },
   {
    "duration": -1880,
    "start_time": "2021-12-24T18:52:58.330Z"
   },
   {
    "duration": -1880,
    "start_time": "2021-12-24T18:52:58.331Z"
   },
   {
    "duration": -1884,
    "start_time": "2021-12-24T18:52:58.337Z"
   },
   {
    "duration": -1918,
    "start_time": "2021-12-24T18:52:58.372Z"
   },
   {
    "duration": -1927,
    "start_time": "2021-12-24T18:52:58.383Z"
   },
   {
    "duration": -1927,
    "start_time": "2021-12-24T18:52:58.384Z"
   },
   {
    "duration": -1929,
    "start_time": "2021-12-24T18:52:58.387Z"
   },
   {
    "duration": -1929,
    "start_time": "2021-12-24T18:52:58.388Z"
   },
   {
    "duration": -1931,
    "start_time": "2021-12-24T18:52:58.392Z"
   },
   {
    "duration": -1932,
    "start_time": "2021-12-24T18:52:58.394Z"
   },
   {
    "duration": -1934,
    "start_time": "2021-12-24T18:52:58.397Z"
   },
   {
    "duration": -1936,
    "start_time": "2021-12-24T18:52:58.401Z"
   },
   {
    "duration": -1936,
    "start_time": "2021-12-24T18:52:58.402Z"
   },
   {
    "duration": -1882,
    "start_time": "2021-12-24T18:52:58.405Z"
   },
   {
    "duration": -1882,
    "start_time": "2021-12-24T18:52:58.406Z"
   },
   {
    "duration": 19,
    "start_time": "2021-12-24T18:53:49.821Z"
   },
   {
    "duration": 9266,
    "start_time": "2021-12-24T18:54:42.438Z"
   },
   {
    "duration": 2087,
    "start_time": "2021-12-25T09:20:29.174Z"
   },
   {
    "duration": 2587,
    "start_time": "2021-12-25T09:20:31.263Z"
   },
   {
    "duration": -4404,
    "start_time": "2021-12-25T09:20:38.257Z"
   },
   {
    "duration": -4404,
    "start_time": "2021-12-25T09:20:38.258Z"
   },
   {
    "duration": -4405,
    "start_time": "2021-12-25T09:20:38.260Z"
   },
   {
    "duration": -4405,
    "start_time": "2021-12-25T09:20:38.261Z"
   },
   {
    "duration": -4407,
    "start_time": "2021-12-25T09:20:38.264Z"
   },
   {
    "duration": -4407,
    "start_time": "2021-12-25T09:20:38.265Z"
   },
   {
    "duration": -4408,
    "start_time": "2021-12-25T09:20:38.267Z"
   },
   {
    "duration": -4408,
    "start_time": "2021-12-25T09:20:38.268Z"
   },
   {
    "duration": -4409,
    "start_time": "2021-12-25T09:20:38.270Z"
   },
   {
    "duration": -4408,
    "start_time": "2021-12-25T09:20:38.271Z"
   },
   {
    "duration": -4408,
    "start_time": "2021-12-25T09:20:38.272Z"
   },
   {
    "duration": -4408,
    "start_time": "2021-12-25T09:20:38.273Z"
   },
   {
    "duration": -4409,
    "start_time": "2021-12-25T09:20:38.275Z"
   },
   {
    "duration": -4410,
    "start_time": "2021-12-25T09:20:38.276Z"
   },
   {
    "duration": -4414,
    "start_time": "2021-12-25T09:20:38.281Z"
   },
   {
    "duration": -4415,
    "start_time": "2021-12-25T09:20:38.283Z"
   },
   {
    "duration": -4415,
    "start_time": "2021-12-25T09:20:38.284Z"
   },
   {
    "duration": -4416,
    "start_time": "2021-12-25T09:20:38.286Z"
   },
   {
    "duration": -4418,
    "start_time": "2021-12-25T09:20:38.288Z"
   },
   {
    "duration": -4418,
    "start_time": "2021-12-25T09:20:38.289Z"
   },
   {
    "duration": -4420,
    "start_time": "2021-12-25T09:20:38.292Z"
   },
   {
    "duration": -4420,
    "start_time": "2021-12-25T09:20:38.293Z"
   },
   {
    "duration": -4420,
    "start_time": "2021-12-25T09:20:38.294Z"
   },
   {
    "duration": -4421,
    "start_time": "2021-12-25T09:20:38.296Z"
   },
   {
    "duration": -4422,
    "start_time": "2021-12-25T09:20:38.298Z"
   },
   {
    "duration": -4422,
    "start_time": "2021-12-25T09:20:38.299Z"
   },
   {
    "duration": -4422,
    "start_time": "2021-12-25T09:20:38.300Z"
   },
   {
    "duration": -4422,
    "start_time": "2021-12-25T09:20:38.301Z"
   },
   {
    "duration": -4423,
    "start_time": "2021-12-25T09:20:38.302Z"
   },
   {
    "duration": 3,
    "start_time": "2021-12-25T19:51:34.087Z"
   },
   {
    "duration": 663,
    "start_time": "2021-12-25T19:51:34.091Z"
   },
   {
    "duration": 3,
    "start_time": "2021-12-25T19:51:34.756Z"
   },
   {
    "duration": 144,
    "start_time": "2021-12-25T19:51:34.760Z"
   },
   {
    "duration": 39,
    "start_time": "2021-12-25T19:51:34.906Z"
   },
   {
    "duration": 412,
    "start_time": "2021-12-25T19:51:34.946Z"
   },
   {
    "duration": 351,
    "start_time": "2021-12-25T19:51:35.359Z"
   },
   {
    "duration": 271,
    "start_time": "2021-12-25T19:51:35.711Z"
   },
   {
    "duration": 267,
    "start_time": "2021-12-25T19:51:35.985Z"
   },
   {
    "duration": 317,
    "start_time": "2021-12-25T19:51:36.254Z"
   },
   {
    "duration": 18,
    "start_time": "2021-12-25T19:51:36.573Z"
   },
   {
    "duration": 328,
    "start_time": "2021-12-25T19:51:36.592Z"
   },
   {
    "duration": 316,
    "start_time": "2021-12-25T19:51:36.921Z"
   },
   {
    "duration": 7,
    "start_time": "2021-12-25T19:51:37.239Z"
   },
   {
    "duration": 216,
    "start_time": "2021-12-25T19:51:37.247Z"
   },
   {
    "duration": 11,
    "start_time": "2021-12-25T19:51:37.464Z"
   },
   {
    "duration": 210,
    "start_time": "2021-12-25T19:51:37.477Z"
   },
   {
    "duration": 11,
    "start_time": "2021-12-25T19:51:37.688Z"
   },
   {
    "duration": 27,
    "start_time": "2021-12-25T19:51:37.701Z"
   },
   {
    "duration": 11,
    "start_time": "2021-12-25T19:51:37.729Z"
   },
   {
    "duration": 10,
    "start_time": "2021-12-25T19:51:37.742Z"
   },
   {
    "duration": 20,
    "start_time": "2021-12-25T19:51:37.754Z"
   },
   {
    "duration": 237,
    "start_time": "2021-12-25T19:51:37.776Z"
   },
   {
    "duration": 261,
    "start_time": "2021-12-25T19:51:38.014Z"
   },
   {
    "duration": 238,
    "start_time": "2021-12-25T19:51:38.276Z"
   },
   {
    "duration": 248,
    "start_time": "2021-12-25T19:51:38.516Z"
   },
   {
    "duration": 269,
    "start_time": "2021-12-25T19:51:38.767Z"
   },
   {
    "duration": 12,
    "start_time": "2021-12-25T19:51:39.038Z"
   },
   {
    "duration": 11,
    "start_time": "2021-12-25T19:51:39.052Z"
   },
   {
    "duration": 11,
    "start_time": "2021-12-25T19:51:39.065Z"
   },
   {
    "duration": 316,
    "start_time": "2021-12-25T19:51:39.077Z"
   },
   {
    "duration": 22,
    "start_time": "2021-12-25T19:56:54.610Z"
   },
   {
    "duration": 22,
    "start_time": "2021-12-25T19:57:03.630Z"
   },
   {
    "duration": 513,
    "start_time": "2021-12-25T19:59:25.903Z"
   },
   {
    "duration": 152,
    "start_time": "2021-12-25T19:59:41.083Z"
   },
   {
    "duration": 3,
    "start_time": "2022-07-08T12:28:54.781Z"
   }
  ],
  "kernelspec": {
   "display_name": "Python 3 (ipykernel)",
   "language": "python",
   "name": "python3"
  },
  "language_info": {
   "codemirror_mode": {
    "name": "ipython",
    "version": 3
   },
   "file_extension": ".py",
   "mimetype": "text/x-python",
   "name": "python",
   "nbconvert_exporter": "python",
   "pygments_lexer": "ipython3",
   "version": "3.9.5"
  },
  "notebookId": "e1dd24d0-7704-4043-b374-a63c3e315cbd",
  "notebookPath": "b5591300-4332-423d-b69c-46e3b8a8e667 (2).ipynb",
  "toc": {
   "base_numbering": 1,
   "nav_menu": {},
   "number_sections": true,
   "sideBar": true,
   "skip_h1_title": true,
   "title_cell": "Содержание",
   "title_sidebar": "Contents",
   "toc_cell": true,
   "toc_position": {
    "height": "calc(100% - 180px)",
    "left": "10px",
    "top": "150px",
    "width": "292px"
   },
   "toc_section_display": true,
   "toc_window_display": true
  }
 },
 "nbformat": 4,
 "nbformat_minor": 4
}
