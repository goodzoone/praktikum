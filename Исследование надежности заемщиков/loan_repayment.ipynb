{
 "cells": [
  {
   "cell_type": "markdown",
   "metadata": {
    "toc": true
   },
   "source": [
    "<h1>Table of Contents<span class=\"tocSkip\"></span></h1>\n",
    "<div class=\"toc\"><ul class=\"toc-item\"><li><span><a href=\"#Изучение-данных\" data-toc-modified-id=\"Изучение-данных-1\"><span class=\"toc-item-num\">1&nbsp;&nbsp;</span>Изучение данных</a></span></li><li><span><a href=\"#Предобработка-данных\" data-toc-modified-id=\"Предобработка-данных-2\"><span class=\"toc-item-num\">2&nbsp;&nbsp;</span>Предобработка данных</a></span><ul class=\"toc-item\"><li><span><a href=\"#Обработка-пропусков\" data-toc-modified-id=\"Обработка-пропусков-2.1\"><span class=\"toc-item-num\">2.1&nbsp;&nbsp;</span>Обработка пропусков</a></span></li><li><span><a href=\"#Замена-типа-данных\" data-toc-modified-id=\"Замена-типа-данных-2.2\"><span class=\"toc-item-num\">2.2&nbsp;&nbsp;</span>Замена типа данных</a></span></li><li><span><a href=\"#Обработка-дубликатов\" data-toc-modified-id=\"Обработка-дубликатов-2.3\"><span class=\"toc-item-num\">2.3&nbsp;&nbsp;</span>Обработка дубликатов</a></span></li><li><span><a href=\"#Лемматизация\" data-toc-modified-id=\"Лемматизация-2.4\"><span class=\"toc-item-num\">2.4&nbsp;&nbsp;</span>Лемматизация</a></span></li><li><span><a href=\"#Категоризация-данных\" data-toc-modified-id=\"Категоризация-данных-2.5\"><span class=\"toc-item-num\">2.5&nbsp;&nbsp;</span>Категоризация данных</a></span></li></ul></li><li><span><a href=\"#Результаты-анализа\" data-toc-modified-id=\"Результаты-анализа-3\"><span class=\"toc-item-num\">3&nbsp;&nbsp;</span>Результаты анализа</a></span><ul class=\"toc-item\"><li><span><a href=\"#Есть-ли-зависимость-между-наличием-детей-и-возвратом-кредита-в-срок?\" data-toc-modified-id=\"Есть-ли-зависимость-между-наличием-детей-и-возвратом-кредита-в-срок?-3.1\"><span class=\"toc-item-num\">3.1&nbsp;&nbsp;</span>Есть ли зависимость между наличием детей и возвратом кредита в срок?</a></span></li><li><span><a href=\"#Есть-ли-зависимость-между-семейным-положением-и-возвратом-кредита-в-срок?\" data-toc-modified-id=\"Есть-ли-зависимость-между-семейным-положением-и-возвратом-кредита-в-срок?-3.2\"><span class=\"toc-item-num\">3.2&nbsp;&nbsp;</span>Есть ли зависимость между семейным положением и возвратом кредита в срок?</a></span></li><li><span><a href=\"#Есть-ли-зависимость-между-уровнем-дохода-и-возвратом-кредита-в-срок?\" data-toc-modified-id=\"Есть-ли-зависимость-между-уровнем-дохода-и-возвратом-кредита-в-срок?-3.3\"><span class=\"toc-item-num\">3.3&nbsp;&nbsp;</span>Есть ли зависимость между уровнем дохода и возвратом кредита в срок?</a></span></li><li><span><a href=\"#Как-разные-цели-кредита-влияют-на-его-возврат-в-срок?\" data-toc-modified-id=\"Как-разные-цели-кредита-влияют-на-его-возврат-в-срок?-3.4\"><span class=\"toc-item-num\">3.4&nbsp;&nbsp;</span>Как разные цели кредита влияют на его возврат в срок?</a></span></li></ul></li><li><span><a href=\"#Вывод\" data-toc-modified-id=\"Вывод-4\"><span class=\"toc-item-num\">4&nbsp;&nbsp;</span>Вывод</a></span></li></ul></div>"
   ]
  },
  {
   "cell_type": "code",
   "execution_count": 1,
   "metadata": {
    "cellId": "kg37awwdkxpzeamhbbn0h"
   },
   "outputs": [],
   "source": [
    "#%pip install --upgrade pip\n",
    "#%pip install -q -r requirements.txt"
   ]
  },
  {
   "cell_type": "markdown",
   "metadata": {
    "cellId": "t1c4wam07doj74fhz2vfr"
   },
   "source": [
    "# Исследование надёжности заёмщиков"
   ]
  },
  {
   "cell_type": "markdown",
   "metadata": {
    "cellId": "ixz0t4va3owtov3aml4ee"
   },
   "source": [
    "## Изучение данных"
   ]
  },
  {
   "cell_type": "markdown",
   "metadata": {
    "cellId": "wkqx3fomp367vrl48y04j"
   },
   "source": [
    "Для начала откроем файл, выведем первые 10 строк и получим общую информацию о таблице:"
   ]
  },
  {
   "cell_type": "code",
   "execution_count": 2,
   "metadata": {
    "cellId": "gq8u7msb0xvb82i04fk2qf"
   },
   "outputs": [],
   "source": [
    "# импорт библиотеки pandas\n",
    "import pandas as pd\n",
    "\n",
    "# чтение файла с данными и сохранение в переменную data\n",
    "data = pd.read_csv('/datasets/data.csv')"
   ]
  },
  {
   "cell_type": "code",
   "execution_count": 3,
   "metadata": {
    "cellId": "xyyeekqz1qmero100b6ue"
   },
   "outputs": [
    {
     "data": {
      "text/html": [
       "<div>\n",
       "<style scoped>\n",
       "    .dataframe tbody tr th:only-of-type {\n",
       "        vertical-align: middle;\n",
       "    }\n",
       "\n",
       "    .dataframe tbody tr th {\n",
       "        vertical-align: top;\n",
       "    }\n",
       "\n",
       "    .dataframe thead th {\n",
       "        text-align: right;\n",
       "    }\n",
       "</style>\n",
       "<table border=\"1\" class=\"dataframe\">\n",
       "  <thead>\n",
       "    <tr style=\"text-align: right;\">\n",
       "      <th></th>\n",
       "      <th>children</th>\n",
       "      <th>days_employed</th>\n",
       "      <th>dob_years</th>\n",
       "      <th>education</th>\n",
       "      <th>education_id</th>\n",
       "      <th>family_status</th>\n",
       "      <th>family_status_id</th>\n",
       "      <th>gender</th>\n",
       "      <th>income_type</th>\n",
       "      <th>debt</th>\n",
       "      <th>total_income</th>\n",
       "      <th>purpose</th>\n",
       "    </tr>\n",
       "  </thead>\n",
       "  <tbody>\n",
       "    <tr>\n",
       "      <th>0</th>\n",
       "      <td>1</td>\n",
       "      <td>-8437.673028</td>\n",
       "      <td>42</td>\n",
       "      <td>высшее</td>\n",
       "      <td>0</td>\n",
       "      <td>женат / замужем</td>\n",
       "      <td>0</td>\n",
       "      <td>F</td>\n",
       "      <td>сотрудник</td>\n",
       "      <td>0</td>\n",
       "      <td>253875.639453</td>\n",
       "      <td>покупка жилья</td>\n",
       "    </tr>\n",
       "    <tr>\n",
       "      <th>1</th>\n",
       "      <td>1</td>\n",
       "      <td>-4024.803754</td>\n",
       "      <td>36</td>\n",
       "      <td>среднее</td>\n",
       "      <td>1</td>\n",
       "      <td>женат / замужем</td>\n",
       "      <td>0</td>\n",
       "      <td>F</td>\n",
       "      <td>сотрудник</td>\n",
       "      <td>0</td>\n",
       "      <td>112080.014102</td>\n",
       "      <td>приобретение автомобиля</td>\n",
       "    </tr>\n",
       "    <tr>\n",
       "      <th>2</th>\n",
       "      <td>0</td>\n",
       "      <td>-5623.422610</td>\n",
       "      <td>33</td>\n",
       "      <td>Среднее</td>\n",
       "      <td>1</td>\n",
       "      <td>женат / замужем</td>\n",
       "      <td>0</td>\n",
       "      <td>M</td>\n",
       "      <td>сотрудник</td>\n",
       "      <td>0</td>\n",
       "      <td>145885.952297</td>\n",
       "      <td>покупка жилья</td>\n",
       "    </tr>\n",
       "    <tr>\n",
       "      <th>3</th>\n",
       "      <td>3</td>\n",
       "      <td>-4124.747207</td>\n",
       "      <td>32</td>\n",
       "      <td>среднее</td>\n",
       "      <td>1</td>\n",
       "      <td>женат / замужем</td>\n",
       "      <td>0</td>\n",
       "      <td>M</td>\n",
       "      <td>сотрудник</td>\n",
       "      <td>0</td>\n",
       "      <td>267628.550329</td>\n",
       "      <td>дополнительное образование</td>\n",
       "    </tr>\n",
       "    <tr>\n",
       "      <th>4</th>\n",
       "      <td>0</td>\n",
       "      <td>340266.072047</td>\n",
       "      <td>53</td>\n",
       "      <td>среднее</td>\n",
       "      <td>1</td>\n",
       "      <td>гражданский брак</td>\n",
       "      <td>1</td>\n",
       "      <td>F</td>\n",
       "      <td>пенсионер</td>\n",
       "      <td>0</td>\n",
       "      <td>158616.077870</td>\n",
       "      <td>сыграть свадьбу</td>\n",
       "    </tr>\n",
       "    <tr>\n",
       "      <th>5</th>\n",
       "      <td>0</td>\n",
       "      <td>-926.185831</td>\n",
       "      <td>27</td>\n",
       "      <td>высшее</td>\n",
       "      <td>0</td>\n",
       "      <td>гражданский брак</td>\n",
       "      <td>1</td>\n",
       "      <td>M</td>\n",
       "      <td>компаньон</td>\n",
       "      <td>0</td>\n",
       "      <td>255763.565419</td>\n",
       "      <td>покупка жилья</td>\n",
       "    </tr>\n",
       "    <tr>\n",
       "      <th>6</th>\n",
       "      <td>0</td>\n",
       "      <td>-2879.202052</td>\n",
       "      <td>43</td>\n",
       "      <td>высшее</td>\n",
       "      <td>0</td>\n",
       "      <td>женат / замужем</td>\n",
       "      <td>0</td>\n",
       "      <td>F</td>\n",
       "      <td>компаньон</td>\n",
       "      <td>0</td>\n",
       "      <td>240525.971920</td>\n",
       "      <td>операции с жильем</td>\n",
       "    </tr>\n",
       "    <tr>\n",
       "      <th>7</th>\n",
       "      <td>0</td>\n",
       "      <td>-152.779569</td>\n",
       "      <td>50</td>\n",
       "      <td>СРЕДНЕЕ</td>\n",
       "      <td>1</td>\n",
       "      <td>женат / замужем</td>\n",
       "      <td>0</td>\n",
       "      <td>M</td>\n",
       "      <td>сотрудник</td>\n",
       "      <td>0</td>\n",
       "      <td>135823.934197</td>\n",
       "      <td>образование</td>\n",
       "    </tr>\n",
       "    <tr>\n",
       "      <th>8</th>\n",
       "      <td>2</td>\n",
       "      <td>-6929.865299</td>\n",
       "      <td>35</td>\n",
       "      <td>ВЫСШЕЕ</td>\n",
       "      <td>0</td>\n",
       "      <td>гражданский брак</td>\n",
       "      <td>1</td>\n",
       "      <td>F</td>\n",
       "      <td>сотрудник</td>\n",
       "      <td>0</td>\n",
       "      <td>95856.832424</td>\n",
       "      <td>на проведение свадьбы</td>\n",
       "    </tr>\n",
       "    <tr>\n",
       "      <th>9</th>\n",
       "      <td>0</td>\n",
       "      <td>-2188.756445</td>\n",
       "      <td>41</td>\n",
       "      <td>среднее</td>\n",
       "      <td>1</td>\n",
       "      <td>женат / замужем</td>\n",
       "      <td>0</td>\n",
       "      <td>M</td>\n",
       "      <td>сотрудник</td>\n",
       "      <td>0</td>\n",
       "      <td>144425.938277</td>\n",
       "      <td>покупка жилья для семьи</td>\n",
       "    </tr>\n",
       "  </tbody>\n",
       "</table>\n",
       "</div>"
      ],
      "text/plain": [
       "   children  days_employed  dob_years education  education_id  \\\n",
       "0         1   -8437.673028         42    высшее             0   \n",
       "1         1   -4024.803754         36   среднее             1   \n",
       "2         0   -5623.422610         33   Среднее             1   \n",
       "3         3   -4124.747207         32   среднее             1   \n",
       "4         0  340266.072047         53   среднее             1   \n",
       "5         0    -926.185831         27    высшее             0   \n",
       "6         0   -2879.202052         43    высшее             0   \n",
       "7         0    -152.779569         50   СРЕДНЕЕ             1   \n",
       "8         2   -6929.865299         35    ВЫСШЕЕ             0   \n",
       "9         0   -2188.756445         41   среднее             1   \n",
       "\n",
       "      family_status  family_status_id gender income_type  debt   total_income  \\\n",
       "0   женат / замужем                 0      F   сотрудник     0  253875.639453   \n",
       "1   женат / замужем                 0      F   сотрудник     0  112080.014102   \n",
       "2   женат / замужем                 0      M   сотрудник     0  145885.952297   \n",
       "3   женат / замужем                 0      M   сотрудник     0  267628.550329   \n",
       "4  гражданский брак                 1      F   пенсионер     0  158616.077870   \n",
       "5  гражданский брак                 1      M   компаньон     0  255763.565419   \n",
       "6   женат / замужем                 0      F   компаньон     0  240525.971920   \n",
       "7   женат / замужем                 0      M   сотрудник     0  135823.934197   \n",
       "8  гражданский брак                 1      F   сотрудник     0   95856.832424   \n",
       "9   женат / замужем                 0      M   сотрудник     0  144425.938277   \n",
       "\n",
       "                      purpose  \n",
       "0               покупка жилья  \n",
       "1     приобретение автомобиля  \n",
       "2               покупка жилья  \n",
       "3  дополнительное образование  \n",
       "4             сыграть свадьбу  \n",
       "5               покупка жилья  \n",
       "6           операции с жильем  \n",
       "7                 образование  \n",
       "8       на проведение свадьбы  \n",
       "9     покупка жилья для семьи  "
      ]
     },
     "execution_count": 3,
     "metadata": {},
     "output_type": "execute_result"
    }
   ],
   "source": [
    "# вывод первых 10 строк\n",
    "data.head(10)"
   ]
  },
  {
   "cell_type": "markdown",
   "metadata": {
    "cellId": "5fog3hwsfq3eg3w2btkgh4"
   },
   "source": [
    "Получим общую информацию о таблице:"
   ]
  },
  {
   "cell_type": "code",
   "execution_count": 5,
   "metadata": {
    "cellId": "pmtmevy44qfx7zqnj6t80b"
   },
   "outputs": [
    {
     "name": "stdout",
     "output_type": "stream",
     "text": [
      "<class 'pandas.core.frame.DataFrame'>\n",
      "RangeIndex: 21525 entries, 0 to 21524\n",
      "Data columns (total 12 columns):\n",
      "children            21525 non-null int64\n",
      "days_employed       19351 non-null float64\n",
      "dob_years           21525 non-null int64\n",
      "education           21525 non-null object\n",
      "education_id        21525 non-null int64\n",
      "family_status       21525 non-null object\n",
      "family_status_id    21525 non-null int64\n",
      "gender              21525 non-null object\n",
      "income_type         21525 non-null object\n",
      "debt                21525 non-null int64\n",
      "total_income        19351 non-null float64\n",
      "purpose             21525 non-null object\n",
      "dtypes: float64(2), int64(5), object(5)\n",
      "memory usage: 2.0+ MB\n"
     ]
    }
   ],
   "source": [
    "# получение общей информации о данных\n",
    "data.info()"
   ]
  },
  {
   "cell_type": "markdown",
   "metadata": {
    "cellId": "udlxrlr0nebcu878afffe"
   },
   "source": [
    "В таблице 12 столбцов. В таблице разные типы данных - два float64, пять int64 и пять object.\n",
    "\n",
    "Колонки содержат следующие данные:\n",
    "1. children — количество детей в семье\n",
    "2. days_employed — трудовой стаж в днях\n",
    "3. dob_days — возраст клиента в годах\n",
    "4. education — образование клиента\n",
    "5. education_id — идентификатор образования\n",
    "6. family_status — семейное положение\n",
    "7. family_status_id — идентификатор семейного положения\n",
    "8. gender — пол клиента\n",
    "9. income_type — тип занятости\n",
    "10. debt — имел ли задолженность по возврату кредитов\n",
    "11. total_income — доход в месяц\n",
    "12. purpose — цель получения кредита"
   ]
  },
  {
   "cell_type": "markdown",
   "metadata": {
    "cellId": "fy9vfrl4fpkb7xm6byuc"
   },
   "source": [
    "**Вывод**\n",
    "\n",
    "В каждой строке таблицы — данные о платежеспособности клиентов банка. Вероятно, данных достаточно для проверки влияния семейного положение и количества детей клиента на факт погашения кредита в срок. Но встречаются пропуски в данных в столбцах \"трудовой стаж\" и \"доход в месяц\"."
   ]
  },
  {
   "cell_type": "markdown",
   "metadata": {
    "cellId": "11ae1fy077kqxh6o64vjyn"
   },
   "source": [
    "## Предобработка данных"
   ]
  },
  {
   "cell_type": "markdown",
   "metadata": {
    "cellId": "ep7cnjxidzfv2mcg2toy8"
   },
   "source": [
    "### Обработка пропусков"
   ]
  },
  {
   "cell_type": "markdown",
   "metadata": {
    "cellId": "jdsgcgwuej3ldyrky5wxs"
   },
   "source": [
    "При первичном осмотре данных, видно, что значения в столбце \"трудовой стаж\" либо отрицательные, либо более 300 000. Скорее всего, в данных встречается информация из двух систем. Одна из них считает стаж в часах и \"наоборот\". Сделаем отрицательные значения положительные, а большие значения (более 300 000) переведем в дни (поделим на 24):"
   ]
  },
  {
   "cell_type": "code",
   "execution_count": 6,
   "metadata": {
    "cellId": "5g36488euikyf9rzh7uq5"
   },
   "outputs": [],
   "source": [
    "# преобразование отрицательных значений в столбце days_employed на положительные\n",
    "data['days_employed'] = data['days_employed'].apply(abs)\n",
    "# перевод больших значений столбца days_employed в дни\n",
    "data.loc[data['days_employed'] > 300000, 'days_employed'] = data.loc[data['days_employed'] > 300000, 'days_employed'] / 24"
   ]
  },
  {
   "cell_type": "markdown",
   "metadata": {
    "cellId": "5pv62qz7dgi2hktru9sddr"
   },
   "source": [
    "Посчитаем количество пропусков в столбцах \"трудовой стаж\" и \"доход в месяц\"."
   ]
  },
  {
   "cell_type": "code",
   "execution_count": 7,
   "metadata": {
    "cellId": "mlnfjr5lo9jlznhc2guf5"
   },
   "outputs": [
    {
     "name": "stdout",
     "output_type": "stream",
     "text": [
      "Пропусков \"трудового стажа\": 2174\n",
      "Пропусков \"дохода в месяц\": 2174\n"
     ]
    }
   ],
   "source": [
    "# подсчет количества пропусов столбцов days_employed и total_income\n",
    "print('Пропусков \"трудового стажа\":', data['days_employed'].isna().sum())\n",
    "print('Пропусков \"дохода в месяц\":', data['total_income'].isna().sum())"
   ]
  },
  {
   "cell_type": "markdown",
   "metadata": {
    "cellId": "8ixkunwh04vq3kc22bjwgl"
   },
   "source": [
    "Трудовой стаж и доход в месяц пропущенны в 2174 строках. Это 2174/21525=10,1%. Удалять данные нельзя, так как они могут повлиять на выводы исследования. "
   ]
  },
  {
   "cell_type": "markdown",
   "metadata": {
    "cellId": "c3s61jtzy8mz1e3iczg8h"
   },
   "source": [
    "Выведем первые 10 пропущенных значений из столбца \"трудовой стаж\":"
   ]
  },
  {
   "cell_type": "code",
   "execution_count": 8,
   "metadata": {
    "cellId": "o97u5u6yn3bz2yauoya98"
   },
   "outputs": [
    {
     "data": {
      "text/html": [
       "<div>\n",
       "<style scoped>\n",
       "    .dataframe tbody tr th:only-of-type {\n",
       "        vertical-align: middle;\n",
       "    }\n",
       "\n",
       "    .dataframe tbody tr th {\n",
       "        vertical-align: top;\n",
       "    }\n",
       "\n",
       "    .dataframe thead th {\n",
       "        text-align: right;\n",
       "    }\n",
       "</style>\n",
       "<table border=\"1\" class=\"dataframe\">\n",
       "  <thead>\n",
       "    <tr style=\"text-align: right;\">\n",
       "      <th></th>\n",
       "      <th>children</th>\n",
       "      <th>days_employed</th>\n",
       "      <th>dob_years</th>\n",
       "      <th>education</th>\n",
       "      <th>education_id</th>\n",
       "      <th>family_status</th>\n",
       "      <th>family_status_id</th>\n",
       "      <th>gender</th>\n",
       "      <th>income_type</th>\n",
       "      <th>debt</th>\n",
       "      <th>total_income</th>\n",
       "      <th>purpose</th>\n",
       "    </tr>\n",
       "  </thead>\n",
       "  <tbody>\n",
       "    <tr>\n",
       "      <td>12</td>\n",
       "      <td>0</td>\n",
       "      <td>NaN</td>\n",
       "      <td>65</td>\n",
       "      <td>среднее</td>\n",
       "      <td>1</td>\n",
       "      <td>гражданский брак</td>\n",
       "      <td>1</td>\n",
       "      <td>M</td>\n",
       "      <td>пенсионер</td>\n",
       "      <td>0</td>\n",
       "      <td>NaN</td>\n",
       "      <td>сыграть свадьбу</td>\n",
       "    </tr>\n",
       "    <tr>\n",
       "      <td>26</td>\n",
       "      <td>0</td>\n",
       "      <td>NaN</td>\n",
       "      <td>41</td>\n",
       "      <td>среднее</td>\n",
       "      <td>1</td>\n",
       "      <td>женат / замужем</td>\n",
       "      <td>0</td>\n",
       "      <td>M</td>\n",
       "      <td>госслужащий</td>\n",
       "      <td>0</td>\n",
       "      <td>NaN</td>\n",
       "      <td>образование</td>\n",
       "    </tr>\n",
       "    <tr>\n",
       "      <td>29</td>\n",
       "      <td>0</td>\n",
       "      <td>NaN</td>\n",
       "      <td>63</td>\n",
       "      <td>среднее</td>\n",
       "      <td>1</td>\n",
       "      <td>Не женат / не замужем</td>\n",
       "      <td>4</td>\n",
       "      <td>F</td>\n",
       "      <td>пенсионер</td>\n",
       "      <td>0</td>\n",
       "      <td>NaN</td>\n",
       "      <td>строительство жилой недвижимости</td>\n",
       "    </tr>\n",
       "    <tr>\n",
       "      <td>41</td>\n",
       "      <td>0</td>\n",
       "      <td>NaN</td>\n",
       "      <td>50</td>\n",
       "      <td>среднее</td>\n",
       "      <td>1</td>\n",
       "      <td>женат / замужем</td>\n",
       "      <td>0</td>\n",
       "      <td>F</td>\n",
       "      <td>госслужащий</td>\n",
       "      <td>0</td>\n",
       "      <td>NaN</td>\n",
       "      <td>сделка с подержанным автомобилем</td>\n",
       "    </tr>\n",
       "    <tr>\n",
       "      <td>55</td>\n",
       "      <td>0</td>\n",
       "      <td>NaN</td>\n",
       "      <td>54</td>\n",
       "      <td>среднее</td>\n",
       "      <td>1</td>\n",
       "      <td>гражданский брак</td>\n",
       "      <td>1</td>\n",
       "      <td>F</td>\n",
       "      <td>пенсионер</td>\n",
       "      <td>1</td>\n",
       "      <td>NaN</td>\n",
       "      <td>сыграть свадьбу</td>\n",
       "    </tr>\n",
       "    <tr>\n",
       "      <td>65</td>\n",
       "      <td>0</td>\n",
       "      <td>NaN</td>\n",
       "      <td>21</td>\n",
       "      <td>среднее</td>\n",
       "      <td>1</td>\n",
       "      <td>Не женат / не замужем</td>\n",
       "      <td>4</td>\n",
       "      <td>M</td>\n",
       "      <td>компаньон</td>\n",
       "      <td>0</td>\n",
       "      <td>NaN</td>\n",
       "      <td>операции с коммерческой недвижимостью</td>\n",
       "    </tr>\n",
       "    <tr>\n",
       "      <td>67</td>\n",
       "      <td>0</td>\n",
       "      <td>NaN</td>\n",
       "      <td>52</td>\n",
       "      <td>высшее</td>\n",
       "      <td>0</td>\n",
       "      <td>женат / замужем</td>\n",
       "      <td>0</td>\n",
       "      <td>F</td>\n",
       "      <td>пенсионер</td>\n",
       "      <td>0</td>\n",
       "      <td>NaN</td>\n",
       "      <td>покупка жилья для семьи</td>\n",
       "    </tr>\n",
       "    <tr>\n",
       "      <td>72</td>\n",
       "      <td>1</td>\n",
       "      <td>NaN</td>\n",
       "      <td>32</td>\n",
       "      <td>высшее</td>\n",
       "      <td>0</td>\n",
       "      <td>женат / замужем</td>\n",
       "      <td>0</td>\n",
       "      <td>M</td>\n",
       "      <td>госслужащий</td>\n",
       "      <td>0</td>\n",
       "      <td>NaN</td>\n",
       "      <td>операции с коммерческой недвижимостью</td>\n",
       "    </tr>\n",
       "    <tr>\n",
       "      <td>82</td>\n",
       "      <td>2</td>\n",
       "      <td>NaN</td>\n",
       "      <td>50</td>\n",
       "      <td>высшее</td>\n",
       "      <td>0</td>\n",
       "      <td>женат / замужем</td>\n",
       "      <td>0</td>\n",
       "      <td>F</td>\n",
       "      <td>сотрудник</td>\n",
       "      <td>0</td>\n",
       "      <td>NaN</td>\n",
       "      <td>жилье</td>\n",
       "    </tr>\n",
       "    <tr>\n",
       "      <td>83</td>\n",
       "      <td>0</td>\n",
       "      <td>NaN</td>\n",
       "      <td>52</td>\n",
       "      <td>среднее</td>\n",
       "      <td>1</td>\n",
       "      <td>женат / замужем</td>\n",
       "      <td>0</td>\n",
       "      <td>M</td>\n",
       "      <td>сотрудник</td>\n",
       "      <td>0</td>\n",
       "      <td>NaN</td>\n",
       "      <td>жилье</td>\n",
       "    </tr>\n",
       "  </tbody>\n",
       "</table>\n",
       "</div>"
      ],
      "text/plain": [
       "    children  days_employed  dob_years education  education_id  \\\n",
       "12         0            NaN         65   среднее             1   \n",
       "26         0            NaN         41   среднее             1   \n",
       "29         0            NaN         63   среднее             1   \n",
       "41         0            NaN         50   среднее             1   \n",
       "55         0            NaN         54   среднее             1   \n",
       "65         0            NaN         21   среднее             1   \n",
       "67         0            NaN         52    высшее             0   \n",
       "72         1            NaN         32    высшее             0   \n",
       "82         2            NaN         50    высшее             0   \n",
       "83         0            NaN         52   среднее             1   \n",
       "\n",
       "            family_status  family_status_id gender  income_type  debt  \\\n",
       "12       гражданский брак                 1      M    пенсионер     0   \n",
       "26        женат / замужем                 0      M  госслужащий     0   \n",
       "29  Не женат / не замужем                 4      F    пенсионер     0   \n",
       "41        женат / замужем                 0      F  госслужащий     0   \n",
       "55       гражданский брак                 1      F    пенсионер     1   \n",
       "65  Не женат / не замужем                 4      M    компаньон     0   \n",
       "67        женат / замужем                 0      F    пенсионер     0   \n",
       "72        женат / замужем                 0      M  госслужащий     0   \n",
       "82        женат / замужем                 0      F    сотрудник     0   \n",
       "83        женат / замужем                 0      M    сотрудник     0   \n",
       "\n",
       "    total_income                                purpose  \n",
       "12           NaN                        сыграть свадьбу  \n",
       "26           NaN                            образование  \n",
       "29           NaN       строительство жилой недвижимости  \n",
       "41           NaN       сделка с подержанным автомобилем  \n",
       "55           NaN                        сыграть свадьбу  \n",
       "65           NaN  операции с коммерческой недвижимостью  \n",
       "67           NaN                покупка жилья для семьи  \n",
       "72           NaN  операции с коммерческой недвижимостью  \n",
       "82           NaN                                  жилье  \n",
       "83           NaN                                  жилье  "
      ]
     },
     "execution_count": 8,
     "metadata": {},
     "output_type": "execute_result"
    }
   ],
   "source": [
    "# вывод 10 строк из с пропущенными значениями days_employed\n",
    "data[data['days_employed'].isna()].head(10)"
   ]
  },
  {
   "cell_type": "markdown",
   "metadata": {
    "cellId": "g2d98yaz7nslelt7dbcm"
   },
   "source": [
    "Видим, что значения NaN в колонках days_employed и total_income совпадают. Если удалить эти строки из-за пропусков, потеряем важные данные.\n",
    "Чтобы не лишиться строк с важными данными, заполним значения NaN в указанных столбцах медианными значениями:"
   ]
  },
  {
   "cell_type": "markdown",
   "metadata": {
    "cellId": "u8s8qfutouff7nm86ut"
   },
   "source": [
    "**Вывод**"
   ]
  },
  {
   "cell_type": "code",
   "execution_count": 9,
   "metadata": {
    "cellId": "ludy6b7knxpbgqsppxqzrc",
    "scrolled": true
   },
   "outputs": [
    {
     "name": "stdout",
     "output_type": "stream",
     "text": [
      "income_type\n",
      "безработный        131339.751676\n",
      "в декрете           53829.130729\n",
      "госслужащий        150447.935283\n",
      "компаньон          172357.950966\n",
      "пенсионер          118514.486412\n",
      "предприниматель    499163.144947\n",
      "сотрудник          142594.396847\n",
      "студент             98201.625314\n",
      "Name: total_income, dtype: float64 income_type\n",
      "безработный        15267.235531\n",
      "в декрете           3296.759962\n",
      "госслужащий         2689.368353\n",
      "компаньон           1547.382223\n",
      "пенсионер          15217.221094\n",
      "предприниматель      520.848083\n",
      "сотрудник           1574.202821\n",
      "студент              578.751554\n",
      "Name: days_employed, dtype: float64\n"
     ]
    }
   ],
   "source": [
    "income_median = data.groupby('income_type')['total_income'].median()\n",
    "days_employed_median = data.groupby('income_type')['days_employed'].median()\n",
    "print(income_median, days_employed_median)\n",
    "for income_type in data['income_type'].unique():\n",
    "    income_median = data.loc[data['income_type'] == income_type, 'total_income'].median()\n",
    "    days_employed_median = data.loc[data['income_type'] == income_type, 'days_employed'].median()\n",
    "    data.loc[(data['total_income'].isna()) & (data['income_type'] == income_type), 'total_income'] = income_median\n",
    "    data.loc[(data['days_employed'].isna()) & (data['income_type'] == income_type), 'days_employed'] = days_employed_median"
   ]
  },
  {
   "cell_type": "markdown",
   "metadata": {
    "cellId": "q0g13uzrmeatqd3n6i2b7k"
   },
   "source": [
    "Пропущенные значения были в двух столбцах, строки совпадали, то есть, в строке, где отсутствовал трудовой стаж, отсутствовал и доход в месяц. Для чистоты исследования, было решено заменить их на медианные значения. NaN - это специальные значения, которые указывают на пропуск. Таким образом, эти значения клиенты не указали намеренно, либо забыли."
   ]
  },
  {
   "cell_type": "markdown",
   "metadata": {
    "cellId": "8ulzya4zv09jnz1xvnml5l"
   },
   "source": [
    "### Замена типа данных"
   ]
  },
  {
   "cell_type": "markdown",
   "metadata": {
    "cellId": "mt4g1c8v5oim3jr694zm"
   },
   "source": [
    "Заменим значения с вещественных на целочисленный, для удобства и производительности. Проверим полученные данные:"
   ]
  },
  {
   "cell_type": "code",
   "execution_count": 11,
   "metadata": {
    "cellId": "hazrgc7xacjvq6gircbync"
   },
   "outputs": [
    {
     "name": "stdout",
     "output_type": "stream",
     "text": [
      "<class 'pandas.core.frame.DataFrame'>\n",
      "RangeIndex: 21525 entries, 0 to 21524\n",
      "Data columns (total 12 columns):\n",
      "children            21525 non-null int64\n",
      "days_employed       21525 non-null int64\n",
      "dob_years           21525 non-null int64\n",
      "education           21525 non-null object\n",
      "education_id        21525 non-null int64\n",
      "family_status       21525 non-null object\n",
      "family_status_id    21525 non-null int64\n",
      "gender              21525 non-null object\n",
      "income_type         21525 non-null object\n",
      "debt                21525 non-null int64\n",
      "total_income        21525 non-null int64\n",
      "purpose             21525 non-null object\n",
      "dtypes: int64(7), object(5)\n",
      "memory usage: 2.0+ MB\n"
     ]
    }
   ],
   "source": [
    "# замена типа данных на int в столбцах days_employed и total_income\n",
    "data['days_employed'] = data['days_employed'].astype('int')\n",
    "data['total_income'] = data['total_income'].astype('int')\n",
    "# получение общей информации о данных в таблице data\n",
    "data.info()"
   ]
  },
  {
   "cell_type": "markdown",
   "metadata": {
    "cellId": "yrsbeec5rwt6w64cbwxg"
   },
   "source": [
    "**Вывод**"
   ]
  },
  {
   "cell_type": "markdown",
   "metadata": {
    "cellId": "gd2filf9jplu279656d07"
   },
   "source": [
    "На данном этапе были изменены типы данных на целочисленные. Использовали метод astype(), он подходит для смены значений с вещественных на целочисленные."
   ]
  },
  {
   "cell_type": "markdown",
   "metadata": {
    "cellId": "2ijuarlxmh53jw5inc9miy"
   },
   "source": [
    "### Обработка дубликатов"
   ]
  },
  {
   "cell_type": "markdown",
   "metadata": {
    "cellId": "auw7y7ow3yegfjlxef76w"
   },
   "source": [
    "Проверим, есть ли в данных явные дубликаты, которые совпадают в срезе строки:"
   ]
  },
  {
   "cell_type": "code",
   "execution_count": 12,
   "metadata": {
    "cellId": "crihgw4spovamyqz824hiv"
   },
   "outputs": [
    {
     "data": {
      "text/plain": [
       "54"
      ]
     },
     "execution_count": 12,
     "metadata": {},
     "output_type": "execute_result"
    }
   ],
   "source": [
    "# получение информации о количестве явных дубликатов\n",
    "data.duplicated().sum()"
   ]
  },
  {
   "cell_type": "markdown",
   "metadata": {
    "cellId": "n64gksh07oeygxu4yixno"
   },
   "source": [
    "Явные дубликаты присутствуют и подсчитаны. Удалим их:"
   ]
  },
  {
   "cell_type": "code",
   "execution_count": 13,
   "metadata": {
    "cellId": "4t2brdoimurexrbtrhywa8"
   },
   "outputs": [],
   "source": [
    "# удаление явных дубликатов (с удалением старых индексов и формированием новых)\n",
    "data = data.drop_duplicates().reset_index(drop=True)"
   ]
  },
  {
   "cell_type": "markdown",
   "metadata": {
    "cellId": "jm2bjkgokpiuuhwxz3re1"
   },
   "source": [
    "Проверим остались ли явные дубликаты:"
   ]
  },
  {
   "cell_type": "code",
   "execution_count": 14,
   "metadata": {
    "cellId": "qjgj8sy5l1a9aibjfsk6gi"
   },
   "outputs": [
    {
     "data": {
      "text/plain": [
       "0"
      ]
     },
     "execution_count": 14,
     "metadata": {},
     "output_type": "execute_result"
    }
   ],
   "source": [
    "# получение информации о количестве явных дубликатов\n",
    "data.duplicated().sum()"
   ]
  },
  {
   "cell_type": "markdown",
   "metadata": {
    "cellId": "4yl0ocxf4cw3b78d4cltru"
   },
   "source": [
    "При просмотре данных, видно, что в колонке \"образование\" встречается разный регистр. Проверим, какие значение и сколько упоминаний каждого:"
   ]
  },
  {
   "cell_type": "code",
   "execution_count": 15,
   "metadata": {
    "cellId": "un0r3kuvsuyow5r4r88k"
   },
   "outputs": [
    {
     "data": {
      "text/plain": [
       "среднее                13705\n",
       "высшее                  4710\n",
       "СРЕДНЕЕ                  772\n",
       "Среднее                  711\n",
       "неоконченное высшее      668\n",
       "ВЫСШЕЕ                   273\n",
       "Высшее                   268\n",
       "начальное                250\n",
       "Неоконченное высшее       47\n",
       "НЕОКОНЧЕННОЕ ВЫСШЕЕ       29\n",
       "НАЧАЛЬНОЕ                 17\n",
       "Начальное                 15\n",
       "ученая степень             4\n",
       "Ученая степень             1\n",
       "УЧЕНАЯ СТЕПЕНЬ             1\n",
       "Name: education, dtype: int64"
      ]
     },
     "execution_count": 15,
     "metadata": {},
     "output_type": "execute_result"
    }
   ],
   "source": [
    "# получение уникальных значений и их повторений в столбце education\n",
    "data['education'].value_counts()"
   ]
  },
  {
   "cell_type": "markdown",
   "metadata": {
    "cellId": "5vrn6wp24grtwtc677ibi"
   },
   "source": [
    "Изменим регистр всех значений в колонке \"образование\" на нижний и повторно проверим их количество:"
   ]
  },
  {
   "cell_type": "code",
   "execution_count": 16,
   "metadata": {
    "cellId": "cbnlcux46y71rlzppvebr6"
   },
   "outputs": [
    {
     "data": {
      "text/plain": [
       "среднее                15188\n",
       "высшее                  5251\n",
       "неоконченное высшее      744\n",
       "начальное                282\n",
       "ученая степень             6\n",
       "Name: education, dtype: int64"
      ]
     },
     "execution_count": 16,
     "metadata": {},
     "output_type": "execute_result"
    }
   ],
   "source": [
    "# изменение регистра в колонке education на нижний \n",
    "data['education'] = data['education'].str.lower() \n",
    "# получение уникальных значений и их повторений в столбце education\n",
    "data['education'].value_counts()"
   ]
  },
  {
   "cell_type": "markdown",
   "metadata": {
    "cellId": "oidsc42jk7m1epq97lce3y"
   },
   "source": [
    "Хоть в исходных данных и 15 вариантов, но на самом деле оказалось разных всего 5. После этого, проверим появились ли явные дубликаты:"
   ]
  },
  {
   "cell_type": "code",
   "execution_count": 17,
   "metadata": {
    "cellId": "x4q8kon7qqkwr8dph2jvd9"
   },
   "outputs": [
    {
     "data": {
      "text/plain": [
       "17"
      ]
     },
     "execution_count": 17,
     "metadata": {},
     "output_type": "execute_result"
    }
   ],
   "source": [
    "# получение информации о количестве явных дубликатов\n",
    "data.duplicated().sum() "
   ]
  },
  {
   "cell_type": "markdown",
   "metadata": {
    "cellId": "yarqh1pltudvomwroxuhor"
   },
   "source": [
    "Вот и появились еще явные дубликаты, которые могли повлиять на результаты исследования. Удалим их и проверим количество:"
   ]
  },
  {
   "cell_type": "code",
   "execution_count": 18,
   "metadata": {
    "cellId": "bpb1liizkchvt5vc66v8sf"
   },
   "outputs": [
    {
     "data": {
      "text/plain": [
       "0"
      ]
     },
     "execution_count": 18,
     "metadata": {},
     "output_type": "execute_result"
    }
   ],
   "source": [
    "# удаление явных дубликатов (с удалением старых индексов и формированием новых)\n",
    "data = data.drop_duplicates().reset_index(drop=True)\n",
    "# получение информации о количестве явных дубликатов\n",
    "data.duplicated().sum() "
   ]
  },
  {
   "cell_type": "markdown",
   "metadata": {
    "cellId": "9e2101xrntp8t04cgm09px"
   },
   "source": [
    "**Вывод**"
   ]
  },
  {
   "cell_type": "markdown",
   "metadata": {
    "cellId": "xnf3a3u6f6lvmi6tnt108"
   },
   "source": [
    "На текущем этапе были удалены явные дубликаты. Для этого использовали метод drop_duplicates(). Регистр был нарушен только в одном столбце, после его изменения были повторно удалены явные дубликаты. Для предоставленных данных можем удалить только явные дубликаты, так как не хватает данных для выявления неявных дубликатов (например: id или ФИО с датой рождения клиента). Вероятней всего, дубликаты появились из-за повторной отправки заявки клиентом."
   ]
  },
  {
   "cell_type": "markdown",
   "metadata": {
    "cellId": "fj8hizafh6tdbg96ux0a"
   },
   "source": [
    "### Лемматизация"
   ]
  },
  {
   "cell_type": "markdown",
   "metadata": {
    "cellId": "c3gvwure94nbhe9uknffkb"
   },
   "source": [
    "Чтобы выделить и сгруппировать данные по цели кредита, проведем лемматизацию столбца purpose:"
   ]
  },
  {
   "cell_type": "code",
   "execution_count": 19,
   "metadata": {
    "cellId": "9y7qi5i4nrm2xrqv814q"
   },
   "outputs": [
    {
     "name": "stdout",
     "output_type": "stream",
     "text": [
      "Counter({' ': 55023, 'недвижимость': 6351, 'покупка': 5897, 'жилье': 4460, 'автомобиль': 4306, 'образование': 4013, 'с': 2918, 'операция': 2604, 'свадьба': 2324, 'свой': 2230, 'на': 2222, 'строительство': 1878, 'высокий': 1374, 'получение': 1314, 'коммерческий': 1311, 'для': 1289, 'жилой': 1230, 'сделка': 941, 'дополнительный': 906, 'заниматься': 904, 'подержать': 853, 'проведение': 768, 'сыграть': 765, 'сдача': 651, 'семья': 638, 'собственный': 635, 'со': 627, 'ремонт': 607, 'приобретение': 461, 'профильный': 436, 'подержанный': 111, '\\n': 1})\n"
     ]
    }
   ],
   "source": [
    "# импорт библиотеки pymystem3\n",
    "from pymystem3 import Mystem\n",
    "m = Mystem()\n",
    "# лемматизация уникальных значений в столбце purpose\n",
    "text = data['purpose']\n",
    "lemmas = m.lemmatize(' '.join(text))\n",
    "# импорт библиотеки collections и подсчет частоты появления уникальных слов в столбце purpose\n",
    "from collections import Counter\n",
    "print(Counter(lemmas))"
   ]
  },
  {
   "cell_type": "markdown",
   "metadata": {
    "cellId": "mht6dhk5rwqi2o297s7eh"
   },
   "source": [
    "**Вывод**"
   ]
  },
  {
   "cell_type": "markdown",
   "metadata": {
    "cellId": "92jyesrqq1rrg0rft777m"
   },
   "source": [
    "На данным этапе получили уникальные значения purpose, склеили их в одну строку с помощью join и лемматизировали. С помощь Counter посчитали частоту появления слов. Проанализировав частоту появления слов, выделим основные группы: - недвижимость (если встречаются слова жилье или недвижимость), - автомобиль (автомобиль), - образование (образование), - свадьба (свадьба)."
   ]
  },
  {
   "cell_type": "markdown",
   "metadata": {
    "cellId": "9md11diz218how7kbqketv"
   },
   "source": [
    "### Категоризация данных"
   ]
  },
  {
   "cell_type": "markdown",
   "metadata": {
    "cellId": "ul175pmqi4llve532d1ow"
   },
   "source": [
    "В дальнейшем перед нами 4 задачи - это проанализовать влияние наличия детей, семейного положения, уровня дохода и цели кредита на погашение кредита в срок. Для этого, проверим и выделим основные категории для каждого из этих параметров."
   ]
  },
  {
   "cell_type": "markdown",
   "metadata": {
    "cellId": "x9q3kfiq3p95at7lqipgaw"
   },
   "source": [
    "Начнем с цели кредита. Мы выделили 4 основные категории, теперь проверим количество клиентов по каждой из цели. Для этого напишем функцию lemmas_purpose:"
   ]
  },
  {
   "cell_type": "code",
   "execution_count": 20,
   "metadata": {
    "cellId": "xxh99amxjmbclgr5z0njg"
   },
   "outputs": [
    {
     "data": {
      "text/plain": [
       "жилье          10811\n",
       "автомобиль      4306\n",
       "образование     4013\n",
       "свадьба         2324\n",
       "Name: purpose_group, dtype: int64"
      ]
     },
     "execution_count": 20,
     "metadata": {},
     "output_type": "execute_result"
    }
   ],
   "source": [
    "# написание функции lemmas_purpose, которая возвращает значение в зависимости от цели\n",
    "def lemmas_purpose(row):\n",
    "    purpose = row['purpose']\n",
    "    purpose_lemmas = m.lemmatize(purpose)\n",
    "    if ('недвижимость' in purpose_lemmas or 'жилье' in purpose_lemmas):\n",
    "        return 'жилье'\n",
    "    elif 'автомобиль'in purpose_lemmas:\n",
    "        return 'автомобиль'\n",
    "    elif 'образование' in purpose_lemmas:\n",
    "        return 'образование'\n",
    "    elif 'свадьба' in purpose_lemmas:\n",
    "        return 'свадьба'\n",
    "    else:\n",
    "        return 'цель не определена'\n",
    "# создание нового столбца после применения функции lemmas_purpose к столбцу purpose и выявление частоты значений\n",
    "data['purpose_group'] = data.apply(lemmas_purpose, axis = 1)\n",
    "data['purpose_group'].value_counts()"
   ]
  },
  {
   "cell_type": "markdown",
   "metadata": {
    "cellId": "pqcacsspbycena6w57cnus"
   },
   "source": [
    "Видно, что группы выделены успешно и все цели определены. В дальнейшем сможем проанализировать влияние цели кредита на возврат в срок."
   ]
  },
  {
   "cell_type": "markdown",
   "metadata": {
    "cellId": "sqlppvh3ssgizfdyub5ccb"
   },
   "source": [
    "Затем проверим какие уникальные значения есть в столбце family_status, удалив все дубликаты."
   ]
  },
  {
   "cell_type": "code",
   "execution_count": 21,
   "metadata": {
    "cellId": "vpbindjz4pk7rleb413bb"
   },
   "outputs": [
    {
     "data": {
      "text/html": [
       "<div>\n",
       "<style scoped>\n",
       "    .dataframe tbody tr th:only-of-type {\n",
       "        vertical-align: middle;\n",
       "    }\n",
       "\n",
       "    .dataframe tbody tr th {\n",
       "        vertical-align: top;\n",
       "    }\n",
       "\n",
       "    .dataframe thead th {\n",
       "        text-align: right;\n",
       "    }\n",
       "</style>\n",
       "<table border=\"1\" class=\"dataframe\">\n",
       "  <thead>\n",
       "    <tr style=\"text-align: right;\">\n",
       "      <th></th>\n",
       "      <th>family_status_id</th>\n",
       "      <th>family_status</th>\n",
       "    </tr>\n",
       "  </thead>\n",
       "  <tbody>\n",
       "    <tr>\n",
       "      <td>0</td>\n",
       "      <td>0</td>\n",
       "      <td>женат / замужем</td>\n",
       "    </tr>\n",
       "    <tr>\n",
       "      <td>1</td>\n",
       "      <td>1</td>\n",
       "      <td>гражданский брак</td>\n",
       "    </tr>\n",
       "    <tr>\n",
       "      <td>2</td>\n",
       "      <td>2</td>\n",
       "      <td>вдовец / вдова</td>\n",
       "    </tr>\n",
       "    <tr>\n",
       "      <td>3</td>\n",
       "      <td>3</td>\n",
       "      <td>в разводе</td>\n",
       "    </tr>\n",
       "    <tr>\n",
       "      <td>4</td>\n",
       "      <td>4</td>\n",
       "      <td>Не женат / не замужем</td>\n",
       "    </tr>\n",
       "  </tbody>\n",
       "</table>\n",
       "</div>"
      ],
      "text/plain": [
       "   family_status_id          family_status\n",
       "0                 0        женат / замужем\n",
       "1                 1       гражданский брак\n",
       "2                 2         вдовец / вдова\n",
       "3                 3              в разводе\n",
       "4                 4  Не женат / не замужем"
      ]
     },
     "execution_count": 21,
     "metadata": {},
     "output_type": "execute_result"
    }
   ],
   "source": [
    "# cоздание новой таблицы family_category\n",
    "# удаление дубликатов в таблице family_category и распечатка её в порядке возрастания значений столбца family_status_id\n",
    "family_category = data[['family_status_id','family_status']]\n",
    "family_category.drop_duplicates().reset_index(drop=True).sort_values('family_status_id',ascending=True)"
   ]
  },
  {
   "cell_type": "markdown",
   "metadata": {
    "cellId": "gox1qet068i8kjgjjev9zc"
   },
   "source": [
    "Видно, что в столбце family_status 5 уникальных статусов, их и будем использовать для группировки."
   ]
  },
  {
   "cell_type": "markdown",
   "metadata": {
    "cellId": "omw063cgx7qf33075njmn9"
   },
   "source": [
    "Для столбца children нужно два значения: есть дети и нет детей. Создадим функцию having_children, которая будет возвращать эти значения:"
   ]
  },
  {
   "cell_type": "code",
   "execution_count": 22,
   "metadata": {
    "cellId": "0e5c3xf54xjg5ujzayxccmr"
   },
   "outputs": [
    {
     "data": {
      "text/plain": [
       "нет детей    14138\n",
       "есть дети     7316\n",
       "Name: children_group, dtype: int64"
      ]
     },
     "execution_count": 22,
     "metadata": {},
     "output_type": "execute_result"
    }
   ],
   "source": [
    "# написание функции having_children, которая возвращает значение в зависимости от цели\n",
    "def having_children(row):\n",
    "    children = row['children']\n",
    "    if children <= 0:\n",
    "        return 'нет детей'\n",
    "    else:\n",
    "        return 'есть дети'\n",
    "# создание нового столбца после применения функции having_children к столбцу children и выявление частоты значений\n",
    "data['children_group'] = data.apply(having_children, axis = 1)\n",
    "data['children_group'].value_counts()"
   ]
  },
  {
   "cell_type": "markdown",
   "metadata": {
    "cellId": "fl9mnfrjzsu23ybo17y0so"
   },
   "source": [
    "Таким образом, было выделено 2 группы клиентов. Без детей в 2 раза больше клиентов, в дальнейшем проверим, как это влияет на возврат кредита в срок."
   ]
  },
  {
   "cell_type": "markdown",
   "metadata": {
    "cellId": "q27ujeb8vgkx4h580jolqm"
   },
   "source": [
    "Осталось выделить категории в столбце total_income, то есть уровень дохода. Для начала посмотрим максимальное и минимальное значение этого столбца:"
   ]
  },
  {
   "cell_type": "code",
   "execution_count": 23,
   "metadata": {
    "cellId": "xiuykqjoyqd40py357fz3q"
   },
   "outputs": [
    {
     "name": "stdout",
     "output_type": "stream",
     "text": [
      "Минимальный доход клиента: 20667\n",
      "Максимальный доход клиента: 2265604\n"
     ]
    }
   ],
   "source": [
    "# вывод минимального и максимального дохода\n",
    "print('Минимальный доход клиента:', min(data['total_income']))\n",
    "print('Максимальный доход клиента:', max(data['total_income']))"
   ]
  },
  {
   "cell_type": "markdown",
   "metadata": {
    "cellId": "u31iytzinh74t4xbygvhb9"
   },
   "source": [
    "Разброс в доходах достаточно большой. Разделим весь диапазон на 6 классов в зависимости от дохода:"
   ]
  },
  {
   "cell_type": "code",
   "execution_count": 24,
   "metadata": {
    "cellId": "nsj3melmbwh5o8l1faljzj"
   },
   "outputs": [
    {
     "data": {
      "text/plain": [
       "предсредний класс        7160\n",
       "средний класс            7018\n",
       "нижний средний класс     4463\n",
       "верхний средний класс    2591\n",
       "состоятельный             197\n",
       "богатый                    25\n",
       "Name: total_income_group, dtype: int64"
      ]
     },
     "execution_count": 24,
     "metadata": {},
     "output_type": "execute_result"
    }
   ],
   "source": [
    "# написание функции how_much, которая возвращает значение в зависимости от цели\n",
    "def how_much(row):\n",
    "    total_income = row['total_income']\n",
    "    if total_income <= 100000:\n",
    "        return 'нижний средний класс'\n",
    "    elif 100000 < total_income <= 150000:\n",
    "        return 'предсредний класс'\n",
    "    elif 150000 < total_income <= 250000:\n",
    "        return 'средний класс'\n",
    "    elif 250000 < total_income <= 500000:\n",
    "        return 'верхний средний класс'\n",
    "    elif 500000 < total_income <= 1000000:\n",
    "        return 'состоятельный'\n",
    "    elif total_income > 1000000:\n",
    "        return 'богатый'\n",
    "# создание нового столбца после применения функции how_much к столбцу total_income и выявление частоты значений\n",
    "data['total_income_group'] = data.apply(how_much, axis = 1)\n",
    "data['total_income_group'].value_counts()"
   ]
  },
  {
   "cell_type": "markdown",
   "metadata": {
    "cellId": "meg2321ggthy2gn8w38bgf"
   },
   "source": [
    "Можем наблюдать, что большинство людей в предсреднем и среднем классах, что не так уж и плохо. Но богатых и состоятельных можно посчитать на \"пальцах\". Чуть дальше проверим, как доход влияет на возврат кредита в срок."
   ]
  },
  {
   "cell_type": "markdown",
   "metadata": {
    "cellId": "mbeff287n4swptr9t7xar"
   },
   "source": [
    "Проверим, все ли категории появились в таблице, чтобы можно было продолжить работу с данными и выявить, кто же возвращает кредит в срок чаще. Для этого выведем 10 строк нашей таблицы:"
   ]
  },
  {
   "cell_type": "code",
   "execution_count": 25,
   "metadata": {
    "cellId": "tuapzcshksm3mbypcucsh8"
   },
   "outputs": [
    {
     "data": {
      "text/html": [
       "<div>\n",
       "<style scoped>\n",
       "    .dataframe tbody tr th:only-of-type {\n",
       "        vertical-align: middle;\n",
       "    }\n",
       "\n",
       "    .dataframe tbody tr th {\n",
       "        vertical-align: top;\n",
       "    }\n",
       "\n",
       "    .dataframe thead th {\n",
       "        text-align: right;\n",
       "    }\n",
       "</style>\n",
       "<table border=\"1\" class=\"dataframe\">\n",
       "  <thead>\n",
       "    <tr style=\"text-align: right;\">\n",
       "      <th></th>\n",
       "      <th>children</th>\n",
       "      <th>days_employed</th>\n",
       "      <th>dob_years</th>\n",
       "      <th>education</th>\n",
       "      <th>education_id</th>\n",
       "      <th>family_status</th>\n",
       "      <th>family_status_id</th>\n",
       "      <th>gender</th>\n",
       "      <th>income_type</th>\n",
       "      <th>debt</th>\n",
       "      <th>total_income</th>\n",
       "      <th>purpose</th>\n",
       "      <th>purpose_group</th>\n",
       "      <th>children_group</th>\n",
       "      <th>total_income_group</th>\n",
       "    </tr>\n",
       "  </thead>\n",
       "  <tbody>\n",
       "    <tr>\n",
       "      <td>0</td>\n",
       "      <td>1</td>\n",
       "      <td>8437</td>\n",
       "      <td>42</td>\n",
       "      <td>высшее</td>\n",
       "      <td>0</td>\n",
       "      <td>женат / замужем</td>\n",
       "      <td>0</td>\n",
       "      <td>F</td>\n",
       "      <td>сотрудник</td>\n",
       "      <td>0</td>\n",
       "      <td>253875</td>\n",
       "      <td>покупка жилья</td>\n",
       "      <td>жилье</td>\n",
       "      <td>есть дети</td>\n",
       "      <td>верхний средний класс</td>\n",
       "    </tr>\n",
       "    <tr>\n",
       "      <td>1</td>\n",
       "      <td>1</td>\n",
       "      <td>4024</td>\n",
       "      <td>36</td>\n",
       "      <td>среднее</td>\n",
       "      <td>1</td>\n",
       "      <td>женат / замужем</td>\n",
       "      <td>0</td>\n",
       "      <td>F</td>\n",
       "      <td>сотрудник</td>\n",
       "      <td>0</td>\n",
       "      <td>112080</td>\n",
       "      <td>приобретение автомобиля</td>\n",
       "      <td>автомобиль</td>\n",
       "      <td>есть дети</td>\n",
       "      <td>предсредний класс</td>\n",
       "    </tr>\n",
       "    <tr>\n",
       "      <td>2</td>\n",
       "      <td>0</td>\n",
       "      <td>5623</td>\n",
       "      <td>33</td>\n",
       "      <td>среднее</td>\n",
       "      <td>1</td>\n",
       "      <td>женат / замужем</td>\n",
       "      <td>0</td>\n",
       "      <td>M</td>\n",
       "      <td>сотрудник</td>\n",
       "      <td>0</td>\n",
       "      <td>145885</td>\n",
       "      <td>покупка жилья</td>\n",
       "      <td>жилье</td>\n",
       "      <td>нет детей</td>\n",
       "      <td>предсредний класс</td>\n",
       "    </tr>\n",
       "    <tr>\n",
       "      <td>3</td>\n",
       "      <td>3</td>\n",
       "      <td>4124</td>\n",
       "      <td>32</td>\n",
       "      <td>среднее</td>\n",
       "      <td>1</td>\n",
       "      <td>женат / замужем</td>\n",
       "      <td>0</td>\n",
       "      <td>M</td>\n",
       "      <td>сотрудник</td>\n",
       "      <td>0</td>\n",
       "      <td>267628</td>\n",
       "      <td>дополнительное образование</td>\n",
       "      <td>образование</td>\n",
       "      <td>есть дети</td>\n",
       "      <td>верхний средний класс</td>\n",
       "    </tr>\n",
       "    <tr>\n",
       "      <td>4</td>\n",
       "      <td>0</td>\n",
       "      <td>14177</td>\n",
       "      <td>53</td>\n",
       "      <td>среднее</td>\n",
       "      <td>1</td>\n",
       "      <td>гражданский брак</td>\n",
       "      <td>1</td>\n",
       "      <td>F</td>\n",
       "      <td>пенсионер</td>\n",
       "      <td>0</td>\n",
       "      <td>158616</td>\n",
       "      <td>сыграть свадьбу</td>\n",
       "      <td>свадьба</td>\n",
       "      <td>нет детей</td>\n",
       "      <td>средний класс</td>\n",
       "    </tr>\n",
       "    <tr>\n",
       "      <td>5</td>\n",
       "      <td>0</td>\n",
       "      <td>926</td>\n",
       "      <td>27</td>\n",
       "      <td>высшее</td>\n",
       "      <td>0</td>\n",
       "      <td>гражданский брак</td>\n",
       "      <td>1</td>\n",
       "      <td>M</td>\n",
       "      <td>компаньон</td>\n",
       "      <td>0</td>\n",
       "      <td>255763</td>\n",
       "      <td>покупка жилья</td>\n",
       "      <td>жилье</td>\n",
       "      <td>нет детей</td>\n",
       "      <td>верхний средний класс</td>\n",
       "    </tr>\n",
       "    <tr>\n",
       "      <td>6</td>\n",
       "      <td>0</td>\n",
       "      <td>2879</td>\n",
       "      <td>43</td>\n",
       "      <td>высшее</td>\n",
       "      <td>0</td>\n",
       "      <td>женат / замужем</td>\n",
       "      <td>0</td>\n",
       "      <td>F</td>\n",
       "      <td>компаньон</td>\n",
       "      <td>0</td>\n",
       "      <td>240525</td>\n",
       "      <td>операции с жильем</td>\n",
       "      <td>жилье</td>\n",
       "      <td>нет детей</td>\n",
       "      <td>средний класс</td>\n",
       "    </tr>\n",
       "    <tr>\n",
       "      <td>7</td>\n",
       "      <td>0</td>\n",
       "      <td>152</td>\n",
       "      <td>50</td>\n",
       "      <td>среднее</td>\n",
       "      <td>1</td>\n",
       "      <td>женат / замужем</td>\n",
       "      <td>0</td>\n",
       "      <td>M</td>\n",
       "      <td>сотрудник</td>\n",
       "      <td>0</td>\n",
       "      <td>135823</td>\n",
       "      <td>образование</td>\n",
       "      <td>образование</td>\n",
       "      <td>нет детей</td>\n",
       "      <td>предсредний класс</td>\n",
       "    </tr>\n",
       "    <tr>\n",
       "      <td>8</td>\n",
       "      <td>2</td>\n",
       "      <td>6929</td>\n",
       "      <td>35</td>\n",
       "      <td>высшее</td>\n",
       "      <td>0</td>\n",
       "      <td>гражданский брак</td>\n",
       "      <td>1</td>\n",
       "      <td>F</td>\n",
       "      <td>сотрудник</td>\n",
       "      <td>0</td>\n",
       "      <td>95856</td>\n",
       "      <td>на проведение свадьбы</td>\n",
       "      <td>свадьба</td>\n",
       "      <td>есть дети</td>\n",
       "      <td>нижний средний класс</td>\n",
       "    </tr>\n",
       "    <tr>\n",
       "      <td>9</td>\n",
       "      <td>0</td>\n",
       "      <td>2188</td>\n",
       "      <td>41</td>\n",
       "      <td>среднее</td>\n",
       "      <td>1</td>\n",
       "      <td>женат / замужем</td>\n",
       "      <td>0</td>\n",
       "      <td>M</td>\n",
       "      <td>сотрудник</td>\n",
       "      <td>0</td>\n",
       "      <td>144425</td>\n",
       "      <td>покупка жилья для семьи</td>\n",
       "      <td>жилье</td>\n",
       "      <td>нет детей</td>\n",
       "      <td>предсредний класс</td>\n",
       "    </tr>\n",
       "  </tbody>\n",
       "</table>\n",
       "</div>"
      ],
      "text/plain": [
       "   children  days_employed  dob_years education  education_id  \\\n",
       "0         1           8437         42    высшее             0   \n",
       "1         1           4024         36   среднее             1   \n",
       "2         0           5623         33   среднее             1   \n",
       "3         3           4124         32   среднее             1   \n",
       "4         0          14177         53   среднее             1   \n",
       "5         0            926         27    высшее             0   \n",
       "6         0           2879         43    высшее             0   \n",
       "7         0            152         50   среднее             1   \n",
       "8         2           6929         35    высшее             0   \n",
       "9         0           2188         41   среднее             1   \n",
       "\n",
       "      family_status  family_status_id gender income_type  debt  total_income  \\\n",
       "0   женат / замужем                 0      F   сотрудник     0        253875   \n",
       "1   женат / замужем                 0      F   сотрудник     0        112080   \n",
       "2   женат / замужем                 0      M   сотрудник     0        145885   \n",
       "3   женат / замужем                 0      M   сотрудник     0        267628   \n",
       "4  гражданский брак                 1      F   пенсионер     0        158616   \n",
       "5  гражданский брак                 1      M   компаньон     0        255763   \n",
       "6   женат / замужем                 0      F   компаньон     0        240525   \n",
       "7   женат / замужем                 0      M   сотрудник     0        135823   \n",
       "8  гражданский брак                 1      F   сотрудник     0         95856   \n",
       "9   женат / замужем                 0      M   сотрудник     0        144425   \n",
       "\n",
       "                      purpose purpose_group children_group  \\\n",
       "0               покупка жилья         жилье      есть дети   \n",
       "1     приобретение автомобиля    автомобиль      есть дети   \n",
       "2               покупка жилья         жилье      нет детей   \n",
       "3  дополнительное образование   образование      есть дети   \n",
       "4             сыграть свадьбу       свадьба      нет детей   \n",
       "5               покупка жилья         жилье      нет детей   \n",
       "6           операции с жильем         жилье      нет детей   \n",
       "7                 образование   образование      нет детей   \n",
       "8       на проведение свадьбы       свадьба      есть дети   \n",
       "9     покупка жилья для семьи         жилье      нет детей   \n",
       "\n",
       "      total_income_group  \n",
       "0  верхний средний класс  \n",
       "1      предсредний класс  \n",
       "2      предсредний класс  \n",
       "3  верхний средний класс  \n",
       "4          средний класс  \n",
       "5  верхний средний класс  \n",
       "6          средний класс  \n",
       "7      предсредний класс  \n",
       "8   нижний средний класс  \n",
       "9      предсредний класс  "
      ]
     },
     "execution_count": 25,
     "metadata": {},
     "output_type": "execute_result"
    }
   ],
   "source": [
    "data.head(10)"
   ]
  },
  {
   "cell_type": "markdown",
   "metadata": {
    "cellId": "g4fsdonw7g5rqlyayltkc"
   },
   "source": [
    "**Вывод**"
   ]
  },
  {
   "cell_type": "markdown",
   "metadata": {
    "cellId": "2avmp80c4nvco11tkxpf8"
   },
   "source": [
    "Отлично, все клиенты классифицированы и их можно группировать по интересующим нам параметрам при помощи сводных таблиц. Таким образом, у нас в зависимости: от цели кредита - 4 группы, от семейного положения - 5 групп, от наличия детей - 2 группы и от суммы дохода - 6 групп."
   ]
  },
  {
   "cell_type": "markdown",
   "metadata": {
    "cellId": "5zuoabvhb4krjcq6hnzj9r"
   },
   "source": [
    "## Результаты анализа"
   ]
  },
  {
   "cell_type": "markdown",
   "metadata": {
    "cellId": "n520d1j7evn87ifmpt7a7y"
   },
   "source": [
    "### Есть ли зависимость между наличием детей и возвратом кредита в срок?"
   ]
  },
  {
   "cell_type": "markdown",
   "metadata": {
    "cellId": "x1aneny812hvowbxhkkt"
   },
   "source": [
    "Первый вопрос влияет ли наличие детей на возврат кредита в срок. Создадим сводную таблицу, которая посчитает сколько людей имеют задолженность в зависимости от наличия детей. Значение 1 в столбце debt - имеется задолженность, 0 - отсутствует:"
   ]
  },
  {
   "cell_type": "code",
   "execution_count": 26,
   "metadata": {
    "cellId": "0jp2btnj31rsjkqdxj9s5bq"
   },
   "outputs": [
    {
     "data": {
      "text/html": [
       "<div>\n",
       "<style scoped>\n",
       "    .dataframe tbody tr th:only-of-type {\n",
       "        vertical-align: middle;\n",
       "    }\n",
       "\n",
       "    .dataframe tbody tr th {\n",
       "        vertical-align: top;\n",
       "    }\n",
       "\n",
       "    .dataframe thead th {\n",
       "        text-align: right;\n",
       "    }\n",
       "</style>\n",
       "<table border=\"1\" class=\"dataframe\">\n",
       "  <thead>\n",
       "    <tr style=\"text-align: right;\">\n",
       "      <th></th>\n",
       "      <th>debt</th>\n",
       "      <th>total</th>\n",
       "      <th>%</th>\n",
       "    </tr>\n",
       "    <tr>\n",
       "      <th>children_group</th>\n",
       "      <th></th>\n",
       "      <th></th>\n",
       "      <th></th>\n",
       "    </tr>\n",
       "  </thead>\n",
       "  <tbody>\n",
       "    <tr>\n",
       "      <td>нет детей</td>\n",
       "      <td>1064</td>\n",
       "      <td>14138</td>\n",
       "      <td>0.075258</td>\n",
       "    </tr>\n",
       "    <tr>\n",
       "      <td>есть дети</td>\n",
       "      <td>677</td>\n",
       "      <td>7316</td>\n",
       "      <td>0.092537</td>\n",
       "    </tr>\n",
       "  </tbody>\n",
       "</table>\n",
       "</div>"
      ],
      "text/plain": [
       "                debt  total         %\n",
       "children_group                       \n",
       "нет детей       1064  14138  0.075258\n",
       "есть дети        677   7316  0.092537"
      ]
     },
     "execution_count": 26,
     "metadata": {},
     "output_type": "execute_result"
    }
   ],
   "source": [
    "# создание сводной таблицы о количестве должников в зависимости от наличия детей\n",
    "report_children = data.pivot_table(index = ['children_group'], values = 'debt', aggfunc = ['sum', 'count', 'mean'])\n",
    "report_children.columns = ['debt', 'total', '%']\n",
    "report_children = report_children.sort_values(by = ['total'], ascending = False)\n",
    "report_children"
   ]
  },
  {
   "cell_type": "markdown",
   "metadata": {
    "cellId": "aabc7q49tpj0p08oh9ayvk"
   },
   "source": [
    "**Вывод**"
   ]
  },
  {
   "cell_type": "markdown",
   "metadata": {
    "cellId": "pzs1g222spmbfkt78abpof"
   },
   "source": [
    "Столбец dept показывает количество клиентов, которые имеют задолженность, total - общее количетсво клиентов, % - доля должников. Из таблицы можно сказать, что клиентов без детей в два раза больше, чем с детьми и они чаще возвращают кредит в срок. Всего должников с детьми порядка 9%, а без детей - 7,5%. Таким образом, клиенты без детей вероятнее погасят кредит в срок, это может быть связано с тем, что у них нет дополнительных расходов на детей."
   ]
  },
  {
   "cell_type": "markdown",
   "metadata": {
    "cellId": "fa02ggujf9clx69hk478a"
   },
   "source": [
    "### Есть ли зависимость между семейным положением и возвратом кредита в срок?"
   ]
  },
  {
   "cell_type": "markdown",
   "metadata": {
    "cellId": "5zwneois2uvw0lke4e8k5"
   },
   "source": [
    "По аналогии с предыдущим вопросом, создадим сводную таблицу, которая посчитает сколько людей имеют задолженность в зависимости от семейного положения:"
   ]
  },
  {
   "cell_type": "code",
   "execution_count": 27,
   "metadata": {
    "cellId": "goufw3j12cihmiszmnuefb"
   },
   "outputs": [
    {
     "data": {
      "text/html": [
       "<div>\n",
       "<style scoped>\n",
       "    .dataframe tbody tr th:only-of-type {\n",
       "        vertical-align: middle;\n",
       "    }\n",
       "\n",
       "    .dataframe tbody tr th {\n",
       "        vertical-align: top;\n",
       "    }\n",
       "\n",
       "    .dataframe thead th {\n",
       "        text-align: right;\n",
       "    }\n",
       "</style>\n",
       "<table border=\"1\" class=\"dataframe\">\n",
       "  <thead>\n",
       "    <tr style=\"text-align: right;\">\n",
       "      <th></th>\n",
       "      <th>debt</th>\n",
       "      <th>total</th>\n",
       "      <th>%</th>\n",
       "    </tr>\n",
       "    <tr>\n",
       "      <th>family_status</th>\n",
       "      <th></th>\n",
       "      <th></th>\n",
       "      <th></th>\n",
       "    </tr>\n",
       "  </thead>\n",
       "  <tbody>\n",
       "    <tr>\n",
       "      <td>женат / замужем</td>\n",
       "      <td>931</td>\n",
       "      <td>12339</td>\n",
       "      <td>0.075452</td>\n",
       "    </tr>\n",
       "    <tr>\n",
       "      <td>гражданский брак</td>\n",
       "      <td>388</td>\n",
       "      <td>4151</td>\n",
       "      <td>0.093471</td>\n",
       "    </tr>\n",
       "    <tr>\n",
       "      <td>Не женат / не замужем</td>\n",
       "      <td>274</td>\n",
       "      <td>2810</td>\n",
       "      <td>0.097509</td>\n",
       "    </tr>\n",
       "    <tr>\n",
       "      <td>в разводе</td>\n",
       "      <td>85</td>\n",
       "      <td>1195</td>\n",
       "      <td>0.071130</td>\n",
       "    </tr>\n",
       "    <tr>\n",
       "      <td>вдовец / вдова</td>\n",
       "      <td>63</td>\n",
       "      <td>959</td>\n",
       "      <td>0.065693</td>\n",
       "    </tr>\n",
       "  </tbody>\n",
       "</table>\n",
       "</div>"
      ],
      "text/plain": [
       "                       debt  total         %\n",
       "family_status                               \n",
       "женат / замужем         931  12339  0.075452\n",
       "гражданский брак        388   4151  0.093471\n",
       "Не женат / не замужем   274   2810  0.097509\n",
       "в разводе                85   1195  0.071130\n",
       "вдовец / вдова           63    959  0.065693"
      ]
     },
     "execution_count": 27,
     "metadata": {},
     "output_type": "execute_result"
    }
   ],
   "source": [
    "# создание сводной таблицы о количестве должников в зависимости от семейного положения\n",
    "report_family = data.pivot_table(index = ['family_status'], values = 'debt', aggfunc = ['sum', 'count', 'mean'])\n",
    "report_family.columns = ['debt', 'total', '%']\n",
    "report_family = report_family.sort_values(by = ['total'], ascending = False)\n",
    "report_family"
   ]
  },
  {
   "cell_type": "markdown",
   "metadata": {
    "cellId": "a74rrhcryloyyb620vnj4"
   },
   "source": [
    "**Вывод**"
   ]
  },
  {
   "cell_type": "markdown",
   "metadata": {
    "cellId": "taybj3mlmmz3tt4xc7utc"
   },
   "source": [
    "Видно, что наибольшее количество должников не женаты / не замужем (порядка 10%) и в гражданском браке (9,3%). Максимально ответственно к возврату кредита относятся вдовцы / вдовы (всего 6,5%). Анализируя данную выборку, можно сделать вывод, что кредит целесообразно давать женатым / замужним, так как их большинство и не высок процент должников (7,5%). Это может быть связано с тем, что на семью приходится 2 зарплаты (если взять идеальную ситуацию)."
   ]
  },
  {
   "cell_type": "markdown",
   "metadata": {
    "cellId": "en12mj5btknw2invu2v87d"
   },
   "source": [
    "### Есть ли зависимость между уровнем дохода и возвратом кредита в срок?"
   ]
  },
  {
   "cell_type": "markdown",
   "metadata": {
    "cellId": "pc9zh8hf72pmcllm29557p"
   },
   "source": [
    "Уже отточенным методом из прошлых вопросов, создадим сводную таблицу, которая посчитает сколько людей имеют задолженность в зависимости от уровня дохода:"
   ]
  },
  {
   "cell_type": "code",
   "execution_count": 28,
   "metadata": {
    "cellId": "1yl2cng441dmg6ussb1zbk"
   },
   "outputs": [
    {
     "data": {
      "text/html": [
       "<div>\n",
       "<style scoped>\n",
       "    .dataframe tbody tr th:only-of-type {\n",
       "        vertical-align: middle;\n",
       "    }\n",
       "\n",
       "    .dataframe tbody tr th {\n",
       "        vertical-align: top;\n",
       "    }\n",
       "\n",
       "    .dataframe thead th {\n",
       "        text-align: right;\n",
       "    }\n",
       "</style>\n",
       "<table border=\"1\" class=\"dataframe\">\n",
       "  <thead>\n",
       "    <tr style=\"text-align: right;\">\n",
       "      <th></th>\n",
       "      <th>debt</th>\n",
       "      <th>total</th>\n",
       "      <th>%</th>\n",
       "    </tr>\n",
       "    <tr>\n",
       "      <th>total_income_group</th>\n",
       "      <th></th>\n",
       "      <th></th>\n",
       "      <th></th>\n",
       "    </tr>\n",
       "  </thead>\n",
       "  <tbody>\n",
       "    <tr>\n",
       "      <td>предсредний класс</td>\n",
       "      <td>624</td>\n",
       "      <td>7160</td>\n",
       "      <td>0.087151</td>\n",
       "    </tr>\n",
       "    <tr>\n",
       "      <td>средний класс</td>\n",
       "      <td>569</td>\n",
       "      <td>7018</td>\n",
       "      <td>0.081077</td>\n",
       "    </tr>\n",
       "    <tr>\n",
       "      <td>нижний средний класс</td>\n",
       "      <td>354</td>\n",
       "      <td>4463</td>\n",
       "      <td>0.079319</td>\n",
       "    </tr>\n",
       "    <tr>\n",
       "      <td>верхний средний класс</td>\n",
       "      <td>180</td>\n",
       "      <td>2591</td>\n",
       "      <td>0.069471</td>\n",
       "    </tr>\n",
       "    <tr>\n",
       "      <td>состоятельный</td>\n",
       "      <td>12</td>\n",
       "      <td>197</td>\n",
       "      <td>0.060914</td>\n",
       "    </tr>\n",
       "    <tr>\n",
       "      <td>богатый</td>\n",
       "      <td>2</td>\n",
       "      <td>25</td>\n",
       "      <td>0.080000</td>\n",
       "    </tr>\n",
       "  </tbody>\n",
       "</table>\n",
       "</div>"
      ],
      "text/plain": [
       "                       debt  total         %\n",
       "total_income_group                          \n",
       "предсредний класс       624   7160  0.087151\n",
       "средний класс           569   7018  0.081077\n",
       "нижний средний класс    354   4463  0.079319\n",
       "верхний средний класс   180   2591  0.069471\n",
       "состоятельный            12    197  0.060914\n",
       "богатый                   2     25  0.080000"
      ]
     },
     "execution_count": 28,
     "metadata": {},
     "output_type": "execute_result"
    }
   ],
   "source": [
    "# создание сводной таблицы о количестве должников в зависимости от уровня дохода\n",
    "report_income = data.pivot_table(index = ['total_income_group'], values = 'debt', aggfunc = ['sum', 'count', 'mean'])\n",
    "report_income.columns = ['debt', 'total', '%']\n",
    "report_income = report_income.sort_values(by = ['total'], ascending = False)\n",
    "report_income"
   ]
  },
  {
   "cell_type": "markdown",
   "metadata": {
    "cellId": "90znkx8u0a97r9w2pifqmq"
   },
   "source": [
    "**Вывод**"
   ]
  },
  {
   "cell_type": "markdown",
   "metadata": {
    "cellId": "tp60ykybnca5nstxxpexb"
   },
   "source": [
    "Посмотрев на полученную таблицу, можно сделать вывод, что зависимость от дохода менее явная, чем от семейного положения или наличия детей. На удивление, состоятельные и богатые тоже не всегда платят вовремя. Основные группы клиентов это нижний средний, предсредний и средний класс. Процент должников у эти групп примерно одинаков: 8 - 8,5%. Состоятельных людей намного меньше, но они платят исправней (всего 6% должников). В целом, большинство клиентов возвращает кредит вовремя, хочется верить, что люди берут кредит, исходя из своих возможностей."
   ]
  },
  {
   "cell_type": "markdown",
   "metadata": {
    "cellId": "0ggysn0l1bevqaswcttn1iq"
   },
   "source": [
    "### Как разные цели кредита влияют на его возврат в срок?"
   ]
  },
  {
   "cell_type": "markdown",
   "metadata": {
    "cellId": "kke116kygtebtwtetwi64u"
   },
   "source": [
    "И наконец последний фактов, влияние которого нужно проверить. Строим уже известную нам сводную таблицу, которая посчитает сколько людей имеют задолженность в зависимости от цели кредита:"
   ]
  },
  {
   "cell_type": "code",
   "execution_count": 29,
   "metadata": {
    "cellId": "puctenjmh3i4nw2uzsz4hx"
   },
   "outputs": [
    {
     "data": {
      "text/html": [
       "<div>\n",
       "<style scoped>\n",
       "    .dataframe tbody tr th:only-of-type {\n",
       "        vertical-align: middle;\n",
       "    }\n",
       "\n",
       "    .dataframe tbody tr th {\n",
       "        vertical-align: top;\n",
       "    }\n",
       "\n",
       "    .dataframe thead th {\n",
       "        text-align: right;\n",
       "    }\n",
       "</style>\n",
       "<table border=\"1\" class=\"dataframe\">\n",
       "  <thead>\n",
       "    <tr style=\"text-align: right;\">\n",
       "      <th></th>\n",
       "      <th>debt</th>\n",
       "      <th>total</th>\n",
       "      <th>%</th>\n",
       "    </tr>\n",
       "    <tr>\n",
       "      <th>purpose_group</th>\n",
       "      <th></th>\n",
       "      <th></th>\n",
       "      <th></th>\n",
       "    </tr>\n",
       "  </thead>\n",
       "  <tbody>\n",
       "    <tr>\n",
       "      <td>жилье</td>\n",
       "      <td>782</td>\n",
       "      <td>10811</td>\n",
       "      <td>0.072334</td>\n",
       "    </tr>\n",
       "    <tr>\n",
       "      <td>автомобиль</td>\n",
       "      <td>403</td>\n",
       "      <td>4306</td>\n",
       "      <td>0.093590</td>\n",
       "    </tr>\n",
       "    <tr>\n",
       "      <td>образование</td>\n",
       "      <td>370</td>\n",
       "      <td>4013</td>\n",
       "      <td>0.092200</td>\n",
       "    </tr>\n",
       "    <tr>\n",
       "      <td>свадьба</td>\n",
       "      <td>186</td>\n",
       "      <td>2324</td>\n",
       "      <td>0.080034</td>\n",
       "    </tr>\n",
       "  </tbody>\n",
       "</table>\n",
       "</div>"
      ],
      "text/plain": [
       "               debt  total         %\n",
       "purpose_group                       \n",
       "жилье           782  10811  0.072334\n",
       "автомобиль      403   4306  0.093590\n",
       "образование     370   4013  0.092200\n",
       "свадьба         186   2324  0.080034"
      ]
     },
     "execution_count": 29,
     "metadata": {},
     "output_type": "execute_result"
    }
   ],
   "source": [
    "# создание сводной таблицы о количестве должников в зависимости от цели кредита\n",
    "report_purpose = data.pivot_table(index = ['purpose_group'], values = 'debt', aggfunc = ['sum', 'count', 'mean'])\n",
    "report_purpose.columns = ['debt', 'total', '%']\n",
    "report_purpose = report_purpose.sort_values(by = ['total'], ascending = False)\n",
    "report_purpose"
   ]
  },
  {
   "cell_type": "markdown",
   "metadata": {
    "cellId": "h52ujk61we6hvlrsw6kli"
   },
   "source": [
    "**Вывод**"
   ]
  },
  {
   "cell_type": "markdown",
   "metadata": {
    "cellId": "ek5p944zs5l896b0krq0dn"
   },
   "source": [
    "Большинство людей берут кредит на жилье (свое гнездышко - здорово) и очень ответственно платят по нему (всего 7,2 % должников). Больше всего должников у тех, кто берет кредит на автомобиль или образование (примерно 9,3% для каждых). Это может быть связано с тем, что автомобиль требует дополнительных вложений (ремонт, топливо), а образование не дает работать на полную ставку (больше инвестиция на будущее)."
   ]
  },
  {
   "cell_type": "markdown",
   "metadata": {
    "cellId": "mc0xmcbblqr2e84kw5mvmc"
   },
   "source": [
    "## Вывод"
   ]
  },
  {
   "cell_type": "markdown",
   "metadata": {
    "cellId": "8bwpxcyln96477mvhm25ax"
   },
   "source": [
    "Каждый фактор влияет на возврат кредита в срок. Проанализировав все зависимости, можно сделать вывод, что самое большое влияние на возврат кредита - это семейное положение. Вне зависимости от дохода, количество должников не сильно разнится. \n",
    "\n",
    "На мой взгляд, общий процент должников не так уж и высок, вне зависимости от любых факторов он не превышает 10%. Если составить портрет идеального заемщика, то человек должен быть женатый / замужней, в этой семье нет детей, кредит берут на жилье и доход чуть выше среднего."
   ]
  }
 ],
 "metadata": {
  "ExecuteTimeLog": [
   {
    "duration": 4,
    "start_time": "2021-12-08T10:25:36.677Z"
   },
   {
    "duration": 20,
    "start_time": "2021-12-08T10:25:36.684Z"
   },
   {
    "duration": 592,
    "start_time": "2021-12-08T10:25:36.707Z"
   },
   {
    "duration": 19,
    "start_time": "2021-12-08T10:25:37.300Z"
   },
   {
    "duration": 17,
    "start_time": "2021-12-08T10:25:37.321Z"
   },
   {
    "duration": 11,
    "start_time": "2021-12-08T10:25:37.340Z"
   },
   {
    "duration": 12,
    "start_time": "2021-12-08T10:25:37.353Z"
   },
   {
    "duration": 16,
    "start_time": "2021-12-08T10:25:37.367Z"
   },
   {
    "duration": 8,
    "start_time": "2021-12-08T10:25:37.385Z"
   },
   {
    "duration": 16,
    "start_time": "2021-12-08T10:25:37.395Z"
   },
   {
    "duration": 14,
    "start_time": "2021-12-08T10:25:37.413Z"
   },
   {
    "duration": 44,
    "start_time": "2021-12-08T10:25:37.429Z"
   },
   {
    "duration": 14,
    "start_time": "2021-12-08T10:25:37.475Z"
   },
   {
    "duration": 7,
    "start_time": "2021-12-08T10:25:37.491Z"
   },
   {
    "duration": 18,
    "start_time": "2021-12-08T10:25:37.499Z"
   },
   {
    "duration": 22,
    "start_time": "2021-12-08T10:25:37.519Z"
   },
   {
    "duration": 31,
    "start_time": "2021-12-08T10:25:37.564Z"
   },
   {
    "duration": 634,
    "start_time": "2021-12-08T10:25:37.597Z"
   },
   {
    "duration": 3521,
    "start_time": "2021-12-08T10:25:38.234Z"
   },
   {
    "duration": 16,
    "start_time": "2021-12-08T10:25:41.763Z"
   },
   {
    "duration": 240,
    "start_time": "2021-12-08T10:25:41.781Z"
   },
   {
    "duration": 7,
    "start_time": "2021-12-08T10:25:42.023Z"
   },
   {
    "duration": 237,
    "start_time": "2021-12-08T10:25:42.032Z"
   },
   {
    "duration": 12,
    "start_time": "2021-12-08T10:25:42.271Z"
   },
   {
    "duration": 33,
    "start_time": "2021-12-08T10:25:42.284Z"
   },
   {
    "duration": 48,
    "start_time": "2021-12-08T10:25:42.319Z"
   },
   {
    "duration": 30,
    "start_time": "2021-12-08T10:25:42.369Z"
   },
   {
    "duration": 29,
    "start_time": "2021-12-08T10:25:42.401Z"
   },
   {
    "duration": 81,
    "start_time": "2021-12-08T10:26:13.546Z"
   },
   {
    "duration": 11,
    "start_time": "2021-12-08T10:28:25.290Z"
   },
   {
    "duration": 4,
    "start_time": "2021-12-08T10:28:31.670Z"
   },
   {
    "duration": 11,
    "start_time": "2021-12-08T10:28:31.676Z"
   },
   {
    "duration": 685,
    "start_time": "2021-12-08T10:28:31.689Z"
   },
   {
    "duration": 22,
    "start_time": "2021-12-08T10:28:32.376Z"
   },
   {
    "duration": 50,
    "start_time": "2021-12-08T10:28:32.400Z"
   },
   {
    "duration": 23,
    "start_time": "2021-12-08T10:28:32.452Z"
   },
   {
    "duration": 36,
    "start_time": "2021-12-08T10:28:32.478Z"
   },
   {
    "duration": 54,
    "start_time": "2021-12-08T10:28:32.517Z"
   },
   {
    "duration": 55,
    "start_time": "2021-12-08T10:28:32.573Z"
   },
   {
    "duration": 50,
    "start_time": "2021-12-08T10:28:32.630Z"
   },
   {
    "duration": 73,
    "start_time": "2021-12-08T10:28:32.682Z"
   },
   {
    "duration": 40,
    "start_time": "2021-12-08T10:28:32.757Z"
   },
   {
    "duration": 19,
    "start_time": "2021-12-08T10:28:32.800Z"
   },
   {
    "duration": 17,
    "start_time": "2021-12-08T10:28:32.821Z"
   },
   {
    "duration": 8,
    "start_time": "2021-12-08T10:28:32.840Z"
   },
   {
    "duration": 34,
    "start_time": "2021-12-08T10:28:32.850Z"
   },
   {
    "duration": 38,
    "start_time": "2021-12-08T10:28:32.886Z"
   },
   {
    "duration": 38,
    "start_time": "2021-12-08T10:28:32.926Z"
   },
   {
    "duration": 685,
    "start_time": "2021-12-08T10:28:32.967Z"
   },
   {
    "duration": 3843,
    "start_time": "2021-12-08T10:28:33.654Z"
   },
   {
    "duration": 15,
    "start_time": "2021-12-08T10:28:37.500Z"
   },
   {
    "duration": 247,
    "start_time": "2021-12-08T10:28:37.517Z"
   },
   {
    "duration": 7,
    "start_time": "2021-12-08T10:28:37.766Z"
   },
   {
    "duration": 253,
    "start_time": "2021-12-08T10:28:37.775Z"
   },
   {
    "duration": 14,
    "start_time": "2021-12-08T10:28:38.030Z"
   },
   {
    "duration": 46,
    "start_time": "2021-12-08T10:28:38.046Z"
   },
   {
    "duration": 32,
    "start_time": "2021-12-08T10:28:38.095Z"
   },
   {
    "duration": 46,
    "start_time": "2021-12-08T10:28:38.128Z"
   },
   {
    "duration": 27,
    "start_time": "2021-12-08T10:28:38.176Z"
   },
   {
    "duration": 5,
    "start_time": "2021-12-09T06:24:58.121Z"
   },
   {
    "duration": 4,
    "start_time": "2021-12-09T06:24:58.129Z"
   },
   {
    "duration": 831,
    "start_time": "2021-12-09T06:24:58.136Z"
   },
   {
    "duration": 31,
    "start_time": "2021-12-09T06:24:58.970Z"
   },
   {
    "duration": 17,
    "start_time": "2021-12-09T06:24:59.005Z"
   },
   {
    "duration": 52,
    "start_time": "2021-12-09T06:24:59.025Z"
   },
   {
    "duration": 7,
    "start_time": "2021-12-09T06:24:59.079Z"
   },
   {
    "duration": 22,
    "start_time": "2021-12-09T06:24:59.092Z"
   },
   {
    "duration": 167,
    "start_time": "2021-12-09T06:24:59.118Z"
   },
   {
    "duration": 14,
    "start_time": "2021-12-09T06:24:59.287Z"
   },
   {
    "duration": 21,
    "start_time": "2021-12-09T06:24:59.304Z"
   },
   {
    "duration": 48,
    "start_time": "2021-12-09T06:24:59.328Z"
   },
   {
    "duration": 26,
    "start_time": "2021-12-09T06:24:59.379Z"
   },
   {
    "duration": 56,
    "start_time": "2021-12-09T06:24:59.408Z"
   },
   {
    "duration": 11,
    "start_time": "2021-12-09T06:24:59.467Z"
   },
   {
    "duration": 26,
    "start_time": "2021-12-09T06:24:59.481Z"
   },
   {
    "duration": 58,
    "start_time": "2021-12-09T06:24:59.510Z"
   },
   {
    "duration": 40,
    "start_time": "2021-12-09T06:24:59.571Z"
   },
   {
    "duration": 3384,
    "start_time": "2021-12-09T06:24:59.613Z"
   },
   {
    "duration": 5402,
    "start_time": "2021-12-09T06:25:03.000Z"
   },
   {
    "duration": 20,
    "start_time": "2021-12-09T06:25:08.404Z"
   },
   {
    "duration": 421,
    "start_time": "2021-12-09T06:25:08.427Z"
   },
   {
    "duration": 15,
    "start_time": "2021-12-09T06:25:08.852Z"
   },
   {
    "duration": 413,
    "start_time": "2021-12-09T06:25:08.870Z"
   },
   {
    "duration": 23,
    "start_time": "2021-12-09T06:25:09.286Z"
   },
   {
    "duration": 77,
    "start_time": "2021-12-09T06:25:09.312Z"
   },
   {
    "duration": 69,
    "start_time": "2021-12-09T06:25:09.392Z"
   },
   {
    "duration": 44,
    "start_time": "2021-12-09T06:25:09.463Z"
   },
   {
    "duration": 63,
    "start_time": "2021-12-09T06:25:09.509Z"
   },
   {
    "duration": 49,
    "start_time": "2022-07-08T09:30:59.334Z"
   },
   {
    "duration": 493,
    "start_time": "2022-07-08T09:31:02.366Z"
   },
   {
    "duration": 25,
    "start_time": "2022-07-08T09:31:04.639Z"
   }
  ],
  "kernelspec": {
   "display_name": "Python 3 (ipykernel)",
   "language": "python",
   "name": "python3"
  },
  "language_info": {
   "codemirror_mode": {
    "name": "ipython",
    "version": 3
   },
   "file_extension": ".py",
   "mimetype": "text/x-python",
   "name": "python",
   "nbconvert_exporter": "python",
   "pygments_lexer": "ipython3",
   "version": "3.9.5"
  },
  "notebookId": "a07a12e4-ba56-4671-ada2-cd6ecd244a0d",
  "notebookPath": "977f205d-c6bc-49dc-9304-23e347f3e00f.ipynb",
  "toc": {
   "base_numbering": 1,
   "nav_menu": {},
   "number_sections": true,
   "sideBar": true,
   "skip_h1_title": true,
   "title_cell": "Table of Contents",
   "title_sidebar": "Contents",
   "toc_cell": true,
   "toc_position": {},
   "toc_section_display": true,
   "toc_window_display": true
  }
 },
 "nbformat": 4,
 "nbformat_minor": 4
}
